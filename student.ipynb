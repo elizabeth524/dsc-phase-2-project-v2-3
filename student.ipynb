{
 "cells": [
  {
   "cell_type": "markdown",
   "metadata": {
    "ExecuteTime": {
     "end_time": "2022-03-01T18:12:47.941796Z",
     "start_time": "2022-03-01T18:12:47.927556Z"
    }
   },
   "source": [
    "# Final Project Submission\n",
    "\n",
    "Please fill out:\n",
    "* Student name: Elizabeth Webster\n",
    "* Student pace: self paced\n",
    "* Scheduled project review date/time: \n",
    "* Instructor name: Abhineet Kulkarni\n",
    "* Blog post URL:"
   ]
  },
  {
   "cell_type": "markdown",
   "metadata": {
    "toc": true
   },
   "source": [
    "<h1>Table of Contents<span class=\"tocSkip\"></span></h1>\n",
    "<div class=\"toc\"><ul class=\"toc-item\"><li><span><a href=\"#Final-Project-Submission\" data-toc-modified-id=\"Final-Project-Submission-1\">Final Project Submission</a></span></li><li><span><a href=\"#Overview\" data-toc-modified-id=\"Overview-2\">Overview</a></span></li><li><span><a href=\"#Business-Problem-and-Stakeholders\" data-toc-modified-id=\"Business-Problem-and-Stakeholders-3\">Business Problem and Stakeholders</a></span></li><li><span><a href=\"#Importing-and-Understanding-the-Data\" data-toc-modified-id=\"Importing-and-Understanding-the-Data-4\">Importing and Understanding the Data</a></span></li><li><span><a href=\"#Data-Cleaning\" data-toc-modified-id=\"Data-Cleaning-5\">Data Cleaning</a></span><ul class=\"toc-item\"><li><span><a href=\"#Find-and-Fill-Missing-Data\" data-toc-modified-id=\"Find-and-Fill-Missing-Data-5.1\">Find and Fill Missing Data</a></span><ul class=\"toc-item\"><li><span><a href=\"#Waterfront\" data-toc-modified-id=\"Waterfront-5.1.1\">Waterfront</a></span></li><li><span><a href=\"#Year-Renovated\" data-toc-modified-id=\"Year-Renovated-5.1.2\">Year Renovated</a></span></li></ul></li><li><span><a href=\"#Explore-Target-Variable\" data-toc-modified-id=\"Explore-Target-Variable-5.2\">Explore Target Variable</a></span></li><li><span><a href=\"#Change-Categorical-to-Numeric-Values\" data-toc-modified-id=\"Change-Categorical-to-Numeric-Values-5.3\">Change Categorical to Numeric Values</a></span><ul class=\"toc-item\"><li><span><a href=\"#Waterfront\" data-toc-modified-id=\"Waterfront-5.3.1\">Waterfront</a></span></li><li><span><a href=\"#Grade\" data-toc-modified-id=\"Grade-5.3.2\">Grade</a></span></li><li><span><a href=\"#Condition\" data-toc-modified-id=\"Condition-5.3.3\">Condition</a></span></li><li><span><a href=\"#Zipcode\" data-toc-modified-id=\"Zipcode-5.3.4\">Zipcode</a></span></li></ul></li><li><span><a href=\"#House-Age\" data-toc-modified-id=\"House-Age-5.4\">House Age</a></span></li></ul></li><li><span><a href=\"#Creating-Models\" data-toc-modified-id=\"Creating-Models-6\">Creating Models</a></span><ul class=\"toc-item\"><li><span><a href=\"#Create-a-Baseline-Model\" data-toc-modified-id=\"Create-a-Baseline-Model-6.1\">Create a Baseline Model</a></span></li><li><span><a href=\"#Second-Model\" data-toc-modified-id=\"Second-Model-6.2\">Second Model</a></span></li><li><span><a href=\"#Third-Model\" data-toc-modified-id=\"Third-Model-6.3\">Third Model</a></span><ul class=\"toc-item\"><li><span><a href=\"#Multicolinearity\" data-toc-modified-id=\"Multicolinearity-6.3.1\">Multicolinearity</a></span></li><li><span><a href=\"#Checking-for-Normal-Distribution\" data-toc-modified-id=\"Checking-for-Normal-Distribution-6.3.2\">Checking for Normal Distribution</a></span></li><li><span><a href=\"#Create-a-New-Model\" data-toc-modified-id=\"Create-a-New-Model-6.3.3\">Create a New Model</a></span></li></ul></li><li><span><a href=\"#Final-Model\" data-toc-modified-id=\"Final-Model-6.4\">Final Model</a></span></li></ul></li><li><span><a href=\"#Create-Functions-for-and-Check-Assumptions\" data-toc-modified-id=\"Create-Functions-for-and-Check-Assumptions-7\">Create Functions for and Check Assumptions</a></span><ul class=\"toc-item\"><li><span><a href=\"#Linearity\" data-toc-modified-id=\"Linearity-7.1\">Linearity</a></span></li><li><span><a href=\"#Multicolinearity\" data-toc-modified-id=\"Multicolinearity-7.2\">Multicolinearity</a></span></li><li><span><a href=\"#Normality\" data-toc-modified-id=\"Normality-7.3\">Normality</a></span></li><li><span><a href=\"#Homoscedasticity\" data-toc-modified-id=\"Homoscedasticity-7.4\">Homoscedasticity</a></span></li></ul></li><li><span><a href=\"#Interpreting-the-Coefficients\" data-toc-modified-id=\"Interpreting-the-Coefficients-8\">Interpreting the Coefficients</a></span><ul class=\"toc-item\"><li><span><a href=\"#Log-Transformation-Effects-on-Coefficients\" data-toc-modified-id=\"Log-Transformation-Effects-on-Coefficients-8.1\">Log Transformation Effects on Coefficients</a></span></li><li><span><a href=\"#Zipcodes\" data-toc-modified-id=\"Zipcodes-8.2\">Zipcodes</a></span></li></ul></li><li><span><a href=\"#Conclusion\" data-toc-modified-id=\"Conclusion-9\">Conclusion</a></span><ul class=\"toc-item\"><li><span><a href=\"#Next-Steps\" data-toc-modified-id=\"Next-Steps-9.1\">Next Steps</a></span></li></ul></li></ul></div>"
   ]
  },
  {
   "cell_type": "markdown",
   "metadata": {},
   "source": [
    "# Overview"
   ]
  },
  {
   "cell_type": "markdown",
   "metadata": {},
   "source": [
    "This project uses linear regression analysis to understand how certain variables impact housing prices in King County. We will be building different models in order to create the most accurate coefficients and the highest R-squared value."
   ]
  },
  {
   "cell_type": "markdown",
   "metadata": {},
   "source": [
    "# Business Problem and Stakeholders"
   ]
  },
  {
   "cell_type": "markdown",
   "metadata": {},
   "source": [
    "This data is being prepared for a Real Estate group in King County that wants to understand how zipcodes affect the price of houses.  They are hoping to use this information to help potential buyers find a home in their price range by narrowing down the neighborhoods in which to search. "
   ]
  },
  {
   "cell_type": "markdown",
   "metadata": {},
   "source": [
    "# Importing and Understanding the Data"
   ]
  },
  {
   "cell_type": "code",
   "execution_count": 151,
   "metadata": {
    "ExecuteTime": {
     "end_time": "2022-03-01T16:50:11.030994Z",
     "start_time": "2022-03-01T16:50:10.990465Z"
    }
   },
   "outputs": [],
   "source": [
    "# Import needed libraries\n",
    "import pandas as pd\n",
    "import numpy as np\n",
    "import matplotlib.pyplot as plt\n",
    "%matplotlib inline\n",
    "import seaborn as sns\n",
    "import warnings\n",
    "warnings.filterwarnings('ignore')\n",
    "import scipy.stats as stats\n",
    "from sklearn.preprocessing import OrdinalEncoder\n",
    "import statsmodels.api as sm\n",
    "from statsmodels.formula.api import ols\n",
    "from statsmodels.stats.outliers_influence import variance_inflation_factor\n",
    "from sklearn.model_selection import train_test_split\n",
    "from sklearn.linear_model import LinearRegression\n",
    "from sklearn.feature_selection import RFE"
   ]
  },
  {
   "cell_type": "code",
   "execution_count": 152,
   "metadata": {
    "ExecuteTime": {
     "end_time": "2022-03-01T16:50:11.104854Z",
     "start_time": "2022-03-01T16:50:11.033063Z"
    }
   },
   "outputs": [
    {
     "data": {
      "text/html": [
       "<div>\n",
       "<style scoped>\n",
       "    .dataframe tbody tr th:only-of-type {\n",
       "        vertical-align: middle;\n",
       "    }\n",
       "\n",
       "    .dataframe tbody tr th {\n",
       "        vertical-align: top;\n",
       "    }\n",
       "\n",
       "    .dataframe thead th {\n",
       "        text-align: right;\n",
       "    }\n",
       "</style>\n",
       "<table border=\"1\" class=\"dataframe\">\n",
       "  <thead>\n",
       "    <tr style=\"text-align: right;\">\n",
       "      <th></th>\n",
       "      <th>id</th>\n",
       "      <th>date</th>\n",
       "      <th>price</th>\n",
       "      <th>bedrooms</th>\n",
       "      <th>bathrooms</th>\n",
       "      <th>sqft_living</th>\n",
       "      <th>sqft_lot</th>\n",
       "      <th>floors</th>\n",
       "      <th>waterfront</th>\n",
       "      <th>view</th>\n",
       "      <th>...</th>\n",
       "      <th>grade</th>\n",
       "      <th>sqft_above</th>\n",
       "      <th>sqft_basement</th>\n",
       "      <th>yr_built</th>\n",
       "      <th>yr_renovated</th>\n",
       "      <th>zipcode</th>\n",
       "      <th>lat</th>\n",
       "      <th>long</th>\n",
       "      <th>sqft_living15</th>\n",
       "      <th>sqft_lot15</th>\n",
       "    </tr>\n",
       "  </thead>\n",
       "  <tbody>\n",
       "    <tr>\n",
       "      <th>0</th>\n",
       "      <td>7129300520</td>\n",
       "      <td>10/13/2014</td>\n",
       "      <td>221900.0</td>\n",
       "      <td>3</td>\n",
       "      <td>1.00</td>\n",
       "      <td>1180</td>\n",
       "      <td>5650</td>\n",
       "      <td>1.0</td>\n",
       "      <td>NaN</td>\n",
       "      <td>NONE</td>\n",
       "      <td>...</td>\n",
       "      <td>7 Average</td>\n",
       "      <td>1180</td>\n",
       "      <td>0.0</td>\n",
       "      <td>1955</td>\n",
       "      <td>0.0</td>\n",
       "      <td>98178</td>\n",
       "      <td>47.5112</td>\n",
       "      <td>-122.257</td>\n",
       "      <td>1340</td>\n",
       "      <td>5650</td>\n",
       "    </tr>\n",
       "    <tr>\n",
       "      <th>1</th>\n",
       "      <td>6414100192</td>\n",
       "      <td>12/9/2014</td>\n",
       "      <td>538000.0</td>\n",
       "      <td>3</td>\n",
       "      <td>2.25</td>\n",
       "      <td>2570</td>\n",
       "      <td>7242</td>\n",
       "      <td>2.0</td>\n",
       "      <td>NO</td>\n",
       "      <td>NONE</td>\n",
       "      <td>...</td>\n",
       "      <td>7 Average</td>\n",
       "      <td>2170</td>\n",
       "      <td>400.0</td>\n",
       "      <td>1951</td>\n",
       "      <td>1991.0</td>\n",
       "      <td>98125</td>\n",
       "      <td>47.7210</td>\n",
       "      <td>-122.319</td>\n",
       "      <td>1690</td>\n",
       "      <td>7639</td>\n",
       "    </tr>\n",
       "    <tr>\n",
       "      <th>2</th>\n",
       "      <td>5631500400</td>\n",
       "      <td>2/25/2015</td>\n",
       "      <td>180000.0</td>\n",
       "      <td>2</td>\n",
       "      <td>1.00</td>\n",
       "      <td>770</td>\n",
       "      <td>10000</td>\n",
       "      <td>1.0</td>\n",
       "      <td>NO</td>\n",
       "      <td>NONE</td>\n",
       "      <td>...</td>\n",
       "      <td>6 Low Average</td>\n",
       "      <td>770</td>\n",
       "      <td>0.0</td>\n",
       "      <td>1933</td>\n",
       "      <td>NaN</td>\n",
       "      <td>98028</td>\n",
       "      <td>47.7379</td>\n",
       "      <td>-122.233</td>\n",
       "      <td>2720</td>\n",
       "      <td>8062</td>\n",
       "    </tr>\n",
       "    <tr>\n",
       "      <th>3</th>\n",
       "      <td>2487200875</td>\n",
       "      <td>12/9/2014</td>\n",
       "      <td>604000.0</td>\n",
       "      <td>4</td>\n",
       "      <td>3.00</td>\n",
       "      <td>1960</td>\n",
       "      <td>5000</td>\n",
       "      <td>1.0</td>\n",
       "      <td>NO</td>\n",
       "      <td>NONE</td>\n",
       "      <td>...</td>\n",
       "      <td>7 Average</td>\n",
       "      <td>1050</td>\n",
       "      <td>910.0</td>\n",
       "      <td>1965</td>\n",
       "      <td>0.0</td>\n",
       "      <td>98136</td>\n",
       "      <td>47.5208</td>\n",
       "      <td>-122.393</td>\n",
       "      <td>1360</td>\n",
       "      <td>5000</td>\n",
       "    </tr>\n",
       "    <tr>\n",
       "      <th>4</th>\n",
       "      <td>1954400510</td>\n",
       "      <td>2/18/2015</td>\n",
       "      <td>510000.0</td>\n",
       "      <td>3</td>\n",
       "      <td>2.00</td>\n",
       "      <td>1680</td>\n",
       "      <td>8080</td>\n",
       "      <td>1.0</td>\n",
       "      <td>NO</td>\n",
       "      <td>NONE</td>\n",
       "      <td>...</td>\n",
       "      <td>8 Good</td>\n",
       "      <td>1680</td>\n",
       "      <td>0.0</td>\n",
       "      <td>1987</td>\n",
       "      <td>0.0</td>\n",
       "      <td>98074</td>\n",
       "      <td>47.6168</td>\n",
       "      <td>-122.045</td>\n",
       "      <td>1800</td>\n",
       "      <td>7503</td>\n",
       "    </tr>\n",
       "  </tbody>\n",
       "</table>\n",
       "<p>5 rows × 21 columns</p>\n",
       "</div>"
      ],
      "text/plain": [
       "           id        date     price  bedrooms  bathrooms  sqft_living  \\\n",
       "0  7129300520  10/13/2014  221900.0         3       1.00         1180   \n",
       "1  6414100192   12/9/2014  538000.0         3       2.25         2570   \n",
       "2  5631500400   2/25/2015  180000.0         2       1.00          770   \n",
       "3  2487200875   12/9/2014  604000.0         4       3.00         1960   \n",
       "4  1954400510   2/18/2015  510000.0         3       2.00         1680   \n",
       "\n",
       "   sqft_lot  floors waterfront  view  ...          grade sqft_above  \\\n",
       "0      5650     1.0        NaN  NONE  ...      7 Average       1180   \n",
       "1      7242     2.0         NO  NONE  ...      7 Average       2170   \n",
       "2     10000     1.0         NO  NONE  ...  6 Low Average        770   \n",
       "3      5000     1.0         NO  NONE  ...      7 Average       1050   \n",
       "4      8080     1.0         NO  NONE  ...         8 Good       1680   \n",
       "\n",
       "   sqft_basement yr_built  yr_renovated  zipcode      lat     long  \\\n",
       "0            0.0     1955           0.0    98178  47.5112 -122.257   \n",
       "1          400.0     1951        1991.0    98125  47.7210 -122.319   \n",
       "2            0.0     1933           NaN    98028  47.7379 -122.233   \n",
       "3          910.0     1965           0.0    98136  47.5208 -122.393   \n",
       "4            0.0     1987           0.0    98074  47.6168 -122.045   \n",
       "\n",
       "   sqft_living15  sqft_lot15  \n",
       "0           1340        5650  \n",
       "1           1690        7639  \n",
       "2           2720        8062  \n",
       "3           1360        5000  \n",
       "4           1800        7503  \n",
       "\n",
       "[5 rows x 21 columns]"
      ]
     },
     "execution_count": 152,
     "metadata": {},
     "output_type": "execute_result"
    }
   ],
   "source": [
    "# Import raw data from csv file\n",
    "raw_data = pd.read_csv('data/kc_house_data.csv')\n",
    "raw_data.head()"
   ]
  },
  {
   "cell_type": "code",
   "execution_count": 153,
   "metadata": {
    "ExecuteTime": {
     "end_time": "2022-03-01T16:50:11.132844Z",
     "start_time": "2022-03-01T16:50:11.106454Z"
    }
   },
   "outputs": [
    {
     "data": {
      "text/html": [
       "<div>\n",
       "<style scoped>\n",
       "    .dataframe tbody tr th:only-of-type {\n",
       "        vertical-align: middle;\n",
       "    }\n",
       "\n",
       "    .dataframe tbody tr th {\n",
       "        vertical-align: top;\n",
       "    }\n",
       "\n",
       "    .dataframe thead th {\n",
       "        text-align: right;\n",
       "    }\n",
       "</style>\n",
       "<table border=\"1\" class=\"dataframe\">\n",
       "  <thead>\n",
       "    <tr style=\"text-align: right;\">\n",
       "      <th></th>\n",
       "      <th>date</th>\n",
       "      <th>price</th>\n",
       "      <th>bedrooms</th>\n",
       "      <th>bathrooms</th>\n",
       "      <th>sqft_living</th>\n",
       "      <th>sqft_lot</th>\n",
       "      <th>floors</th>\n",
       "      <th>waterfront</th>\n",
       "      <th>condition</th>\n",
       "      <th>grade</th>\n",
       "      <th>yr_built</th>\n",
       "      <th>yr_renovated</th>\n",
       "      <th>zipcode</th>\n",
       "    </tr>\n",
       "  </thead>\n",
       "  <tbody>\n",
       "    <tr>\n",
       "      <th>0</th>\n",
       "      <td>10/13/2014</td>\n",
       "      <td>221900.0</td>\n",
       "      <td>3</td>\n",
       "      <td>1.00</td>\n",
       "      <td>1180</td>\n",
       "      <td>5650</td>\n",
       "      <td>1.0</td>\n",
       "      <td>NaN</td>\n",
       "      <td>Average</td>\n",
       "      <td>7 Average</td>\n",
       "      <td>1955</td>\n",
       "      <td>0.0</td>\n",
       "      <td>98178</td>\n",
       "    </tr>\n",
       "    <tr>\n",
       "      <th>1</th>\n",
       "      <td>12/9/2014</td>\n",
       "      <td>538000.0</td>\n",
       "      <td>3</td>\n",
       "      <td>2.25</td>\n",
       "      <td>2570</td>\n",
       "      <td>7242</td>\n",
       "      <td>2.0</td>\n",
       "      <td>NO</td>\n",
       "      <td>Average</td>\n",
       "      <td>7 Average</td>\n",
       "      <td>1951</td>\n",
       "      <td>1991.0</td>\n",
       "      <td>98125</td>\n",
       "    </tr>\n",
       "    <tr>\n",
       "      <th>2</th>\n",
       "      <td>2/25/2015</td>\n",
       "      <td>180000.0</td>\n",
       "      <td>2</td>\n",
       "      <td>1.00</td>\n",
       "      <td>770</td>\n",
       "      <td>10000</td>\n",
       "      <td>1.0</td>\n",
       "      <td>NO</td>\n",
       "      <td>Average</td>\n",
       "      <td>6 Low Average</td>\n",
       "      <td>1933</td>\n",
       "      <td>NaN</td>\n",
       "      <td>98028</td>\n",
       "    </tr>\n",
       "    <tr>\n",
       "      <th>3</th>\n",
       "      <td>12/9/2014</td>\n",
       "      <td>604000.0</td>\n",
       "      <td>4</td>\n",
       "      <td>3.00</td>\n",
       "      <td>1960</td>\n",
       "      <td>5000</td>\n",
       "      <td>1.0</td>\n",
       "      <td>NO</td>\n",
       "      <td>Very Good</td>\n",
       "      <td>7 Average</td>\n",
       "      <td>1965</td>\n",
       "      <td>0.0</td>\n",
       "      <td>98136</td>\n",
       "    </tr>\n",
       "    <tr>\n",
       "      <th>4</th>\n",
       "      <td>2/18/2015</td>\n",
       "      <td>510000.0</td>\n",
       "      <td>3</td>\n",
       "      <td>2.00</td>\n",
       "      <td>1680</td>\n",
       "      <td>8080</td>\n",
       "      <td>1.0</td>\n",
       "      <td>NO</td>\n",
       "      <td>Average</td>\n",
       "      <td>8 Good</td>\n",
       "      <td>1987</td>\n",
       "      <td>0.0</td>\n",
       "      <td>98074</td>\n",
       "    </tr>\n",
       "  </tbody>\n",
       "</table>\n",
       "</div>"
      ],
      "text/plain": [
       "         date     price  bedrooms  bathrooms  sqft_living  sqft_lot  floors  \\\n",
       "0  10/13/2014  221900.0         3       1.00         1180      5650     1.0   \n",
       "1   12/9/2014  538000.0         3       2.25         2570      7242     2.0   \n",
       "2   2/25/2015  180000.0         2       1.00          770     10000     1.0   \n",
       "3   12/9/2014  604000.0         4       3.00         1960      5000     1.0   \n",
       "4   2/18/2015  510000.0         3       2.00         1680      8080     1.0   \n",
       "\n",
       "  waterfront  condition          grade  yr_built  yr_renovated  zipcode  \n",
       "0        NaN    Average      7 Average      1955           0.0    98178  \n",
       "1         NO    Average      7 Average      1951        1991.0    98125  \n",
       "2         NO    Average  6 Low Average      1933           NaN    98028  \n",
       "3         NO  Very Good      7 Average      1965           0.0    98136  \n",
       "4         NO    Average         8 Good      1987           0.0    98074  "
      ]
     },
     "execution_count": 153,
     "metadata": {},
     "output_type": "execute_result"
    }
   ],
   "source": [
    "# Remove irrelevant data columns\n",
    "irrelevant_data = ['view', 'id', 'sqft_above', 'sqft_basement',\n",
    "                   'lat', 'long', 'sqft_living15', 'sqft_lot15']\n",
    "df = raw_data.drop(irrelevant_data, axis=1)\n",
    "df.head()"
   ]
  },
  {
   "cell_type": "code",
   "execution_count": 154,
   "metadata": {
    "ExecuteTime": {
     "end_time": "2022-03-01T16:50:17.144914Z",
     "start_time": "2022-03-01T16:50:11.134668Z"
    }
   },
   "outputs": [
    {
     "data": {
      "image/png": "[encoded data removed]",
      "text/plain": [
       "<Figure size 1080x1080 with 81 Axes>"
      ]
     },
     "metadata": {
      "needs_background": "light"
     },
     "output_type": "display_data"
    }
   ],
   "source": [
    "# Use a scatter matrix to explore interactions between variables\n",
    "pd.plotting.scatter_matrix(df, figsize=(15,15));"
   ]
  },
  {
   "cell_type": "code",
   "execution_count": 155,
   "metadata": {
    "ExecuteTime": {
     "end_time": "2022-03-01T16:50:17.154776Z",
     "start_time": "2022-03-01T16:50:17.145963Z"
    },
    "scrolled": true
   },
   "outputs": [
    {
     "name": "stdout",
     "output_type": "stream",
     "text": [
      "<class 'pandas.core.frame.DataFrame'>\n",
      "RangeIndex: 21597 entries, 0 to 21596\n",
      "Data columns (total 13 columns):\n",
      " #   Column        Non-Null Count  Dtype  \n",
      "---  ------        --------------  -----  \n",
      " 0   date          21597 non-null  object \n",
      " 1   price         21597 non-null  float64\n",
      " 2   bedrooms      21597 non-null  int64  \n",
      " 3   bathrooms     21597 non-null  float64\n",
      " 4   sqft_living   21597 non-null  int64  \n",
      " 5   sqft_lot      21597 non-null  int64  \n",
      " 6   floors        21597 non-null  float64\n",
      " 7   waterfront    19221 non-null  object \n",
      " 8   condition     21597 non-null  object \n",
      " 9   grade         21597 non-null  object \n",
      " 10  yr_built      21597 non-null  int64  \n",
      " 11  yr_renovated  17755 non-null  float64\n",
      " 12  zipcode       21597 non-null  int64  \n",
      "dtypes: float64(4), int64(5), object(4)\n",
      "memory usage: 2.1+ MB\n"
     ]
    }
   ],
   "source": [
    "# Explore relevant data\n",
    "df.info()"
   ]
  },
  {
   "cell_type": "markdown",
   "metadata": {},
   "source": [
    "As we can see, there is some data filling and cleaning that needs to be done before we can use this data to create our multiple linear regression models."
   ]
  },
  {
   "cell_type": "markdown",
   "metadata": {},
   "source": [
    "# Data Cleaning"
   ]
  },
  {
   "cell_type": "markdown",
   "metadata": {},
   "source": [
    "## Find and Fill Missing Data"
   ]
  },
  {
   "cell_type": "code",
   "execution_count": 156,
   "metadata": {
    "ExecuteTime": {
     "end_time": "2022-03-01T16:50:17.162078Z",
     "start_time": "2022-03-01T16:50:17.155720Z"
    },
    "scrolled": true
   },
   "outputs": [
    {
     "data": {
      "text/plain": [
       "date               0\n",
       "price              0\n",
       "bedrooms           0\n",
       "bathrooms          0\n",
       "sqft_living        0\n",
       "sqft_lot           0\n",
       "floors             0\n",
       "waterfront      2376\n",
       "condition          0\n",
       "grade              0\n",
       "yr_built           0\n",
       "yr_renovated    3842\n",
       "zipcode            0\n",
       "dtype: int64"
      ]
     },
     "execution_count": 156,
     "metadata": {},
     "output_type": "execute_result"
    }
   ],
   "source": [
    "# Find missing data in dataset\n",
    "df.isna().sum()"
   ]
  },
  {
   "cell_type": "markdown",
   "metadata": {},
   "source": [
    "There is missing data in 'waterfront' and 'yr_renovated'."
   ]
  },
  {
   "cell_type": "markdown",
   "metadata": {},
   "source": [
    "### Waterfront"
   ]
  },
  {
   "cell_type": "code",
   "execution_count": 157,
   "metadata": {
    "ExecuteTime": {
     "end_time": "2022-03-01T16:50:17.166093Z",
     "start_time": "2022-03-01T16:50:17.163039Z"
    }
   },
   "outputs": [
    {
     "data": {
      "text/plain": [
       "array([nan, 'NO', 'YES'], dtype=object)"
      ]
     },
     "execution_count": 157,
     "metadata": {},
     "output_type": "execute_result"
    }
   ],
   "source": [
    "# Check unique values in waterfront variable\n",
    "df.waterfront.unique()"
   ]
  },
  {
   "cell_type": "code",
   "execution_count": 158,
   "metadata": {
    "ExecuteTime": {
     "end_time": "2022-03-01T16:50:17.170056Z",
     "start_time": "2022-03-01T16:50:17.167004Z"
    }
   },
   "outputs": [],
   "source": [
    "# We will assume that a NaN value means there is no waterfront\n",
    "# Fill the NaN values with 'NO'\n",
    "df.waterfront.fillna('NO', inplace=True)"
   ]
  },
  {
   "cell_type": "markdown",
   "metadata": {},
   "source": [
    "### Year Renovated"
   ]
  },
  {
   "cell_type": "code",
   "execution_count": 159,
   "metadata": {
    "ExecuteTime": {
     "end_time": "2022-03-01T16:50:17.177463Z",
     "start_time": "2022-03-01T16:50:17.173186Z"
    }
   },
   "outputs": [
    {
     "data": {
      "text/plain": [
       "array([   0., 1991.,   nan, 2002., 2010., 1992., 2013., 1994., 1978.,\n",
       "       2005., 2003., 1984., 1954., 2014., 2011., 1983., 1945., 1990.,\n",
       "       1988., 1977., 1981., 1995., 2000., 1999., 1998., 1970., 1989.,\n",
       "       2004., 1986., 2007., 1987., 2006., 1985., 2001., 1980., 1971.,\n",
       "       1979., 1997., 1950., 1969., 1948., 2009., 2015., 1974., 2008.,\n",
       "       1968., 2012., 1963., 1951., 1962., 1953., 1993., 1996., 1955.,\n",
       "       1982., 1956., 1940., 1976., 1946., 1975., 1964., 1973., 1957.,\n",
       "       1959., 1960., 1967., 1965., 1934., 1972., 1944., 1958.])"
      ]
     },
     "execution_count": 159,
     "metadata": {},
     "output_type": "execute_result"
    }
   ],
   "source": [
    "# Check unique values for year renovated\n",
    "df.yr_renovated.unique()"
   ]
  },
  {
   "cell_type": "code",
   "execution_count": 160,
   "metadata": {
    "ExecuteTime": {
     "end_time": "2022-03-01T16:50:17.181665Z",
     "start_time": "2022-03-01T16:50:17.179604Z"
    }
   },
   "outputs": [],
   "source": [
    "# We will assume that a NaN value means there has been no renovation\n",
    "# Fill the NaN values with 0\n",
    "df.yr_renovated.fillna(0, inplace=True)"
   ]
  },
  {
   "cell_type": "code",
   "execution_count": 161,
   "metadata": {
    "ExecuteTime": {
     "end_time": "2022-03-01T16:50:17.186217Z",
     "start_time": "2022-03-01T16:50:17.182521Z"
    }
   },
   "outputs": [
    {
     "data": {
      "text/plain": [
       "0.0       20853\n",
       "2014.0       73\n",
       "2003.0       31\n",
       "2013.0       31\n",
       "2007.0       30\n",
       "          ...  \n",
       "1946.0        1\n",
       "1959.0        1\n",
       "1971.0        1\n",
       "1951.0        1\n",
       "1954.0        1\n",
       "Name: yr_renovated, Length: 70, dtype: int64"
      ]
     },
     "execution_count": 161,
     "metadata": {},
     "output_type": "execute_result"
    }
   ],
   "source": [
    "# Check the value counts\n",
    "df.yr_renovated.value_counts()"
   ]
  },
  {
   "cell_type": "markdown",
   "metadata": {},
   "source": [
    "Most of the houses in the dataset have not been renovated.  Instead of having the year for each renovation, we will created a new variable called 'renovated' that has a value of 0 for a house without renovations and a value of 1 for a renovated house."
   ]
  },
  {
   "cell_type": "code",
   "execution_count": 162,
   "metadata": {
    "ExecuteTime": {
     "end_time": "2022-03-01T16:50:17.189513Z",
     "start_time": "2022-03-01T16:50:17.187224Z"
    }
   },
   "outputs": [],
   "source": [
    "# Create a column 'renovated' and set all values to 0\n",
    "df['renovated'] = 0"
   ]
  },
  {
   "cell_type": "code",
   "execution_count": 163,
   "metadata": {
    "ExecuteTime": {
     "end_time": "2022-03-01T16:50:17.194212Z",
     "start_time": "2022-03-01T16:50:17.190707Z"
    }
   },
   "outputs": [],
   "source": [
    "# Change values to 1 for houses that have been renovated\n",
    "df.loc[df['yr_renovated'] != 0, 'renovated'] = 1"
   ]
  },
  {
   "cell_type": "code",
   "execution_count": 164,
   "metadata": {
    "ExecuteTime": {
     "end_time": "2022-03-01T16:50:17.198547Z",
     "start_time": "2022-03-01T16:50:17.195223Z"
    }
   },
   "outputs": [
    {
     "data": {
      "text/plain": [
       "0    20853\n",
       "1      744\n",
       "Name: renovated, dtype: int64"
      ]
     },
     "execution_count": 164,
     "metadata": {},
     "output_type": "execute_result"
    }
   ],
   "source": [
    "# Check the value counts\n",
    "df.renovated.value_counts()"
   ]
  },
  {
   "cell_type": "code",
   "execution_count": 165,
   "metadata": {
    "ExecuteTime": {
     "end_time": "2022-03-01T16:50:17.293270Z",
     "start_time": "2022-03-01T16:50:17.199475Z"
    }
   },
   "outputs": [],
   "source": [
    "# Remove the variable 'yr_renovated'\n",
    "df.drop('yr_renovated', axis=1, inplace=True)"
   ]
  },
  {
   "cell_type": "code",
   "execution_count": 166,
   "metadata": {
    "ExecuteTime": {
     "end_time": "2022-03-01T16:50:17.301059Z",
     "start_time": "2022-03-01T16:50:17.294372Z"
    }
   },
   "outputs": [
    {
     "data": {
      "text/plain": [
       "date           0\n",
       "price          0\n",
       "bedrooms       0\n",
       "bathrooms      0\n",
       "sqft_living    0\n",
       "sqft_lot       0\n",
       "floors         0\n",
       "waterfront     0\n",
       "condition      0\n",
       "grade          0\n",
       "yr_built       0\n",
       "zipcode        0\n",
       "renovated      0\n",
       "dtype: int64"
      ]
     },
     "execution_count": 166,
     "metadata": {},
     "output_type": "execute_result"
    }
   ],
   "source": [
    "# Check to make sure there are no more NaN values\n",
    "df.isna().sum()"
   ]
  },
  {
   "cell_type": "markdown",
   "metadata": {},
   "source": [
    "Now that we have gotten rid of null values, lets look into our target variable, price."
   ]
  },
  {
   "cell_type": "markdown",
   "metadata": {},
   "source": [
    "## Explore Target Variable"
   ]
  },
  {
   "cell_type": "code",
   "execution_count": 167,
   "metadata": {
    "ExecuteTime": {
     "end_time": "2022-03-01T16:50:17.307196Z",
     "start_time": "2022-03-01T16:50:17.301946Z"
    },
    "scrolled": true
   },
   "outputs": [
    {
     "data": {
      "text/plain": [
       "count      21597.0\n",
       "mean      540297.0\n",
       "std       367368.0\n",
       "min        78000.0\n",
       "25%       322000.0\n",
       "50%       450000.0\n",
       "75%       645000.0\n",
       "max      7700000.0\n",
       "Name: price, dtype: float64"
      ]
     },
     "execution_count": 167,
     "metadata": {},
     "output_type": "execute_result"
    }
   ],
   "source": [
    "# Look into the distribution of house prices\n",
    "df.price.describe().round()"
   ]
  },
  {
   "cell_type": "code",
   "execution_count": 168,
   "metadata": {
    "ExecuteTime": {
     "end_time": "2022-03-01T16:50:17.380385Z",
     "start_time": "2022-03-01T16:50:17.308060Z"
    }
   },
   "outputs": [
    {
     "data": {
      "image/png": "[encoded data removed]",
      "text/plain": [
       "<Figure size 720x288 with 1 Axes>"
      ]
     },
     "metadata": {
      "needs_background": "light"
     },
     "output_type": "display_data"
    }
   ],
   "source": [
    "# Plot the distribution\n",
    "fig, ax = plt.subplots(figsize = (10, 4))\n",
    "df.boxplot('price', vert=False)\n",
    "ax.set_title(\"Distribution of Houses by Price\");"
   ]
  },
  {
   "cell_type": "markdown",
   "metadata": {},
   "source": [
    "Looking at price, it seems as though we have some outliers in our dataset.  There is a huge jump from the third quartile to the maximum house price.  Lets look at how many houses have prices that are more than three standard deviations away from the mean."
   ]
  },
  {
   "cell_type": "code",
   "execution_count": 169,
   "metadata": {
    "ExecuteTime": {
     "end_time": "2022-03-01T16:50:17.383922Z",
     "start_time": "2022-03-01T16:50:17.381477Z"
    }
   },
   "outputs": [],
   "source": [
    "# Set an upper limit\n",
    "price_upper_limit = df.price.mean() + 3*df.price.std()"
   ]
  },
  {
   "cell_type": "code",
   "execution_count": 170,
   "metadata": {
    "ExecuteTime": {
     "end_time": "2022-03-01T16:50:17.387195Z",
     "start_time": "2022-03-01T16:50:17.384880Z"
    }
   },
   "outputs": [
    {
     "name": "stdout",
     "output_type": "stream",
     "text": [
      "There are 406 outliers.\n"
     ]
    }
   ],
   "source": [
    "# How many houses are above the limit\n",
    "number_of_outliers = (df.price>price_upper_limit).sum()\n",
    "print('There are', number_of_outliers, 'outliers.')"
   ]
  },
  {
   "cell_type": "markdown",
   "metadata": {},
   "source": [
    "There are 406 price outliers.  Because this number is so small in comparison to our dataset (21597 entries), I believe we should drop this data."
   ]
  },
  {
   "cell_type": "code",
   "execution_count": 171,
   "metadata": {
    "ExecuteTime": {
     "end_time": "2022-03-01T16:50:17.391660Z",
     "start_time": "2022-03-01T16:50:17.388155Z"
    }
   },
   "outputs": [],
   "source": [
    "# Drop outlier data\n",
    "df_updated = df.loc[df.price<=price_upper_limit]"
   ]
  },
  {
   "cell_type": "code",
   "execution_count": 172,
   "metadata": {
    "ExecuteTime": {
     "end_time": "2022-03-01T16:50:17.467808Z",
     "start_time": "2022-03-01T16:50:17.392719Z"
    }
   },
   "outputs": [
    {
     "data": {
      "image/png": "[encoded data removed]",
      "text/plain": [
       "<Figure size 720x288 with 1 Axes>"
      ]
     },
     "metadata": {
      "needs_background": "light"
     },
     "output_type": "display_data"
    }
   ],
   "source": [
    "# Check new distribution of price data\n",
    "fig, ax = plt.subplots(figsize = (10, 4))\n",
    "df_updated.boxplot('price', vert=False)\n",
    "ax.set_title(\"New Distribution of Houses by Price\");"
   ]
  },
  {
   "cell_type": "markdown",
   "metadata": {},
   "source": [
    "This distribution still looks skewed, but not as dramatically as it was."
   ]
  },
  {
   "cell_type": "markdown",
   "metadata": {},
   "source": [
    "## Change Categorical to Numeric Values"
   ]
  },
  {
   "cell_type": "markdown",
   "metadata": {},
   "source": [
    "Now that we have our base data, lets focus on getting all of our variables into numeric values."
   ]
  },
  {
   "cell_type": "code",
   "execution_count": 173,
   "metadata": {
    "ExecuteTime": {
     "end_time": "2022-03-01T16:50:17.476920Z",
     "start_time": "2022-03-01T16:50:17.468870Z"
    },
    "scrolled": true
   },
   "outputs": [
    {
     "name": "stdout",
     "output_type": "stream",
     "text": [
      "<class 'pandas.core.frame.DataFrame'>\n",
      "Int64Index: 21191 entries, 0 to 21596\n",
      "Data columns (total 13 columns):\n",
      " #   Column       Non-Null Count  Dtype  \n",
      "---  ------       --------------  -----  \n",
      " 0   date         21191 non-null  object \n",
      " 1   price        21191 non-null  float64\n",
      " 2   bedrooms     21191 non-null  int64  \n",
      " 3   bathrooms    21191 non-null  float64\n",
      " 4   sqft_living  21191 non-null  int64  \n",
      " 5   sqft_lot     21191 non-null  int64  \n",
      " 6   floors       21191 non-null  float64\n",
      " 7   waterfront   21191 non-null  object \n",
      " 8   condition    21191 non-null  object \n",
      " 9   grade        21191 non-null  object \n",
      " 10  yr_built     21191 non-null  int64  \n",
      " 11  zipcode      21191 non-null  int64  \n",
      " 12  renovated    21191 non-null  int64  \n",
      "dtypes: float64(3), int64(6), object(4)\n",
      "memory usage: 2.3+ MB\n"
     ]
    }
   ],
   "source": [
    "# Find our categorical data\n",
    "df_updated.info()"
   ]
  },
  {
   "cell_type": "markdown",
   "metadata": {},
   "source": [
    "We have four variables that need to be changed from categorical data to numeric data: waterfront, condition, grade, and zipcode. We will address date later on."
   ]
  },
  {
   "cell_type": "markdown",
   "metadata": {},
   "source": [
    "### Waterfront"
   ]
  },
  {
   "cell_type": "code",
   "execution_count": 174,
   "metadata": {
    "ExecuteTime": {
     "end_time": "2022-03-01T16:50:17.483003Z",
     "start_time": "2022-03-01T16:50:17.477936Z"
    }
   },
   "outputs": [
    {
     "data": {
      "text/plain": [
       "NO     21111\n",
       "YES       80\n",
       "Name: waterfront, dtype: int64"
      ]
     },
     "execution_count": 174,
     "metadata": {},
     "output_type": "execute_result"
    }
   ],
   "source": [
    "# Check values in waterfront\n",
    "df_updated.waterfront.value_counts()"
   ]
  },
  {
   "cell_type": "code",
   "execution_count": 175,
   "metadata": {
    "ExecuteTime": {
     "end_time": "2022-03-01T16:50:17.492060Z",
     "start_time": "2022-03-01T16:50:17.484179Z"
    }
   },
   "outputs": [],
   "source": [
    "# Create dummies for waterfront\n",
    "waterfront_dummies = pd.get_dummies(df_updated.waterfront, \n",
    "                                    drop_first=True, \n",
    "                                    prefix='waterfront')\n",
    "df_updated.drop('waterfront', axis=1, inplace=True)\n",
    "df_updated = pd.concat([df_updated, waterfront_dummies], axis=1)"
   ]
  },
  {
   "cell_type": "code",
   "execution_count": 176,
   "metadata": {
    "ExecuteTime": {
     "end_time": "2022-03-01T16:50:17.500507Z",
     "start_time": "2022-03-01T16:50:17.492981Z"
    },
    "scrolled": true
   },
   "outputs": [
    {
     "data": {
      "text/html": [
       "<div>\n",
       "<style scoped>\n",
       "    .dataframe tbody tr th:only-of-type {\n",
       "        vertical-align: middle;\n",
       "    }\n",
       "\n",
       "    .dataframe tbody tr th {\n",
       "        vertical-align: top;\n",
       "    }\n",
       "\n",
       "    .dataframe thead th {\n",
       "        text-align: right;\n",
       "    }\n",
       "</style>\n",
       "<table border=\"1\" class=\"dataframe\">\n",
       "  <thead>\n",
       "    <tr style=\"text-align: right;\">\n",
       "      <th></th>\n",
       "      <th>date</th>\n",
       "      <th>price</th>\n",
       "      <th>bedrooms</th>\n",
       "      <th>bathrooms</th>\n",
       "      <th>sqft_living</th>\n",
       "      <th>sqft_lot</th>\n",
       "      <th>floors</th>\n",
       "      <th>condition</th>\n",
       "      <th>grade</th>\n",
       "      <th>yr_built</th>\n",
       "      <th>zipcode</th>\n",
       "      <th>renovated</th>\n",
       "      <th>waterfront_YES</th>\n",
       "    </tr>\n",
       "  </thead>\n",
       "  <tbody>\n",
       "    <tr>\n",
       "      <th>0</th>\n",
       "      <td>10/13/2014</td>\n",
       "      <td>221900.0</td>\n",
       "      <td>3</td>\n",
       "      <td>1.00</td>\n",
       "      <td>1180</td>\n",
       "      <td>5650</td>\n",
       "      <td>1.0</td>\n",
       "      <td>Average</td>\n",
       "      <td>7 Average</td>\n",
       "      <td>1955</td>\n",
       "      <td>98178</td>\n",
       "      <td>0</td>\n",
       "      <td>0</td>\n",
       "    </tr>\n",
       "    <tr>\n",
       "      <th>1</th>\n",
       "      <td>12/9/2014</td>\n",
       "      <td>538000.0</td>\n",
       "      <td>3</td>\n",
       "      <td>2.25</td>\n",
       "      <td>2570</td>\n",
       "      <td>7242</td>\n",
       "      <td>2.0</td>\n",
       "      <td>Average</td>\n",
       "      <td>7 Average</td>\n",
       "      <td>1951</td>\n",
       "      <td>98125</td>\n",
       "      <td>1</td>\n",
       "      <td>0</td>\n",
       "    </tr>\n",
       "    <tr>\n",
       "      <th>2</th>\n",
       "      <td>2/25/2015</td>\n",
       "      <td>180000.0</td>\n",
       "      <td>2</td>\n",
       "      <td>1.00</td>\n",
       "      <td>770</td>\n",
       "      <td>10000</td>\n",
       "      <td>1.0</td>\n",
       "      <td>Average</td>\n",
       "      <td>6 Low Average</td>\n",
       "      <td>1933</td>\n",
       "      <td>98028</td>\n",
       "      <td>0</td>\n",
       "      <td>0</td>\n",
       "    </tr>\n",
       "    <tr>\n",
       "      <th>3</th>\n",
       "      <td>12/9/2014</td>\n",
       "      <td>604000.0</td>\n",
       "      <td>4</td>\n",
       "      <td>3.00</td>\n",
       "      <td>1960</td>\n",
       "      <td>5000</td>\n",
       "      <td>1.0</td>\n",
       "      <td>Very Good</td>\n",
       "      <td>7 Average</td>\n",
       "      <td>1965</td>\n",
       "      <td>98136</td>\n",
       "      <td>0</td>\n",
       "      <td>0</td>\n",
       "    </tr>\n",
       "    <tr>\n",
       "      <th>4</th>\n",
       "      <td>2/18/2015</td>\n",
       "      <td>510000.0</td>\n",
       "      <td>3</td>\n",
       "      <td>2.00</td>\n",
       "      <td>1680</td>\n",
       "      <td>8080</td>\n",
       "      <td>1.0</td>\n",
       "      <td>Average</td>\n",
       "      <td>8 Good</td>\n",
       "      <td>1987</td>\n",
       "      <td>98074</td>\n",
       "      <td>0</td>\n",
       "      <td>0</td>\n",
       "    </tr>\n",
       "  </tbody>\n",
       "</table>\n",
       "</div>"
      ],
      "text/plain": [
       "         date     price  bedrooms  bathrooms  sqft_living  sqft_lot  floors  \\\n",
       "0  10/13/2014  221900.0         3       1.00         1180      5650     1.0   \n",
       "1   12/9/2014  538000.0         3       2.25         2570      7242     2.0   \n",
       "2   2/25/2015  180000.0         2       1.00          770     10000     1.0   \n",
       "3   12/9/2014  604000.0         4       3.00         1960      5000     1.0   \n",
       "4   2/18/2015  510000.0         3       2.00         1680      8080     1.0   \n",
       "\n",
       "   condition          grade  yr_built  zipcode  renovated  waterfront_YES  \n",
       "0    Average      7 Average      1955    98178          0               0  \n",
       "1    Average      7 Average      1951    98125          1               0  \n",
       "2    Average  6 Low Average      1933    98028          0               0  \n",
       "3  Very Good      7 Average      1965    98136          0               0  \n",
       "4    Average         8 Good      1987    98074          0               0  "
      ]
     },
     "execution_count": 176,
     "metadata": {},
     "output_type": "execute_result"
    }
   ],
   "source": [
    "df_updated.head()"
   ]
  },
  {
   "cell_type": "markdown",
   "metadata": {},
   "source": [
    "### Grade"
   ]
  },
  {
   "cell_type": "code",
   "execution_count": 177,
   "metadata": {
    "ExecuteTime": {
     "end_time": "2022-03-01T16:50:17.511026Z",
     "start_time": "2022-03-01T16:50:17.505554Z"
    }
   },
   "outputs": [
    {
     "data": {
      "text/plain": [
       "7 Average        8972\n",
       "8 Good           6047\n",
       "9 Better         2552\n",
       "6 Low Average    2038\n",
       "10 Very Good      997\n",
       "11 Excellent      283\n",
       "5 Fair            242\n",
       "12 Luxury          32\n",
       "4 Low              27\n",
       "3 Poor              1\n",
       "Name: grade, dtype: int64"
      ]
     },
     "execution_count": 177,
     "metadata": {},
     "output_type": "execute_result"
    }
   ],
   "source": [
    "# Check the categories in grade\n",
    "df_updated.grade.value_counts()"
   ]
  },
  {
   "cell_type": "code",
   "execution_count": 178,
   "metadata": {
    "ExecuteTime": {
     "end_time": "2022-03-01T16:50:17.529346Z",
     "start_time": "2022-03-01T16:50:17.514189Z"
    }
   },
   "outputs": [],
   "source": [
    "# Split the values in the grade column and keep only the number\n",
    "df_updated.grade = [grade[0] for grade in df_updated.grade.str.split()]"
   ]
  },
  {
   "cell_type": "code",
   "execution_count": 179,
   "metadata": {
    "ExecuteTime": {
     "end_time": "2022-03-01T16:50:17.533889Z",
     "start_time": "2022-03-01T16:50:17.530336Z"
    }
   },
   "outputs": [],
   "source": [
    "# Convert the number string into an integer\n",
    "df_updated.grade = df_updated.grade.astype(int)"
   ]
  },
  {
   "cell_type": "code",
   "execution_count": 180,
   "metadata": {
    "ExecuteTime": {
     "end_time": "2022-03-01T16:50:17.543889Z",
     "start_time": "2022-03-01T16:50:17.534837Z"
    }
   },
   "outputs": [
    {
     "name": "stdout",
     "output_type": "stream",
     "text": [
      "<class 'pandas.core.frame.DataFrame'>\n",
      "Int64Index: 21191 entries, 0 to 21596\n",
      "Data columns (total 13 columns):\n",
      " #   Column          Non-Null Count  Dtype  \n",
      "---  ------          --------------  -----  \n",
      " 0   date            21191 non-null  object \n",
      " 1   price           21191 non-null  float64\n",
      " 2   bedrooms        21191 non-null  int64  \n",
      " 3   bathrooms       21191 non-null  float64\n",
      " 4   sqft_living     21191 non-null  int64  \n",
      " 5   sqft_lot        21191 non-null  int64  \n",
      " 6   floors          21191 non-null  float64\n",
      " 7   condition       21191 non-null  object \n",
      " 8   grade           21191 non-null  int64  \n",
      " 9   yr_built        21191 non-null  int64  \n",
      " 10  zipcode         21191 non-null  int64  \n",
      " 11  renovated       21191 non-null  int64  \n",
      " 12  waterfront_YES  21191 non-null  uint8  \n",
      "dtypes: float64(3), int64(7), object(2), uint8(1)\n",
      "memory usage: 2.1+ MB\n"
     ]
    }
   ],
   "source": [
    "# Check to make sure grade has a dtype of int64\n",
    "df_updated.info()"
   ]
  },
  {
   "cell_type": "markdown",
   "metadata": {},
   "source": [
    "### Condition"
   ]
  },
  {
   "cell_type": "code",
   "execution_count": 181,
   "metadata": {
    "ExecuteTime": {
     "end_time": "2022-03-01T16:50:17.549523Z",
     "start_time": "2022-03-01T16:50:17.544903Z"
    }
   },
   "outputs": [
    {
     "data": {
      "text/plain": [
       "Average      13765\n",
       "Good          5582\n",
       "Very Good     1646\n",
       "Fair           169\n",
       "Poor            29\n",
       "Name: condition, dtype: int64"
      ]
     },
     "execution_count": 181,
     "metadata": {},
     "output_type": "execute_result"
    }
   ],
   "source": [
    "# Check the categories in condition\n",
    "df_updated.condition.value_counts()"
   ]
  },
  {
   "cell_type": "code",
   "execution_count": 182,
   "metadata": {
    "ExecuteTime": {
     "end_time": "2022-03-01T16:50:17.556909Z",
     "start_time": "2022-03-01T16:50:17.550501Z"
    }
   },
   "outputs": [],
   "source": [
    "# use dummies to create new columns for each category in condition\n",
    "condition_dummies = pd.get_dummies(df_updated.condition, \n",
    "                                   drop_first=True, \n",
    "                                   prefix='condition')\n",
    "df_updated.drop('condition', axis=1, inplace=True)\n",
    "df_updated = pd.concat([df_updated, condition_dummies], axis=1)"
   ]
  },
  {
   "cell_type": "code",
   "execution_count": 183,
   "metadata": {
    "ExecuteTime": {
     "end_time": "2022-03-01T16:50:17.560414Z",
     "start_time": "2022-03-01T16:50:17.557955Z"
    }
   },
   "outputs": [],
   "source": [
    "# Rename the Very Good column for future usability\n",
    "df_updated.rename(columns={'condition_Very Good':'condition_Very_Good'}, \n",
    "                  inplace=True)"
   ]
  },
  {
   "cell_type": "markdown",
   "metadata": {},
   "source": [
    "### Zipcode"
   ]
  },
  {
   "cell_type": "markdown",
   "metadata": {},
   "source": [
    "Although this data seems to be numeric, zipcodes are actually categories, so we will create dummies for this variable as well."
   ]
  },
  {
   "cell_type": "code",
   "execution_count": 184,
   "metadata": {
    "ExecuteTime": {
     "end_time": "2022-03-01T16:50:17.571635Z",
     "start_time": "2022-03-01T16:50:17.562799Z"
    }
   },
   "outputs": [],
   "source": [
    "# Create zipcode dummies\n",
    "zipcode_dummies = pd.get_dummies(df_updated.zipcode, \n",
    "                                   drop_first=True, \n",
    "                                   prefix='zipcode')\n",
    "df_updated.drop('zipcode', axis=1, inplace=True)\n",
    "df_updated = pd.concat([df_updated, zipcode_dummies], axis=1)"
   ]
  },
  {
   "cell_type": "code",
   "execution_count": 185,
   "metadata": {
    "ExecuteTime": {
     "end_time": "2022-03-01T16:50:17.583830Z",
     "start_time": "2022-03-01T16:50:17.572636Z"
    }
   },
   "outputs": [
    {
     "data": {
      "text/html": [
       "<div>\n",
       "<style scoped>\n",
       "    .dataframe tbody tr th:only-of-type {\n",
       "        vertical-align: middle;\n",
       "    }\n",
       "\n",
       "    .dataframe tbody tr th {\n",
       "        vertical-align: top;\n",
       "    }\n",
       "\n",
       "    .dataframe thead th {\n",
       "        text-align: right;\n",
       "    }\n",
       "</style>\n",
       "<table border=\"1\" class=\"dataframe\">\n",
       "  <thead>\n",
       "    <tr style=\"text-align: right;\">\n",
       "      <th></th>\n",
       "      <th>date</th>\n",
       "      <th>price</th>\n",
       "      <th>bedrooms</th>\n",
       "      <th>bathrooms</th>\n",
       "      <th>sqft_living</th>\n",
       "      <th>sqft_lot</th>\n",
       "      <th>floors</th>\n",
       "      <th>grade</th>\n",
       "      <th>yr_built</th>\n",
       "      <th>renovated</th>\n",
       "      <th>...</th>\n",
       "      <th>zipcode_98146</th>\n",
       "      <th>zipcode_98148</th>\n",
       "      <th>zipcode_98155</th>\n",
       "      <th>zipcode_98166</th>\n",
       "      <th>zipcode_98168</th>\n",
       "      <th>zipcode_98177</th>\n",
       "      <th>zipcode_98178</th>\n",
       "      <th>zipcode_98188</th>\n",
       "      <th>zipcode_98198</th>\n",
       "      <th>zipcode_98199</th>\n",
       "    </tr>\n",
       "  </thead>\n",
       "  <tbody>\n",
       "    <tr>\n",
       "      <th>0</th>\n",
       "      <td>10/13/2014</td>\n",
       "      <td>221900.0</td>\n",
       "      <td>3</td>\n",
       "      <td>1.00</td>\n",
       "      <td>1180</td>\n",
       "      <td>5650</td>\n",
       "      <td>1.0</td>\n",
       "      <td>7</td>\n",
       "      <td>1955</td>\n",
       "      <td>0</td>\n",
       "      <td>...</td>\n",
       "      <td>0</td>\n",
       "      <td>0</td>\n",
       "      <td>0</td>\n",
       "      <td>0</td>\n",
       "      <td>0</td>\n",
       "      <td>0</td>\n",
       "      <td>1</td>\n",
       "      <td>0</td>\n",
       "      <td>0</td>\n",
       "      <td>0</td>\n",
       "    </tr>\n",
       "    <tr>\n",
       "      <th>1</th>\n",
       "      <td>12/9/2014</td>\n",
       "      <td>538000.0</td>\n",
       "      <td>3</td>\n",
       "      <td>2.25</td>\n",
       "      <td>2570</td>\n",
       "      <td>7242</td>\n",
       "      <td>2.0</td>\n",
       "      <td>7</td>\n",
       "      <td>1951</td>\n",
       "      <td>1</td>\n",
       "      <td>...</td>\n",
       "      <td>0</td>\n",
       "      <td>0</td>\n",
       "      <td>0</td>\n",
       "      <td>0</td>\n",
       "      <td>0</td>\n",
       "      <td>0</td>\n",
       "      <td>0</td>\n",
       "      <td>0</td>\n",
       "      <td>0</td>\n",
       "      <td>0</td>\n",
       "    </tr>\n",
       "    <tr>\n",
       "      <th>2</th>\n",
       "      <td>2/25/2015</td>\n",
       "      <td>180000.0</td>\n",
       "      <td>2</td>\n",
       "      <td>1.00</td>\n",
       "      <td>770</td>\n",
       "      <td>10000</td>\n",
       "      <td>1.0</td>\n",
       "      <td>6</td>\n",
       "      <td>1933</td>\n",
       "      <td>0</td>\n",
       "      <td>...</td>\n",
       "      <td>0</td>\n",
       "      <td>0</td>\n",
       "      <td>0</td>\n",
       "      <td>0</td>\n",
       "      <td>0</td>\n",
       "      <td>0</td>\n",
       "      <td>0</td>\n",
       "      <td>0</td>\n",
       "      <td>0</td>\n",
       "      <td>0</td>\n",
       "    </tr>\n",
       "    <tr>\n",
       "      <th>3</th>\n",
       "      <td>12/9/2014</td>\n",
       "      <td>604000.0</td>\n",
       "      <td>4</td>\n",
       "      <td>3.00</td>\n",
       "      <td>1960</td>\n",
       "      <td>5000</td>\n",
       "      <td>1.0</td>\n",
       "      <td>7</td>\n",
       "      <td>1965</td>\n",
       "      <td>0</td>\n",
       "      <td>...</td>\n",
       "      <td>0</td>\n",
       "      <td>0</td>\n",
       "      <td>0</td>\n",
       "      <td>0</td>\n",
       "      <td>0</td>\n",
       "      <td>0</td>\n",
       "      <td>0</td>\n",
       "      <td>0</td>\n",
       "      <td>0</td>\n",
       "      <td>0</td>\n",
       "    </tr>\n",
       "    <tr>\n",
       "      <th>4</th>\n",
       "      <td>2/18/2015</td>\n",
       "      <td>510000.0</td>\n",
       "      <td>3</td>\n",
       "      <td>2.00</td>\n",
       "      <td>1680</td>\n",
       "      <td>8080</td>\n",
       "      <td>1.0</td>\n",
       "      <td>8</td>\n",
       "      <td>1987</td>\n",
       "      <td>0</td>\n",
       "      <td>...</td>\n",
       "      <td>0</td>\n",
       "      <td>0</td>\n",
       "      <td>0</td>\n",
       "      <td>0</td>\n",
       "      <td>0</td>\n",
       "      <td>0</td>\n",
       "      <td>0</td>\n",
       "      <td>0</td>\n",
       "      <td>0</td>\n",
       "      <td>0</td>\n",
       "    </tr>\n",
       "  </tbody>\n",
       "</table>\n",
       "<p>5 rows × 84 columns</p>\n",
       "</div>"
      ],
      "text/plain": [
       "         date     price  bedrooms  bathrooms  sqft_living  sqft_lot  floors  \\\n",
       "0  10/13/2014  221900.0         3       1.00         1180      5650     1.0   \n",
       "1   12/9/2014  538000.0         3       2.25         2570      7242     2.0   \n",
       "2   2/25/2015  180000.0         2       1.00          770     10000     1.0   \n",
       "3   12/9/2014  604000.0         4       3.00         1960      5000     1.0   \n",
       "4   2/18/2015  510000.0         3       2.00         1680      8080     1.0   \n",
       "\n",
       "   grade  yr_built  renovated  ...  zipcode_98146  zipcode_98148  \\\n",
       "0      7      1955          0  ...              0              0   \n",
       "1      7      1951          1  ...              0              0   \n",
       "2      6      1933          0  ...              0              0   \n",
       "3      7      1965          0  ...              0              0   \n",
       "4      8      1987          0  ...              0              0   \n",
       "\n",
       "   zipcode_98155  zipcode_98166  zipcode_98168  zipcode_98177  zipcode_98178  \\\n",
       "0              0              0              0              0              1   \n",
       "1              0              0              0              0              0   \n",
       "2              0              0              0              0              0   \n",
       "3              0              0              0              0              0   \n",
       "4              0              0              0              0              0   \n",
       "\n",
       "   zipcode_98188  zipcode_98198  zipcode_98199  \n",
       "0              0              0              0  \n",
       "1              0              0              0  \n",
       "2              0              0              0  \n",
       "3              0              0              0  \n",
       "4              0              0              0  \n",
       "\n",
       "[5 rows x 84 columns]"
      ]
     },
     "execution_count": 185,
     "metadata": {},
     "output_type": "execute_result"
    }
   ],
   "source": [
    "# Check our dataframe\n",
    "df_updated.head()"
   ]
  },
  {
   "cell_type": "markdown",
   "metadata": {},
   "source": [
    "All of this data is now in numeric form and will be easier to work with."
   ]
  },
  {
   "cell_type": "markdown",
   "metadata": {},
   "source": [
    "## House Age"
   ]
  },
  {
   "cell_type": "markdown",
   "metadata": {},
   "source": [
    "Instead of two separate categories, year built and date, lets combine the two to find the age of the house when it was sold."
   ]
  },
  {
   "cell_type": "code",
   "execution_count": 186,
   "metadata": {
    "ExecuteTime": {
     "end_time": "2022-03-01T16:50:17.600493Z",
     "start_time": "2022-03-01T16:50:17.584811Z"
    }
   },
   "outputs": [],
   "source": [
    "# First we will have to change 'date' to reflect only the year.\n",
    "df_updated.date = [date[2] for date in df_updated.date.str.split('/')]"
   ]
  },
  {
   "cell_type": "code",
   "execution_count": 187,
   "metadata": {
    "ExecuteTime": {
     "end_time": "2022-03-01T16:50:17.605406Z",
     "start_time": "2022-03-01T16:50:17.601536Z"
    }
   },
   "outputs": [],
   "source": [
    "# Change date to int64\n",
    "df_updated.date = df_updated.date.astype(int)"
   ]
  },
  {
   "cell_type": "markdown",
   "metadata": {},
   "source": [
    "Create age column by subtracting the year built from the date."
   ]
  },
  {
   "cell_type": "code",
   "execution_count": 188,
   "metadata": {
    "ExecuteTime": {
     "end_time": "2022-03-01T16:50:17.608822Z",
     "start_time": "2022-03-01T16:50:17.606408Z"
    }
   },
   "outputs": [],
   "source": [
    "df_updated['age'] = df_updated['date'] - df_updated['yr_built']"
   ]
  },
  {
   "cell_type": "code",
   "execution_count": 189,
   "metadata": {
    "ExecuteTime": {
     "end_time": "2022-03-01T16:50:17.615307Z",
     "start_time": "2022-03-01T16:50:17.609753Z"
    }
   },
   "outputs": [],
   "source": [
    "# Remove date and yr_built\n",
    "df_preprocessed = df_updated.drop(['date', 'yr_built'], axis=1)"
   ]
  },
  {
   "cell_type": "code",
   "execution_count": 190,
   "metadata": {
    "ExecuteTime": {
     "end_time": "2022-03-01T16:50:17.620683Z",
     "start_time": "2022-03-01T16:50:17.616270Z"
    }
   },
   "outputs": [],
   "source": [
    "# Remove data with a negative age\n",
    "df_preprocessed = df_preprocessed.loc[df_preprocessed.age >= 0]"
   ]
  },
  {
   "cell_type": "code",
   "execution_count": 191,
   "metadata": {
    "ExecuteTime": {
     "end_time": "2022-03-01T16:50:17.632791Z",
     "start_time": "2022-03-01T16:50:17.621721Z"
    }
   },
   "outputs": [
    {
     "name": "stdout",
     "output_type": "stream",
     "text": [
      "<class 'pandas.core.frame.DataFrame'>\n",
      "Int64Index: 21179 entries, 0 to 21596\n",
      "Data columns (total 83 columns):\n",
      " #   Column               Non-Null Count  Dtype  \n",
      "---  ------               --------------  -----  \n",
      " 0   price                21179 non-null  float64\n",
      " 1   bedrooms             21179 non-null  int64  \n",
      " 2   bathrooms            21179 non-null  float64\n",
      " 3   sqft_living          21179 non-null  int64  \n",
      " 4   sqft_lot             21179 non-null  int64  \n",
      " 5   floors               21179 non-null  float64\n",
      " 6   grade                21179 non-null  int64  \n",
      " 7   renovated            21179 non-null  int64  \n",
      " 8   waterfront_YES       21179 non-null  uint8  \n",
      " 9   condition_Fair       21179 non-null  uint8  \n",
      " 10  condition_Good       21179 non-null  uint8  \n",
      " 11  condition_Poor       21179 non-null  uint8  \n",
      " 12  condition_Very_Good  21179 non-null  uint8  \n",
      " 13  zipcode_98002        21179 non-null  uint8  \n",
      " 14  zipcode_98003        21179 non-null  uint8  \n",
      " 15  zipcode_98004        21179 non-null  uint8  \n",
      " 16  zipcode_98005        21179 non-null  uint8  \n",
      " 17  zipcode_98006        21179 non-null  uint8  \n",
      " 18  zipcode_98007        21179 non-null  uint8  \n",
      " 19  zipcode_98008        21179 non-null  uint8  \n",
      " 20  zipcode_98010        21179 non-null  uint8  \n",
      " 21  zipcode_98011        21179 non-null  uint8  \n",
      " 22  zipcode_98014        21179 non-null  uint8  \n",
      " 23  zipcode_98019        21179 non-null  uint8  \n",
      " 24  zipcode_98022        21179 non-null  uint8  \n",
      " 25  zipcode_98023        21179 non-null  uint8  \n",
      " 26  zipcode_98024        21179 non-null  uint8  \n",
      " 27  zipcode_98027        21179 non-null  uint8  \n",
      " 28  zipcode_98028        21179 non-null  uint8  \n",
      " 29  zipcode_98029        21179 non-null  uint8  \n",
      " 30  zipcode_98030        21179 non-null  uint8  \n",
      " 31  zipcode_98031        21179 non-null  uint8  \n",
      " 32  zipcode_98032        21179 non-null  uint8  \n",
      " 33  zipcode_98033        21179 non-null  uint8  \n",
      " 34  zipcode_98034        21179 non-null  uint8  \n",
      " 35  zipcode_98038        21179 non-null  uint8  \n",
      " 36  zipcode_98039        21179 non-null  uint8  \n",
      " 37  zipcode_98040        21179 non-null  uint8  \n",
      " 38  zipcode_98042        21179 non-null  uint8  \n",
      " 39  zipcode_98045        21179 non-null  uint8  \n",
      " 40  zipcode_98052        21179 non-null  uint8  \n",
      " 41  zipcode_98053        21179 non-null  uint8  \n",
      " 42  zipcode_98055        21179 non-null  uint8  \n",
      " 43  zipcode_98056        21179 non-null  uint8  \n",
      " 44  zipcode_98058        21179 non-null  uint8  \n",
      " 45  zipcode_98059        21179 non-null  uint8  \n",
      " 46  zipcode_98065        21179 non-null  uint8  \n",
      " 47  zipcode_98070        21179 non-null  uint8  \n",
      " 48  zipcode_98072        21179 non-null  uint8  \n",
      " 49  zipcode_98074        21179 non-null  uint8  \n",
      " 50  zipcode_98075        21179 non-null  uint8  \n",
      " 51  zipcode_98077        21179 non-null  uint8  \n",
      " 52  zipcode_98092        21179 non-null  uint8  \n",
      " 53  zipcode_98102        21179 non-null  uint8  \n",
      " 54  zipcode_98103        21179 non-null  uint8  \n",
      " 55  zipcode_98105        21179 non-null  uint8  \n",
      " 56  zipcode_98106        21179 non-null  uint8  \n",
      " 57  zipcode_98107        21179 non-null  uint8  \n",
      " 58  zipcode_98108        21179 non-null  uint8  \n",
      " 59  zipcode_98109        21179 non-null  uint8  \n",
      " 60  zipcode_98112        21179 non-null  uint8  \n",
      " 61  zipcode_98115        21179 non-null  uint8  \n",
      " 62  zipcode_98116        21179 non-null  uint8  \n",
      " 63  zipcode_98117        21179 non-null  uint8  \n",
      " 64  zipcode_98118        21179 non-null  uint8  \n",
      " 65  zipcode_98119        21179 non-null  uint8  \n",
      " 66  zipcode_98122        21179 non-null  uint8  \n",
      " 67  zipcode_98125        21179 non-null  uint8  \n",
      " 68  zipcode_98126        21179 non-null  uint8  \n",
      " 69  zipcode_98133        21179 non-null  uint8  \n",
      " 70  zipcode_98136        21179 non-null  uint8  \n",
      " 71  zipcode_98144        21179 non-null  uint8  \n",
      " 72  zipcode_98146        21179 non-null  uint8  \n",
      " 73  zipcode_98148        21179 non-null  uint8  \n",
      " 74  zipcode_98155        21179 non-null  uint8  \n",
      " 75  zipcode_98166        21179 non-null  uint8  \n",
      " 76  zipcode_98168        21179 non-null  uint8  \n",
      " 77  zipcode_98177        21179 non-null  uint8  \n",
      " 78  zipcode_98178        21179 non-null  uint8  \n",
      " 79  zipcode_98188        21179 non-null  uint8  \n",
      " 80  zipcode_98198        21179 non-null  uint8  \n",
      " 81  zipcode_98199        21179 non-null  uint8  \n",
      " 82  age                  21179 non-null  int64  \n",
      "dtypes: float64(3), int64(6), uint8(74)\n",
      "memory usage: 3.1 MB\n"
     ]
    }
   ],
   "source": [
    "# Check to make sure all of our data has numeric values\n",
    "df_preprocessed.info()"
   ]
  },
  {
   "cell_type": "markdown",
   "metadata": {},
   "source": [
    "All of our variable values are now numeric and are ready to be used in our linear regression models."
   ]
  },
  {
   "cell_type": "markdown",
   "metadata": {},
   "source": [
    "# Creating Models"
   ]
  },
  {
   "cell_type": "markdown",
   "metadata": {},
   "source": [
    "## Create a Baseline Model"
   ]
  },
  {
   "cell_type": "markdown",
   "metadata": {},
   "source": [
    "Now that we have cleaned our data, we can create a baseline dataframe."
   ]
  },
  {
   "cell_type": "code",
   "execution_count": 192,
   "metadata": {
    "ExecuteTime": {
     "end_time": "2022-03-01T16:50:17.704827Z",
     "start_time": "2022-03-01T16:50:17.633767Z"
    },
    "scrolled": true
   },
   "outputs": [],
   "source": [
    "# Find the two variables that are most highly correlated with price\n",
    "# We will use only variables that we did not create dummies for\n",
    "preds = ['bedrooms', 'bathrooms', 'sqft_living', 'floors', 'grade', \n",
    "         'renovated', 'age']\n",
    "predictors = df_preprocessed[preds]\n",
    "linreg = LinearRegression()\n",
    "selector = RFE(linreg, n_features_to_select = 2)\n",
    "selector = selector.fit(predictors, df_preprocessed['price'])"
   ]
  },
  {
   "cell_type": "code",
   "execution_count": 193,
   "metadata": {
    "ExecuteTime": {
     "end_time": "2022-03-01T16:50:17.709198Z",
     "start_time": "2022-03-01T16:50:17.705949Z"
    }
   },
   "outputs": [
    {
     "data": {
      "text/plain": [
       "Index(['grade', 'renovated'], dtype='object')"
      ]
     },
     "execution_count": 193,
     "metadata": {},
     "output_type": "execute_result"
    }
   ],
   "source": [
    "predictors.columns[selector.support_]"
   ]
  },
  {
   "cell_type": "markdown",
   "metadata": {},
   "source": [
    "Create a baseline dataframe with price and the two highest correlated variables."
   ]
  },
  {
   "cell_type": "code",
   "execution_count": 194,
   "metadata": {
    "ExecuteTime": {
     "end_time": "2022-03-01T16:50:17.713247Z",
     "start_time": "2022-03-01T16:50:17.710614Z"
    }
   },
   "outputs": [],
   "source": [
    "baseline_df = df_preprocessed[['grade', 'renovated', 'price']]"
   ]
  },
  {
   "cell_type": "code",
   "execution_count": 195,
   "metadata": {
    "ExecuteTime": {
     "end_time": "2022-03-01T16:50:17.720712Z",
     "start_time": "2022-03-01T16:50:17.714647Z"
    }
   },
   "outputs": [
    {
     "data": {
      "text/html": [
       "<div>\n",
       "<style scoped>\n",
       "    .dataframe tbody tr th:only-of-type {\n",
       "        vertical-align: middle;\n",
       "    }\n",
       "\n",
       "    .dataframe tbody tr th {\n",
       "        vertical-align: top;\n",
       "    }\n",
       "\n",
       "    .dataframe thead th {\n",
       "        text-align: right;\n",
       "    }\n",
       "</style>\n",
       "<table border=\"1\" class=\"dataframe\">\n",
       "  <thead>\n",
       "    <tr style=\"text-align: right;\">\n",
       "      <th></th>\n",
       "      <th>grade</th>\n",
       "      <th>renovated</th>\n",
       "      <th>price</th>\n",
       "    </tr>\n",
       "  </thead>\n",
       "  <tbody>\n",
       "    <tr>\n",
       "      <th>0</th>\n",
       "      <td>7</td>\n",
       "      <td>0</td>\n",
       "      <td>221900.0</td>\n",
       "    </tr>\n",
       "    <tr>\n",
       "      <th>1</th>\n",
       "      <td>7</td>\n",
       "      <td>1</td>\n",
       "      <td>538000.0</td>\n",
       "    </tr>\n",
       "    <tr>\n",
       "      <th>2</th>\n",
       "      <td>6</td>\n",
       "      <td>0</td>\n",
       "      <td>180000.0</td>\n",
       "    </tr>\n",
       "    <tr>\n",
       "      <th>3</th>\n",
       "      <td>7</td>\n",
       "      <td>0</td>\n",
       "      <td>604000.0</td>\n",
       "    </tr>\n",
       "    <tr>\n",
       "      <th>4</th>\n",
       "      <td>8</td>\n",
       "      <td>0</td>\n",
       "      <td>510000.0</td>\n",
       "    </tr>\n",
       "    <tr>\n",
       "      <th>...</th>\n",
       "      <td>...</td>\n",
       "      <td>...</td>\n",
       "      <td>...</td>\n",
       "    </tr>\n",
       "    <tr>\n",
       "      <th>21592</th>\n",
       "      <td>8</td>\n",
       "      <td>0</td>\n",
       "      <td>360000.0</td>\n",
       "    </tr>\n",
       "    <tr>\n",
       "      <th>21593</th>\n",
       "      <td>8</td>\n",
       "      <td>0</td>\n",
       "      <td>400000.0</td>\n",
       "    </tr>\n",
       "    <tr>\n",
       "      <th>21594</th>\n",
       "      <td>7</td>\n",
       "      <td>0</td>\n",
       "      <td>402101.0</td>\n",
       "    </tr>\n",
       "    <tr>\n",
       "      <th>21595</th>\n",
       "      <td>8</td>\n",
       "      <td>0</td>\n",
       "      <td>400000.0</td>\n",
       "    </tr>\n",
       "    <tr>\n",
       "      <th>21596</th>\n",
       "      <td>7</td>\n",
       "      <td>0</td>\n",
       "      <td>325000.0</td>\n",
       "    </tr>\n",
       "  </tbody>\n",
       "</table>\n",
       "<p>21179 rows × 3 columns</p>\n",
       "</div>"
      ],
      "text/plain": [
       "       grade  renovated     price\n",
       "0          7          0  221900.0\n",
       "1          7          1  538000.0\n",
       "2          6          0  180000.0\n",
       "3          7          0  604000.0\n",
       "4          8          0  510000.0\n",
       "...      ...        ...       ...\n",
       "21592      8          0  360000.0\n",
       "21593      8          0  400000.0\n",
       "21594      7          0  402101.0\n",
       "21595      8          0  400000.0\n",
       "21596      7          0  325000.0\n",
       "\n",
       "[21179 rows x 3 columns]"
      ]
     },
     "execution_count": 195,
     "metadata": {},
     "output_type": "execute_result"
    }
   ],
   "source": [
    "baseline_df"
   ]
  },
  {
   "cell_type": "markdown",
   "metadata": {},
   "source": [
    "Create a function that returns a multiple linear regression model and plug in our baseline dataframe."
   ]
  },
  {
   "cell_type": "code",
   "execution_count": 196,
   "metadata": {
    "ExecuteTime": {
     "end_time": "2022-03-01T16:50:17.725743Z",
     "start_time": "2022-03-01T16:50:17.722566Z"
    }
   },
   "outputs": [],
   "source": [
    "# Create our model function\n",
    "def model(data):\n",
    "    outcome = 'price'\n",
    "    predictors = data.drop('price', axis=1)\n",
    "    pred_sum = '+'.join(predictors.columns)\n",
    "    formula = outcome + '~' + pred_sum\n",
    "    model = ols(formula=formula, data = data).fit()\n",
    "    return model"
   ]
  },
  {
   "cell_type": "code",
   "execution_count": 197,
   "metadata": {
    "ExecuteTime": {
     "end_time": "2022-03-01T16:50:17.742480Z",
     "start_time": "2022-03-01T16:50:17.726736Z"
    }
   },
   "outputs": [],
   "source": [
    "baseline_model = model(baseline_df)"
   ]
  },
  {
   "cell_type": "code",
   "execution_count": 198,
   "metadata": {
    "ExecuteTime": {
     "end_time": "2022-03-01T16:50:17.755700Z",
     "start_time": "2022-03-01T16:50:17.743957Z"
    }
   },
   "outputs": [
    {
     "data": {
      "text/html": [
       "<table class=\"simpletable\">\n",
       "<caption>OLS Regression Results</caption>\n",
       "<tr>\n",
       "  <th>Dep. Variable:</th>          <td>price</td>      <th>  R-squared:         </th>  <td>   0.463</td>  \n",
       "</tr>\n",
       "<tr>\n",
       "  <th>Model:</th>                   <td>OLS</td>       <th>  Adj. R-squared:    </th>  <td>   0.463</td>  \n",
       "</tr>\n",
       "<tr>\n",
       "  <th>Method:</th>             <td>Least Squares</td>  <th>  F-statistic:       </th>  <td>   9114.</td>  \n",
       "</tr>\n",
       "<tr>\n",
       "  <th>Date:</th>             <td>Tue, 01 Mar 2022</td> <th>  Prob (F-statistic):</th>   <td>  0.00</td>   \n",
       "</tr>\n",
       "<tr>\n",
       "  <th>Time:</th>                 <td>08:50:17</td>     <th>  Log-Likelihood:    </th> <td>-2.8750e+05</td>\n",
       "</tr>\n",
       "<tr>\n",
       "  <th>No. Observations:</th>      <td> 21179</td>      <th>  AIC:               </th>  <td>5.750e+05</td> \n",
       "</tr>\n",
       "<tr>\n",
       "  <th>Df Residuals:</th>          <td> 21176</td>      <th>  BIC:               </th>  <td>5.750e+05</td> \n",
       "</tr>\n",
       "<tr>\n",
       "  <th>Df Model:</th>              <td>     2</td>      <th>                     </th>      <td> </td>     \n",
       "</tr>\n",
       "<tr>\n",
       "  <th>Covariance Type:</th>      <td>nonrobust</td>    <th>                     </th>      <td> </td>     \n",
       "</tr>\n",
       "</table>\n",
       "<table class=\"simpletable\">\n",
       "<tr>\n",
       "      <td></td>         <th>coef</th>     <th>std err</th>      <th>t</th>      <th>P>|t|</th>  <th>[0.025</th>    <th>0.975]</th>  \n",
       "</tr>\n",
       "<tr>\n",
       "  <th>Intercept</th> <td>-6.954e+05</td> <td> 9065.349</td> <td>  -76.706</td> <td> 0.000</td> <td>-7.13e+05</td> <td>-6.78e+05</td>\n",
       "</tr>\n",
       "<tr>\n",
       "  <th>grade</th>     <td> 1.575e+05</td> <td> 1179.148</td> <td>  133.556</td> <td> 0.000</td> <td> 1.55e+05</td> <td>  1.6e+05</td>\n",
       "</tr>\n",
       "<tr>\n",
       "  <th>renovated</th> <td> 1.461e+05</td> <td> 7348.483</td> <td>   19.881</td> <td> 0.000</td> <td> 1.32e+05</td> <td>  1.6e+05</td>\n",
       "</tr>\n",
       "</table>\n",
       "<table class=\"simpletable\">\n",
       "<tr>\n",
       "  <th>Omnibus:</th>       <td>3842.325</td> <th>  Durbin-Watson:     </th> <td>   1.947</td>\n",
       "</tr>\n",
       "<tr>\n",
       "  <th>Prob(Omnibus):</th>  <td> 0.000</td>  <th>  Jarque-Bera (JB):  </th> <td>8350.573</td>\n",
       "</tr>\n",
       "<tr>\n",
       "  <th>Skew:</th>           <td> 1.061</td>  <th>  Prob(JB):          </th> <td>    0.00</td>\n",
       "</tr>\n",
       "<tr>\n",
       "  <th>Kurtosis:</th>       <td> 5.227</td>  <th>  Cond. No.          </th> <td>    54.2</td>\n",
       "</tr>\n",
       "</table><br/><br/>Notes:<br/>[1] Standard Errors assume that the covariance matrix of the errors is correctly specified."
      ],
      "text/plain": [
       "<class 'statsmodels.iolib.summary.Summary'>\n",
       "\"\"\"\n",
       "                            OLS Regression Results                            \n",
       "==============================================================================\n",
       "Dep. Variable:                  price   R-squared:                       0.463\n",
       "Model:                            OLS   Adj. R-squared:                  0.463\n",
       "Method:                 Least Squares   F-statistic:                     9114.\n",
       "Date:                Tue, 01 Mar 2022   Prob (F-statistic):               0.00\n",
       "Time:                        08:50:17   Log-Likelihood:            -2.8750e+05\n",
       "No. Observations:               21179   AIC:                         5.750e+05\n",
       "Df Residuals:                   21176   BIC:                         5.750e+05\n",
       "Df Model:                           2                                         \n",
       "Covariance Type:            nonrobust                                         \n",
       "==============================================================================\n",
       "                 coef    std err          t      P>|t|      [0.025      0.975]\n",
       "------------------------------------------------------------------------------\n",
       "Intercept  -6.954e+05   9065.349    -76.706      0.000   -7.13e+05   -6.78e+05\n",
       "grade       1.575e+05   1179.148    133.556      0.000    1.55e+05     1.6e+05\n",
       "renovated   1.461e+05   7348.483     19.881      0.000    1.32e+05     1.6e+05\n",
       "==============================================================================\n",
       "Omnibus:                     3842.325   Durbin-Watson:                   1.947\n",
       "Prob(Omnibus):                  0.000   Jarque-Bera (JB):             8350.573\n",
       "Skew:                           1.061   Prob(JB):                         0.00\n",
       "Kurtosis:                       5.227   Cond. No.                         54.2\n",
       "==============================================================================\n",
       "\n",
       "Notes:\n",
       "[1] Standard Errors assume that the covariance matrix of the errors is correctly specified.\n",
       "\"\"\""
      ]
     },
     "execution_count": 198,
     "metadata": {},
     "output_type": "execute_result"
    }
   ],
   "source": [
    "baseline_model.summary()"
   ]
  },
  {
   "cell_type": "markdown",
   "metadata": {},
   "source": [
    "This baseline model has an R-squared value of .463, meaning that our highly correlated variables can explain 46% of price. This R-squared is not very high, so we will want to add in more variables to increase this value."
   ]
  },
  {
   "cell_type": "markdown",
   "metadata": {},
   "source": [
    "## Second Model"
   ]
  },
  {
   "cell_type": "markdown",
   "metadata": {},
   "source": [
    "For our second model, lets look at all of our variables before they have been transformed or manipulated at all."
   ]
  },
  {
   "cell_type": "code",
   "execution_count": 199,
   "metadata": {
    "ExecuteTime": {
     "end_time": "2022-03-01T16:50:18.123706Z",
     "start_time": "2022-03-01T16:50:17.756904Z"
    }
   },
   "outputs": [],
   "source": [
    "# Create a model with the dataframe that includes all our variables\n",
    "model_2 = model(df_preprocessed)"
   ]
  },
  {
   "cell_type": "code",
   "execution_count": 200,
   "metadata": {
    "ExecuteTime": {
     "end_time": "2022-03-01T16:50:18.161548Z",
     "start_time": "2022-03-01T16:50:18.124684Z"
    }
   },
   "outputs": [
    {
     "data": {
      "text/html": [
       "<table class=\"simpletable\">\n",
       "<caption>OLS Regression Results</caption>\n",
       "<tr>\n",
       "  <th>Dep. Variable:</th>          <td>price</td>      <th>  R-squared:         </th>  <td>   0.820</td>  \n",
       "</tr>\n",
       "<tr>\n",
       "  <th>Model:</th>                   <td>OLS</td>       <th>  Adj. R-squared:    </th>  <td>   0.819</td>  \n",
       "</tr>\n",
       "<tr>\n",
       "  <th>Method:</th>             <td>Least Squares</td>  <th>  F-statistic:       </th>  <td>   1173.</td>  \n",
       "</tr>\n",
       "<tr>\n",
       "  <th>Date:</th>             <td>Tue, 01 Mar 2022</td> <th>  Prob (F-statistic):</th>   <td>  0.00</td>   \n",
       "</tr>\n",
       "<tr>\n",
       "  <th>Time:</th>                 <td>08:50:18</td>     <th>  Log-Likelihood:    </th> <td>-2.7591e+05</td>\n",
       "</tr>\n",
       "<tr>\n",
       "  <th>No. Observations:</th>      <td> 21179</td>      <th>  AIC:               </th>  <td>5.520e+05</td> \n",
       "</tr>\n",
       "<tr>\n",
       "  <th>Df Residuals:</th>          <td> 21096</td>      <th>  BIC:               </th>  <td>5.527e+05</td> \n",
       "</tr>\n",
       "<tr>\n",
       "  <th>Df Model:</th>              <td>    82</td>      <th>                     </th>      <td> </td>     \n",
       "</tr>\n",
       "<tr>\n",
       "  <th>Covariance Type:</th>      <td>nonrobust</td>    <th>                     </th>      <td> </td>     \n",
       "</tr>\n",
       "</table>\n",
       "<table class=\"simpletable\">\n",
       "<tr>\n",
       "           <td></td>              <th>coef</th>     <th>std err</th>      <th>t</th>      <th>P>|t|</th>  <th>[0.025</th>    <th>0.975]</th>  \n",
       "</tr>\n",
       "<tr>\n",
       "  <th>Intercept</th>           <td>-4.982e+05</td> <td> 1.05e+04</td> <td>  -47.581</td> <td> 0.000</td> <td>-5.19e+05</td> <td>-4.78e+05</td>\n",
       "</tr>\n",
       "<tr>\n",
       "  <th>bedrooms</th>            <td>-1.277e+04</td> <td> 1075.342</td> <td>  -11.876</td> <td> 0.000</td> <td>-1.49e+04</td> <td>-1.07e+04</td>\n",
       "</tr>\n",
       "<tr>\n",
       "  <th>bathrooms</th>           <td> 1.233e+04</td> <td> 1832.489</td> <td>    6.729</td> <td> 0.000</td> <td> 8738.796</td> <td> 1.59e+04</td>\n",
       "</tr>\n",
       "<tr>\n",
       "  <th>sqft_living</th>         <td>  133.5021</td> <td>    1.836</td> <td>   72.721</td> <td> 0.000</td> <td>  129.904</td> <td>  137.100</td>\n",
       "</tr>\n",
       "<tr>\n",
       "  <th>sqft_lot</th>            <td>    0.2854</td> <td>    0.021</td> <td>   13.805</td> <td> 0.000</td> <td>    0.245</td> <td>    0.326</td>\n",
       "</tr>\n",
       "<tr>\n",
       "  <th>floors</th>              <td>-4061.1075</td> <td> 1927.948</td> <td>   -2.106</td> <td> 0.035</td> <td>-7840.032</td> <td> -282.183</td>\n",
       "</tr>\n",
       "<tr>\n",
       "  <th>grade</th>               <td>  6.99e+04</td> <td> 1206.545</td> <td>   57.934</td> <td> 0.000</td> <td> 6.75e+04</td> <td> 7.23e+04</td>\n",
       "</tr>\n",
       "<tr>\n",
       "  <th>renovated</th>           <td> 3.373e+04</td> <td> 4525.140</td> <td>    7.455</td> <td> 0.000</td> <td> 2.49e+04</td> <td> 4.26e+04</td>\n",
       "</tr>\n",
       "<tr>\n",
       "  <th>waterfront_YES</th>      <td> 4.002e+05</td> <td> 1.28e+04</td> <td>   31.323</td> <td> 0.000</td> <td> 3.75e+05</td> <td> 4.25e+05</td>\n",
       "</tr>\n",
       "<tr>\n",
       "  <th>condition_Fair</th>      <td>-1.128e+04</td> <td> 8643.645</td> <td>   -1.305</td> <td> 0.192</td> <td>-2.82e+04</td> <td> 5660.538</td>\n",
       "</tr>\n",
       "<tr>\n",
       "  <th>condition_Good</th>      <td> 1.531e+04</td> <td> 1968.320</td> <td>    7.776</td> <td> 0.000</td> <td> 1.14e+04</td> <td> 1.92e+04</td>\n",
       "</tr>\n",
       "<tr>\n",
       "  <th>condition_Poor</th>      <td> -2.69e+04</td> <td> 2.06e+04</td> <td>   -1.303</td> <td> 0.192</td> <td>-6.73e+04</td> <td> 1.35e+04</td>\n",
       "</tr>\n",
       "<tr>\n",
       "  <th>condition_Very_Good</th> <td>  4.95e+04</td> <td> 3125.875</td> <td>   15.837</td> <td> 0.000</td> <td> 4.34e+04</td> <td> 5.56e+04</td>\n",
       "</tr>\n",
       "<tr>\n",
       "  <th>zipcode_98002</th>       <td>  1.57e+04</td> <td> 9762.294</td> <td>    1.608</td> <td> 0.108</td> <td>-3435.071</td> <td> 3.48e+04</td>\n",
       "</tr>\n",
       "<tr>\n",
       "  <th>zipcode_98003</th>       <td> -1.12e+04</td> <td> 8793.844</td> <td>   -1.273</td> <td> 0.203</td> <td>-2.84e+04</td> <td> 6040.384</td>\n",
       "</tr>\n",
       "<tr>\n",
       "  <th>zipcode_98004</th>       <td> 6.064e+05</td> <td> 9371.595</td> <td>   64.709</td> <td> 0.000</td> <td> 5.88e+05</td> <td> 6.25e+05</td>\n",
       "</tr>\n",
       "<tr>\n",
       "  <th>zipcode_98005</th>       <td> 3.093e+05</td> <td> 1.05e+04</td> <td>   29.475</td> <td> 0.000</td> <td> 2.89e+05</td> <td>  3.3e+05</td>\n",
       "</tr>\n",
       "<tr>\n",
       "  <th>zipcode_98006</th>       <td> 2.803e+05</td> <td> 7838.753</td> <td>   35.762</td> <td> 0.000</td> <td> 2.65e+05</td> <td> 2.96e+05</td>\n",
       "</tr>\n",
       "<tr>\n",
       "  <th>zipcode_98007</th>       <td> 2.432e+05</td> <td>  1.1e+04</td> <td>   22.119</td> <td> 0.000</td> <td> 2.22e+05</td> <td> 2.65e+05</td>\n",
       "</tr>\n",
       "<tr>\n",
       "  <th>zipcode_98008</th>       <td> 2.476e+05</td> <td> 8861.647</td> <td>   27.941</td> <td> 0.000</td> <td>  2.3e+05</td> <td> 2.65e+05</td>\n",
       "</tr>\n",
       "<tr>\n",
       "  <th>zipcode_98010</th>       <td> 8.261e+04</td> <td> 1.25e+04</td> <td>    6.607</td> <td> 0.000</td> <td> 5.81e+04</td> <td> 1.07e+05</td>\n",
       "</tr>\n",
       "<tr>\n",
       "  <th>zipcode_98011</th>       <td> 1.319e+05</td> <td> 9813.473</td> <td>   13.441</td> <td> 0.000</td> <td> 1.13e+05</td> <td> 1.51e+05</td>\n",
       "</tr>\n",
       "<tr>\n",
       "  <th>zipcode_98014</th>       <td>   1.1e+05</td> <td> 1.16e+04</td> <td>    9.441</td> <td> 0.000</td> <td> 8.71e+04</td> <td> 1.33e+05</td>\n",
       "</tr>\n",
       "<tr>\n",
       "  <th>zipcode_98019</th>       <td> 9.671e+04</td> <td> 9915.142</td> <td>    9.754</td> <td> 0.000</td> <td> 7.73e+04</td> <td> 1.16e+05</td>\n",
       "</tr>\n",
       "<tr>\n",
       "  <th>zipcode_98022</th>       <td>  1.53e+04</td> <td> 9363.469</td> <td>    1.634</td> <td> 0.102</td> <td>-3052.081</td> <td> 3.37e+04</td>\n",
       "</tr>\n",
       "<tr>\n",
       "  <th>zipcode_98023</th>       <td>-2.925e+04</td> <td> 7632.606</td> <td>   -3.833</td> <td> 0.000</td> <td>-4.42e+04</td> <td>-1.43e+04</td>\n",
       "</tr>\n",
       "<tr>\n",
       "  <th>zipcode_98024</th>       <td>  1.63e+05</td> <td> 1.39e+04</td> <td>   11.701</td> <td> 0.000</td> <td> 1.36e+05</td> <td>  1.9e+05</td>\n",
       "</tr>\n",
       "<tr>\n",
       "  <th>zipcode_98027</th>       <td> 1.757e+05</td> <td> 8015.965</td> <td>   21.920</td> <td> 0.000</td> <td>  1.6e+05</td> <td> 1.91e+05</td>\n",
       "</tr>\n",
       "<tr>\n",
       "  <th>zipcode_98028</th>       <td> 1.268e+05</td> <td> 8765.196</td> <td>   14.469</td> <td> 0.000</td> <td>  1.1e+05</td> <td> 1.44e+05</td>\n",
       "</tr>\n",
       "<tr>\n",
       "  <th>zipcode_98029</th>       <td> 2.136e+05</td> <td> 8548.812</td> <td>   24.984</td> <td> 0.000</td> <td> 1.97e+05</td> <td>  2.3e+05</td>\n",
       "</tr>\n",
       "<tr>\n",
       "  <th>zipcode_98030</th>       <td> 4580.4170</td> <td> 9012.913</td> <td>    0.508</td> <td> 0.611</td> <td>-1.31e+04</td> <td> 2.22e+04</td>\n",
       "</tr>\n",
       "<tr>\n",
       "  <th>zipcode_98031</th>       <td> 8615.4372</td> <td> 8851.459</td> <td>    0.973</td> <td> 0.330</td> <td>-8734.099</td> <td>  2.6e+04</td>\n",
       "</tr>\n",
       "<tr>\n",
       "  <th>zipcode_98032</th>       <td>-1.131e+04</td> <td> 1.15e+04</td> <td>   -0.987</td> <td> 0.324</td> <td>-3.38e+04</td> <td> 1.12e+04</td>\n",
       "</tr>\n",
       "<tr>\n",
       "  <th>zipcode_98033</th>       <td> 3.495e+05</td> <td> 7981.533</td> <td>   43.787</td> <td> 0.000</td> <td> 3.34e+05</td> <td> 3.65e+05</td>\n",
       "</tr>\n",
       "<tr>\n",
       "  <th>zipcode_98034</th>       <td> 1.882e+05</td> <td> 7518.557</td> <td>   25.037</td> <td> 0.000</td> <td> 1.74e+05</td> <td> 2.03e+05</td>\n",
       "</tr>\n",
       "<tr>\n",
       "  <th>zipcode_98038</th>       <td> 4.185e+04</td> <td> 7397.222</td> <td>    5.658</td> <td> 0.000</td> <td> 2.74e+04</td> <td> 5.64e+04</td>\n",
       "</tr>\n",
       "<tr>\n",
       "  <th>zipcode_98039</th>       <td> 8.039e+05</td> <td> 2.67e+04</td> <td>   30.144</td> <td> 0.000</td> <td> 7.52e+05</td> <td> 8.56e+05</td>\n",
       "</tr>\n",
       "<tr>\n",
       "  <th>zipcode_98040</th>       <td> 4.852e+05</td> <td> 9335.292</td> <td>   51.977</td> <td> 0.000</td> <td> 4.67e+05</td> <td> 5.04e+05</td>\n",
       "</tr>\n",
       "<tr>\n",
       "  <th>zipcode_98042</th>       <td> 9413.5001</td> <td> 7487.517</td> <td>    1.257</td> <td> 0.209</td> <td>-5262.606</td> <td> 2.41e+04</td>\n",
       "</tr>\n",
       "<tr>\n",
       "  <th>zipcode_98045</th>       <td>  1.05e+05</td> <td> 9478.077</td> <td>   11.079</td> <td> 0.000</td> <td> 8.64e+04</td> <td> 1.24e+05</td>\n",
       "</tr>\n",
       "<tr>\n",
       "  <th>zipcode_98052</th>       <td> 2.405e+05</td> <td> 7450.664</td> <td>   32.274</td> <td> 0.000</td> <td> 2.26e+05</td> <td> 2.55e+05</td>\n",
       "</tr>\n",
       "<tr>\n",
       "  <th>zipcode_98053</th>       <td> 2.332e+05</td> <td> 8087.501</td> <td>   28.831</td> <td> 0.000</td> <td> 2.17e+05</td> <td> 2.49e+05</td>\n",
       "</tr>\n",
       "<tr>\n",
       "  <th>zipcode_98055</th>       <td> 4.026e+04</td> <td> 8905.216</td> <td>    4.521</td> <td> 0.000</td> <td> 2.28e+04</td> <td> 5.77e+04</td>\n",
       "</tr>\n",
       "<tr>\n",
       "  <th>zipcode_98056</th>       <td> 1.011e+05</td> <td> 8003.878</td> <td>   12.633</td> <td> 0.000</td> <td> 8.54e+04</td> <td> 1.17e+05</td>\n",
       "</tr>\n",
       "<tr>\n",
       "  <th>zipcode_98058</th>       <td> 2.812e+04</td> <td> 7780.364</td> <td>    3.614</td> <td> 0.000</td> <td> 1.29e+04</td> <td> 4.34e+04</td>\n",
       "</tr>\n",
       "<tr>\n",
       "  <th>zipcode_98059</th>       <td>  1.09e+05</td> <td> 7748.671</td> <td>   14.061</td> <td> 0.000</td> <td> 9.38e+04</td> <td> 1.24e+05</td>\n",
       "</tr>\n",
       "<tr>\n",
       "  <th>zipcode_98065</th>       <td> 1.319e+05</td> <td> 8613.733</td> <td>   15.313</td> <td> 0.000</td> <td> 1.15e+05</td> <td> 1.49e+05</td>\n",
       "</tr>\n",
       "<tr>\n",
       "  <th>zipcode_98070</th>       <td> 9.204e+04</td> <td> 1.21e+04</td> <td>    7.626</td> <td> 0.000</td> <td> 6.84e+04</td> <td> 1.16e+05</td>\n",
       "</tr>\n",
       "<tr>\n",
       "  <th>zipcode_98072</th>       <td> 1.668e+05</td> <td> 8885.626</td> <td>   18.773</td> <td> 0.000</td> <td> 1.49e+05</td> <td> 1.84e+05</td>\n",
       "</tr>\n",
       "<tr>\n",
       "  <th>zipcode_98074</th>       <td> 1.987e+05</td> <td> 7934.402</td> <td>   25.044</td> <td> 0.000</td> <td> 1.83e+05</td> <td> 2.14e+05</td>\n",
       "</tr>\n",
       "<tr>\n",
       "  <th>zipcode_98075</th>       <td> 2.293e+05</td> <td> 8360.822</td> <td>   27.421</td> <td> 0.000</td> <td> 2.13e+05</td> <td> 2.46e+05</td>\n",
       "</tr>\n",
       "<tr>\n",
       "  <th>zipcode_98077</th>       <td> 1.566e+05</td> <td> 9885.769</td> <td>   15.844</td> <td> 0.000</td> <td> 1.37e+05</td> <td> 1.76e+05</td>\n",
       "</tr>\n",
       "<tr>\n",
       "  <th>zipcode_98092</th>       <td>-2.206e+04</td> <td> 8285.190</td> <td>   -2.663</td> <td> 0.008</td> <td>-3.83e+04</td> <td>-5822.152</td>\n",
       "</tr>\n",
       "<tr>\n",
       "  <th>zipcode_98102</th>       <td> 4.018e+05</td> <td> 1.28e+04</td> <td>   31.492</td> <td> 0.000</td> <td> 3.77e+05</td> <td> 4.27e+05</td>\n",
       "</tr>\n",
       "<tr>\n",
       "  <th>zipcode_98103</th>       <td> 3.013e+05</td> <td> 7564.157</td> <td>   39.839</td> <td> 0.000</td> <td> 2.87e+05</td> <td> 3.16e+05</td>\n",
       "</tr>\n",
       "<tr>\n",
       "  <th>zipcode_98105</th>       <td> 4.103e+05</td> <td> 9703.972</td> <td>   42.283</td> <td> 0.000</td> <td> 3.91e+05</td> <td> 4.29e+05</td>\n",
       "</tr>\n",
       "<tr>\n",
       "  <th>zipcode_98106</th>       <td> 1.123e+05</td> <td> 8403.988</td> <td>   13.361</td> <td> 0.000</td> <td> 9.58e+04</td> <td> 1.29e+05</td>\n",
       "</tr>\n",
       "<tr>\n",
       "  <th>zipcode_98107</th>       <td> 2.975e+05</td> <td> 9086.037</td> <td>   32.747</td> <td> 0.000</td> <td>  2.8e+05</td> <td> 3.15e+05</td>\n",
       "</tr>\n",
       "<tr>\n",
       "  <th>zipcode_98108</th>       <td> 9.972e+04</td> <td>    1e+04</td> <td>    9.969</td> <td> 0.000</td> <td> 8.01e+04</td> <td> 1.19e+05</td>\n",
       "</tr>\n",
       "<tr>\n",
       "  <th>zipcode_98109</th>       <td>  4.38e+05</td> <td> 1.25e+04</td> <td>   35.015</td> <td> 0.000</td> <td> 4.13e+05</td> <td> 4.63e+05</td>\n",
       "</tr>\n",
       "<tr>\n",
       "  <th>zipcode_98112</th>       <td> 4.785e+05</td> <td> 9578.936</td> <td>   49.954</td> <td> 0.000</td> <td>  4.6e+05</td> <td> 4.97e+05</td>\n",
       "</tr>\n",
       "<tr>\n",
       "  <th>zipcode_98115</th>       <td> 3.071e+05</td> <td> 7519.451</td> <td>   40.843</td> <td> 0.000</td> <td> 2.92e+05</td> <td> 3.22e+05</td>\n",
       "</tr>\n",
       "<tr>\n",
       "  <th>zipcode_98116</th>       <td> 2.889e+05</td> <td> 8533.129</td> <td>   33.853</td> <td> 0.000</td> <td> 2.72e+05</td> <td> 3.06e+05</td>\n",
       "</tr>\n",
       "<tr>\n",
       "  <th>zipcode_98117</th>       <td>  2.92e+05</td> <td> 7602.830</td> <td>   38.406</td> <td> 0.000</td> <td> 2.77e+05</td> <td> 3.07e+05</td>\n",
       "</tr>\n",
       "<tr>\n",
       "  <th>zipcode_98118</th>       <td> 1.554e+05</td> <td> 7691.451</td> <td>   20.210</td> <td> 0.000</td> <td>  1.4e+05</td> <td> 1.71e+05</td>\n",
       "</tr>\n",
       "<tr>\n",
       "  <th>zipcode_98119</th>       <td> 4.235e+05</td> <td> 1.04e+04</td> <td>   40.808</td> <td> 0.000</td> <td> 4.03e+05</td> <td> 4.44e+05</td>\n",
       "</tr>\n",
       "<tr>\n",
       "  <th>zipcode_98122</th>       <td> 2.925e+05</td> <td> 8983.919</td> <td>   32.553</td> <td> 0.000</td> <td> 2.75e+05</td> <td>  3.1e+05</td>\n",
       "</tr>\n",
       "<tr>\n",
       "  <th>zipcode_98125</th>       <td> 1.875e+05</td> <td> 8024.939</td> <td>   23.362</td> <td> 0.000</td> <td> 1.72e+05</td> <td> 2.03e+05</td>\n",
       "</tr>\n",
       "<tr>\n",
       "  <th>zipcode_98126</th>       <td> 1.807e+05</td> <td> 8334.123</td> <td>   21.682</td> <td> 0.000</td> <td> 1.64e+05</td> <td> 1.97e+05</td>\n",
       "</tr>\n",
       "<tr>\n",
       "  <th>zipcode_98133</th>       <td> 1.389e+05</td> <td> 7680.096</td> <td>   18.090</td> <td> 0.000</td> <td> 1.24e+05</td> <td> 1.54e+05</td>\n",
       "</tr>\n",
       "<tr>\n",
       "  <th>zipcode_98136</th>       <td> 2.449e+05</td> <td> 9052.193</td> <td>   27.053</td> <td> 0.000</td> <td> 2.27e+05</td> <td> 2.63e+05</td>\n",
       "</tr>\n",
       "<tr>\n",
       "  <th>zipcode_98144</th>       <td> 2.388e+05</td> <td> 8515.508</td> <td>   28.046</td> <td> 0.000</td> <td> 2.22e+05</td> <td> 2.56e+05</td>\n",
       "</tr>\n",
       "<tr>\n",
       "  <th>zipcode_98146</th>       <td> 1.193e+05</td> <td> 8762.255</td> <td>   13.618</td> <td> 0.000</td> <td> 1.02e+05</td> <td> 1.36e+05</td>\n",
       "</tr>\n",
       "<tr>\n",
       "  <th>zipcode_98148</th>       <td> 5.608e+04</td> <td> 1.58e+04</td> <td>    3.559</td> <td> 0.000</td> <td> 2.52e+04</td> <td>  8.7e+04</td>\n",
       "</tr>\n",
       "<tr>\n",
       "  <th>zipcode_98155</th>       <td> 1.312e+05</td> <td> 7859.360</td> <td>   16.691</td> <td> 0.000</td> <td> 1.16e+05</td> <td> 1.47e+05</td>\n",
       "</tr>\n",
       "<tr>\n",
       "  <th>zipcode_98166</th>       <td> 9.764e+04</td> <td> 9118.566</td> <td>   10.707</td> <td> 0.000</td> <td> 7.98e+04</td> <td> 1.16e+05</td>\n",
       "</tr>\n",
       "<tr>\n",
       "  <th>zipcode_98168</th>       <td> 5.059e+04</td> <td> 8946.262</td> <td>    5.654</td> <td> 0.000</td> <td> 3.31e+04</td> <td> 6.81e+04</td>\n",
       "</tr>\n",
       "<tr>\n",
       "  <th>zipcode_98177</th>       <td> 2.283e+05</td> <td> 9181.226</td> <td>   24.865</td> <td> 0.000</td> <td>  2.1e+05</td> <td> 2.46e+05</td>\n",
       "</tr>\n",
       "<tr>\n",
       "  <th>zipcode_98178</th>       <td> 4.982e+04</td> <td> 9018.995</td> <td>    5.524</td> <td> 0.000</td> <td> 3.21e+04</td> <td> 6.75e+04</td>\n",
       "</tr>\n",
       "<tr>\n",
       "  <th>zipcode_98188</th>       <td> 2.809e+04</td> <td> 1.11e+04</td> <td>    2.528</td> <td> 0.011</td> <td> 6309.356</td> <td> 4.99e+04</td>\n",
       "</tr>\n",
       "<tr>\n",
       "  <th>zipcode_98198</th>       <td> 2.933e+04</td> <td> 8804.203</td> <td>    3.332</td> <td> 0.001</td> <td> 1.21e+04</td> <td> 4.66e+04</td>\n",
       "</tr>\n",
       "<tr>\n",
       "  <th>zipcode_98199</th>       <td> 3.602e+05</td> <td> 8706.081</td> <td>   41.374</td> <td> 0.000</td> <td> 3.43e+05</td> <td> 3.77e+05</td>\n",
       "</tr>\n",
       "<tr>\n",
       "  <th>age</th>                 <td>  864.0332</td> <td>   44.702</td> <td>   19.329</td> <td> 0.000</td> <td>  776.413</td> <td>  951.653</td>\n",
       "</tr>\n",
       "</table>\n",
       "<table class=\"simpletable\">\n",
       "<tr>\n",
       "  <th>Omnibus:</th>       <td>4614.752</td> <th>  Durbin-Watson:     </th> <td>   1.974</td> \n",
       "</tr>\n",
       "<tr>\n",
       "  <th>Prob(Omnibus):</th>  <td> 0.000</td>  <th>  Jarque-Bera (JB):  </th> <td>22824.827</td>\n",
       "</tr>\n",
       "<tr>\n",
       "  <th>Skew:</th>           <td> 0.971</td>  <th>  Prob(JB):          </th> <td>    0.00</td> \n",
       "</tr>\n",
       "<tr>\n",
       "  <th>Kurtosis:</th>       <td> 7.700</td>  <th>  Cond. No.          </th> <td>2.81e+06</td> \n",
       "</tr>\n",
       "</table><br/><br/>Notes:<br/>[1] Standard Errors assume that the covariance matrix of the errors is correctly specified.<br/>[2] The condition number is large, 2.81e+06. This might indicate that there are<br/>strong multicollinearity or other numerical problems."
      ],
      "text/plain": [
       "<class 'statsmodels.iolib.summary.Summary'>\n",
       "\"\"\"\n",
       "                            OLS Regression Results                            \n",
       "==============================================================================\n",
       "Dep. Variable:                  price   R-squared:                       0.820\n",
       "Model:                            OLS   Adj. R-squared:                  0.819\n",
       "Method:                 Least Squares   F-statistic:                     1173.\n",
       "Date:                Tue, 01 Mar 2022   Prob (F-statistic):               0.00\n",
       "Time:                        08:50:18   Log-Likelihood:            -2.7591e+05\n",
       "No. Observations:               21179   AIC:                         5.520e+05\n",
       "Df Residuals:                   21096   BIC:                         5.527e+05\n",
       "Df Model:                          82                                         \n",
       "Covariance Type:            nonrobust                                         \n",
       "=======================================================================================\n",
       "                          coef    std err          t      P>|t|      [0.025      0.975]\n",
       "---------------------------------------------------------------------------------------\n",
       "Intercept           -4.982e+05   1.05e+04    -47.581      0.000   -5.19e+05   -4.78e+05\n",
       "bedrooms            -1.277e+04   1075.342    -11.876      0.000   -1.49e+04   -1.07e+04\n",
       "bathrooms            1.233e+04   1832.489      6.729      0.000    8738.796    1.59e+04\n",
       "sqft_living           133.5021      1.836     72.721      0.000     129.904     137.100\n",
       "sqft_lot                0.2854      0.021     13.805      0.000       0.245       0.326\n",
       "floors              -4061.1075   1927.948     -2.106      0.035   -7840.032    -282.183\n",
       "grade                 6.99e+04   1206.545     57.934      0.000    6.75e+04    7.23e+04\n",
       "renovated            3.373e+04   4525.140      7.455      0.000    2.49e+04    4.26e+04\n",
       "waterfront_YES       4.002e+05   1.28e+04     31.323      0.000    3.75e+05    4.25e+05\n",
       "condition_Fair      -1.128e+04   8643.645     -1.305      0.192   -2.82e+04    5660.538\n",
       "condition_Good       1.531e+04   1968.320      7.776      0.000    1.14e+04    1.92e+04\n",
       "condition_Poor       -2.69e+04   2.06e+04     -1.303      0.192   -6.73e+04    1.35e+04\n",
       "condition_Very_Good   4.95e+04   3125.875     15.837      0.000    4.34e+04    5.56e+04\n",
       "zipcode_98002         1.57e+04   9762.294      1.608      0.108   -3435.071    3.48e+04\n",
       "zipcode_98003        -1.12e+04   8793.844     -1.273      0.203   -2.84e+04    6040.384\n",
       "zipcode_98004        6.064e+05   9371.595     64.709      0.000    5.88e+05    6.25e+05\n",
       "zipcode_98005        3.093e+05   1.05e+04     29.475      0.000    2.89e+05     3.3e+05\n",
       "zipcode_98006        2.803e+05   7838.753     35.762      0.000    2.65e+05    2.96e+05\n",
       "zipcode_98007        2.432e+05    1.1e+04     22.119      0.000    2.22e+05    2.65e+05\n",
       "zipcode_98008        2.476e+05   8861.647     27.941      0.000     2.3e+05    2.65e+05\n",
       "zipcode_98010        8.261e+04   1.25e+04      6.607      0.000    5.81e+04    1.07e+05\n",
       "zipcode_98011        1.319e+05   9813.473     13.441      0.000    1.13e+05    1.51e+05\n",
       "zipcode_98014          1.1e+05   1.16e+04      9.441      0.000    8.71e+04    1.33e+05\n",
       "zipcode_98019        9.671e+04   9915.142      9.754      0.000    7.73e+04    1.16e+05\n",
       "zipcode_98022         1.53e+04   9363.469      1.634      0.102   -3052.081    3.37e+04\n",
       "zipcode_98023       -2.925e+04   7632.606     -3.833      0.000   -4.42e+04   -1.43e+04\n",
       "zipcode_98024         1.63e+05   1.39e+04     11.701      0.000    1.36e+05     1.9e+05\n",
       "zipcode_98027        1.757e+05   8015.965     21.920      0.000     1.6e+05    1.91e+05\n",
       "zipcode_98028        1.268e+05   8765.196     14.469      0.000     1.1e+05    1.44e+05\n",
       "zipcode_98029        2.136e+05   8548.812     24.984      0.000    1.97e+05     2.3e+05\n",
       "zipcode_98030        4580.4170   9012.913      0.508      0.611   -1.31e+04    2.22e+04\n",
       "zipcode_98031        8615.4372   8851.459      0.973      0.330   -8734.099     2.6e+04\n",
       "zipcode_98032       -1.131e+04   1.15e+04     -0.987      0.324   -3.38e+04    1.12e+04\n",
       "zipcode_98033        3.495e+05   7981.533     43.787      0.000    3.34e+05    3.65e+05\n",
       "zipcode_98034        1.882e+05   7518.557     25.037      0.000    1.74e+05    2.03e+05\n",
       "zipcode_98038        4.185e+04   7397.222      5.658      0.000    2.74e+04    5.64e+04\n",
       "zipcode_98039        8.039e+05   2.67e+04     30.144      0.000    7.52e+05    8.56e+05\n",
       "zipcode_98040        4.852e+05   9335.292     51.977      0.000    4.67e+05    5.04e+05\n",
       "zipcode_98042        9413.5001   7487.517      1.257      0.209   -5262.606    2.41e+04\n",
       "zipcode_98045         1.05e+05   9478.077     11.079      0.000    8.64e+04    1.24e+05\n",
       "zipcode_98052        2.405e+05   7450.664     32.274      0.000    2.26e+05    2.55e+05\n",
       "zipcode_98053        2.332e+05   8087.501     28.831      0.000    2.17e+05    2.49e+05\n",
       "zipcode_98055        4.026e+04   8905.216      4.521      0.000    2.28e+04    5.77e+04\n",
       "zipcode_98056        1.011e+05   8003.878     12.633      0.000    8.54e+04    1.17e+05\n",
       "zipcode_98058        2.812e+04   7780.364      3.614      0.000    1.29e+04    4.34e+04\n",
       "zipcode_98059         1.09e+05   7748.671     14.061      0.000    9.38e+04    1.24e+05\n",
       "zipcode_98065        1.319e+05   8613.733     15.313      0.000    1.15e+05    1.49e+05\n",
       "zipcode_98070        9.204e+04   1.21e+04      7.626      0.000    6.84e+04    1.16e+05\n",
       "zipcode_98072        1.668e+05   8885.626     18.773      0.000    1.49e+05    1.84e+05\n",
       "zipcode_98074        1.987e+05   7934.402     25.044      0.000    1.83e+05    2.14e+05\n",
       "zipcode_98075        2.293e+05   8360.822     27.421      0.000    2.13e+05    2.46e+05\n",
       "zipcode_98077        1.566e+05   9885.769     15.844      0.000    1.37e+05    1.76e+05\n",
       "zipcode_98092       -2.206e+04   8285.190     -2.663      0.008   -3.83e+04   -5822.152\n",
       "zipcode_98102        4.018e+05   1.28e+04     31.492      0.000    3.77e+05    4.27e+05\n",
       "zipcode_98103        3.013e+05   7564.157     39.839      0.000    2.87e+05    3.16e+05\n",
       "zipcode_98105        4.103e+05   9703.972     42.283      0.000    3.91e+05    4.29e+05\n",
       "zipcode_98106        1.123e+05   8403.988     13.361      0.000    9.58e+04    1.29e+05\n",
       "zipcode_98107        2.975e+05   9086.037     32.747      0.000     2.8e+05    3.15e+05\n",
       "zipcode_98108        9.972e+04      1e+04      9.969      0.000    8.01e+04    1.19e+05\n",
       "zipcode_98109         4.38e+05   1.25e+04     35.015      0.000    4.13e+05    4.63e+05\n",
       "zipcode_98112        4.785e+05   9578.936     49.954      0.000     4.6e+05    4.97e+05\n",
       "zipcode_98115        3.071e+05   7519.451     40.843      0.000    2.92e+05    3.22e+05\n",
       "zipcode_98116        2.889e+05   8533.129     33.853      0.000    2.72e+05    3.06e+05\n",
       "zipcode_98117         2.92e+05   7602.830     38.406      0.000    2.77e+05    3.07e+05\n",
       "zipcode_98118        1.554e+05   7691.451     20.210      0.000     1.4e+05    1.71e+05\n",
       "zipcode_98119        4.235e+05   1.04e+04     40.808      0.000    4.03e+05    4.44e+05\n",
       "zipcode_98122        2.925e+05   8983.919     32.553      0.000    2.75e+05     3.1e+05\n",
       "zipcode_98125        1.875e+05   8024.939     23.362      0.000    1.72e+05    2.03e+05\n",
       "zipcode_98126        1.807e+05   8334.123     21.682      0.000    1.64e+05    1.97e+05\n",
       "zipcode_98133        1.389e+05   7680.096     18.090      0.000    1.24e+05    1.54e+05\n",
       "zipcode_98136        2.449e+05   9052.193     27.053      0.000    2.27e+05    2.63e+05\n",
       "zipcode_98144        2.388e+05   8515.508     28.046      0.000    2.22e+05    2.56e+05\n",
       "zipcode_98146        1.193e+05   8762.255     13.618      0.000    1.02e+05    1.36e+05\n",
       "zipcode_98148        5.608e+04   1.58e+04      3.559      0.000    2.52e+04     8.7e+04\n",
       "zipcode_98155        1.312e+05   7859.360     16.691      0.000    1.16e+05    1.47e+05\n",
       "zipcode_98166        9.764e+04   9118.566     10.707      0.000    7.98e+04    1.16e+05\n",
       "zipcode_98168        5.059e+04   8946.262      5.654      0.000    3.31e+04    6.81e+04\n",
       "zipcode_98177        2.283e+05   9181.226     24.865      0.000     2.1e+05    2.46e+05\n",
       "zipcode_98178        4.982e+04   9018.995      5.524      0.000    3.21e+04    6.75e+04\n",
       "zipcode_98188        2.809e+04   1.11e+04      2.528      0.011    6309.356    4.99e+04\n",
       "zipcode_98198        2.933e+04   8804.203      3.332      0.001    1.21e+04    4.66e+04\n",
       "zipcode_98199        3.602e+05   8706.081     41.374      0.000    3.43e+05    3.77e+05\n",
       "age                   864.0332     44.702     19.329      0.000     776.413     951.653\n",
       "==============================================================================\n",
       "Omnibus:                     4614.752   Durbin-Watson:                   1.974\n",
       "Prob(Omnibus):                  0.000   Jarque-Bera (JB):            22824.827\n",
       "Skew:                           0.971   Prob(JB):                         0.00\n",
       "Kurtosis:                       7.700   Cond. No.                     2.81e+06\n",
       "==============================================================================\n",
       "\n",
       "Notes:\n",
       "[1] Standard Errors assume that the covariance matrix of the errors is correctly specified.\n",
       "[2] The condition number is large, 2.81e+06. This might indicate that there are\n",
       "strong multicollinearity or other numerical problems.\n",
       "\"\"\""
      ]
     },
     "execution_count": 200,
     "metadata": {},
     "output_type": "execute_result"
    }
   ],
   "source": [
    "model_2.summary()"
   ]
  },
  {
   "cell_type": "markdown",
   "metadata": {},
   "source": [
    "We have increased our R-squared value from .463 to .820 by adding in more variables. Next, we will see if we can create a more accurate model by transforming and normalizing our data."
   ]
  },
  {
   "cell_type": "markdown",
   "metadata": {},
   "source": [
    "## Third Model"
   ]
  },
  {
   "cell_type": "markdown",
   "metadata": {},
   "source": [
    "To create our third model, we will remove variables with multicolinearity, perform log transformations, and normalize our data."
   ]
  },
  {
   "cell_type": "markdown",
   "metadata": {},
   "source": [
    "### Multicolinearity"
   ]
  },
  {
   "cell_type": "markdown",
   "metadata": {},
   "source": [
    "We will first look at which variables are highly correlated with one another."
   ]
  },
  {
   "cell_type": "code",
   "execution_count": 201,
   "metadata": {
    "ExecuteTime": {
     "end_time": "2022-03-01T16:50:18.165534Z",
     "start_time": "2022-03-01T16:50:18.162476Z"
    }
   },
   "outputs": [],
   "source": [
    "# Create a function that shows which variables have a correlation \n",
    "# of .7 or higher\n",
    "def multicolinearity(data):\n",
    "    pred = data.drop('price', axis=1)\n",
    "    df = pred.corr().abs().stack().reset_index().sort_values(0, \n",
    "                                                             ascending=False)\n",
    "    df['pairs'] = list(zip(df.level_0, df.level_1))\n",
    "    df.set_index(['pairs'], inplace=True)\n",
    "    df.drop(columns=['level_0', 'level_1'], inplace=True)\n",
    "    df.columns = ['cc']\n",
    "    df.drop_duplicates(inplace=True)\n",
    "    return df[(df.cc > .7)&(df.cc < 1)]"
   ]
  },
  {
   "cell_type": "code",
   "execution_count": 202,
   "metadata": {
    "ExecuteTime": {
     "end_time": "2022-03-01T16:50:18.327080Z",
     "start_time": "2022-03-01T16:50:18.166566Z"
    }
   },
   "outputs": [
    {
     "data": {
      "text/html": [
       "<div>\n",
       "<style scoped>\n",
       "    .dataframe tbody tr th:only-of-type {\n",
       "        vertical-align: middle;\n",
       "    }\n",
       "\n",
       "    .dataframe tbody tr th {\n",
       "        vertical-align: top;\n",
       "    }\n",
       "\n",
       "    .dataframe thead th {\n",
       "        text-align: right;\n",
       "    }\n",
       "</style>\n",
       "<table border=\"1\" class=\"dataframe\">\n",
       "  <thead>\n",
       "    <tr style=\"text-align: right;\">\n",
       "      <th></th>\n",
       "      <th>cc</th>\n",
       "    </tr>\n",
       "    <tr>\n",
       "      <th>pairs</th>\n",
       "      <th></th>\n",
       "    </tr>\n",
       "  </thead>\n",
       "  <tbody>\n",
       "    <tr>\n",
       "      <th>(grade, sqft_living)</th>\n",
       "      <td>0.738344</td>\n",
       "    </tr>\n",
       "    <tr>\n",
       "      <th>(bathrooms, sqft_living)</th>\n",
       "      <td>0.735551</td>\n",
       "    </tr>\n",
       "  </tbody>\n",
       "</table>\n",
       "</div>"
      ],
      "text/plain": [
       "                                cc\n",
       "pairs                             \n",
       "(grade, sqft_living)      0.738344\n",
       "(bathrooms, sqft_living)  0.735551"
      ]
     },
     "execution_count": 202,
     "metadata": {},
     "output_type": "execute_result"
    }
   ],
   "source": [
    "# Explore variable correlation in our second model dataframe\n",
    "multicolinearity(df_preprocessed)"
   ]
  },
  {
   "cell_type": "markdown",
   "metadata": {},
   "source": [
    "Based on this function, 'sqft_living' has a correlation greater than .7 with both 'grade' and 'bathrooms'.  Instead of removing both grade and bathrooms, I believe we should remove sqft_living from our model."
   ]
  },
  {
   "cell_type": "code",
   "execution_count": 203,
   "metadata": {
    "ExecuteTime": {
     "end_time": "2022-03-01T16:50:18.331576Z",
     "start_time": "2022-03-01T16:50:18.328208Z"
    }
   },
   "outputs": [],
   "source": [
    "df_preprocessed.drop('sqft_living', axis=1, inplace=True)"
   ]
  },
  {
   "cell_type": "markdown",
   "metadata": {},
   "source": [
    "### Checking for Normal Distribution"
   ]
  },
  {
   "cell_type": "markdown",
   "metadata": {},
   "source": [
    "Next, we will be looking at the distribution of our continuous variables.  We only have two true continuous variables in this dataset: price and sqft_lot."
   ]
  },
  {
   "cell_type": "code",
   "execution_count": 204,
   "metadata": {
    "ExecuteTime": {
     "end_time": "2022-03-01T16:50:18.336473Z",
     "start_time": "2022-03-01T16:50:18.332521Z"
    }
   },
   "outputs": [],
   "source": [
    "# Define continuous and discrete variables\n",
    "continuous = ['price', 'sqft_lot']\n",
    "df_cont = df_preprocessed[continuous]\n",
    "df_discrete = df_preprocessed.drop(['price', 'sqft_lot'], axis=1)"
   ]
  },
  {
   "cell_type": "code",
   "execution_count": 205,
   "metadata": {
    "ExecuteTime": {
     "end_time": "2022-03-01T16:50:18.625457Z",
     "start_time": "2022-03-01T16:50:18.337738Z"
    }
   },
   "outputs": [
    {
     "data": {
      "image/png": "[encoded data removed]",
      "text/plain": [
       "<Figure size 432x432 with 4 Axes>"
      ]
     },
     "metadata": {
      "needs_background": "light"
     },
     "output_type": "display_data"
    }
   ],
   "source": [
    "# Check for normal distribution\n",
    "pd.plotting.scatter_matrix(df_cont, figsize=(6, 6));"
   ]
  },
  {
   "cell_type": "markdown",
   "metadata": {},
   "source": [
    "Neither of these variables seem to follow a normal distribution, so we will perform log transformations on them."
   ]
  },
  {
   "cell_type": "code",
   "execution_count": 206,
   "metadata": {
    "ExecuteTime": {
     "end_time": "2022-03-01T16:50:18.628596Z",
     "start_time": "2022-03-01T16:50:18.626343Z"
    }
   },
   "outputs": [],
   "source": [
    "# Log transformations\n",
    "log_names = [f'{column}_log' for column in df_cont.columns]\n",
    "df_cont_log = np.log(df_cont)\n",
    "df_cont_log.columns = log_names"
   ]
  },
  {
   "cell_type": "code",
   "execution_count": 207,
   "metadata": {
    "ExecuteTime": {
     "end_time": "2022-03-01T16:50:18.941694Z",
     "start_time": "2022-03-01T16:50:18.629339Z"
    }
   },
   "outputs": [
    {
     "data": {
      "image/png": "[encoded data removed]",
      "text/plain": [
       "<Figure size 432x432 with 4 Axes>"
      ]
     },
     "metadata": {
      "needs_background": "light"
     },
     "output_type": "display_data"
    }
   ],
   "source": [
    "# Recheck distributions\n",
    "pd.plotting.scatter_matrix(df_cont_log, figsize=(6, 6));"
   ]
  },
  {
   "cell_type": "markdown",
   "metadata": {},
   "source": [
    "This data now follows more of a normal distribution."
   ]
  },
  {
   "cell_type": "code",
   "execution_count": 208,
   "metadata": {
    "ExecuteTime": {
     "end_time": "2022-03-01T16:50:18.945756Z",
     "start_time": "2022-03-01T16:50:18.942637Z"
    }
   },
   "outputs": [],
   "source": [
    "# Rebuild our dataframe with log values for the continuous variables\n",
    "df_transformed = pd.concat([df_cont_log, df_discrete], axis=1)"
   ]
  },
  {
   "cell_type": "markdown",
   "metadata": {},
   "source": [
    "### Create a New Model"
   ]
  },
  {
   "cell_type": "code",
   "execution_count": 230,
   "metadata": {
    "ExecuteTime": {
     "end_time": "2022-03-01T16:51:58.319759Z",
     "start_time": "2022-03-01T16:51:58.314434Z"
    }
   },
   "outputs": [],
   "source": [
    "# Rename the price_log column so the dataframe will perform accurately \n",
    "# with our model function\n",
    "df_transformed.rename(columns = {'price_log':'price'}, inplace=True)"
   ]
  },
  {
   "cell_type": "code",
   "execution_count": 231,
   "metadata": {
    "ExecuteTime": {
     "end_time": "2022-03-01T16:52:02.779649Z",
     "start_time": "2022-03-01T16:52:02.413321Z"
    }
   },
   "outputs": [],
   "source": [
    "# Create new model\n",
    "model_3 = model(df_transformed)"
   ]
  },
  {
   "cell_type": "code",
   "execution_count": 232,
   "metadata": {
    "ExecuteTime": {
     "end_time": "2022-03-01T16:52:03.624974Z",
     "start_time": "2022-03-01T16:52:03.555845Z"
    }
   },
   "outputs": [
    {
     "data": {
      "text/html": [
       "<table class=\"simpletable\">\n",
       "<caption>OLS Regression Results</caption>\n",
       "<tr>\n",
       "  <th>Dep. Variable:</th>          <td>price</td>      <th>  R-squared:         </th> <td>   0.824</td>\n",
       "</tr>\n",
       "<tr>\n",
       "  <th>Model:</th>                   <td>OLS</td>       <th>  Adj. R-squared:    </th> <td>   0.823</td>\n",
       "</tr>\n",
       "<tr>\n",
       "  <th>Method:</th>             <td>Least Squares</td>  <th>  F-statistic:       </th> <td>   1218.</td>\n",
       "</tr>\n",
       "<tr>\n",
       "  <th>Date:</th>             <td>Tue, 01 Mar 2022</td> <th>  Prob (F-statistic):</th>  <td>  0.00</td> \n",
       "</tr>\n",
       "<tr>\n",
       "  <th>Time:</th>                 <td>08:52:03</td>     <th>  Log-Likelihood:    </th> <td>  3695.4</td>\n",
       "</tr>\n",
       "<tr>\n",
       "  <th>No. Observations:</th>      <td> 21179</td>      <th>  AIC:               </th> <td>  -7227.</td>\n",
       "</tr>\n",
       "<tr>\n",
       "  <th>Df Residuals:</th>          <td> 21097</td>      <th>  BIC:               </th> <td>  -6574.</td>\n",
       "</tr>\n",
       "<tr>\n",
       "  <th>Df Model:</th>              <td>    81</td>      <th>                     </th>     <td> </td>   \n",
       "</tr>\n",
       "<tr>\n",
       "  <th>Covariance Type:</th>      <td>nonrobust</td>    <th>                     </th>     <td> </td>   \n",
       "</tr>\n",
       "</table>\n",
       "<table class=\"simpletable\">\n",
       "<tr>\n",
       "           <td></td>              <th>coef</th>     <th>std err</th>      <th>t</th>      <th>P>|t|</th>  <th>[0.025</th>    <th>0.975]</th>  \n",
       "</tr>\n",
       "<tr>\n",
       "  <th>Intercept</th>           <td>    9.7910</td> <td>    0.024</td> <td>  410.183</td> <td> 0.000</td> <td>    9.744</td> <td>    9.838</td>\n",
       "</tr>\n",
       "<tr>\n",
       "  <th>sqft_lot_log</th>        <td>    0.1025</td> <td>    0.002</td> <td>   45.392</td> <td> 0.000</td> <td>    0.098</td> <td>    0.107</td>\n",
       "</tr>\n",
       "<tr>\n",
       "  <th>bedrooms</th>            <td>    0.0350</td> <td>    0.002</td> <td>   18.923</td> <td> 0.000</td> <td>    0.031</td> <td>    0.039</td>\n",
       "</tr>\n",
       "<tr>\n",
       "  <th>bathrooms</th>           <td>    0.1248</td> <td>    0.003</td> <td>   40.941</td> <td> 0.000</td> <td>    0.119</td> <td>    0.131</td>\n",
       "</tr>\n",
       "<tr>\n",
       "  <th>floors</th>              <td>    0.0296</td> <td>    0.004</td> <td>    8.109</td> <td> 0.000</td> <td>    0.022</td> <td>    0.037</td>\n",
       "</tr>\n",
       "<tr>\n",
       "  <th>grade</th>               <td>    0.1762</td> <td>    0.002</td> <td>   90.965</td> <td> 0.000</td> <td>    0.172</td> <td>    0.180</td>\n",
       "</tr>\n",
       "<tr>\n",
       "  <th>renovated</th>           <td>    0.0515</td> <td>    0.008</td> <td>    6.159</td> <td> 0.000</td> <td>    0.035</td> <td>    0.068</td>\n",
       "</tr>\n",
       "<tr>\n",
       "  <th>waterfront_YES</th>      <td>    0.6128</td> <td>    0.024</td> <td>   25.971</td> <td> 0.000</td> <td>    0.567</td> <td>    0.659</td>\n",
       "</tr>\n",
       "<tr>\n",
       "  <th>condition_Fair</th>      <td>   -0.1606</td> <td>    0.016</td> <td>  -10.059</td> <td> 0.000</td> <td>   -0.192</td> <td>   -0.129</td>\n",
       "</tr>\n",
       "<tr>\n",
       "  <th>condition_Good</th>      <td>    0.0370</td> <td>    0.004</td> <td>   10.185</td> <td> 0.000</td> <td>    0.030</td> <td>    0.044</td>\n",
       "</tr>\n",
       "<tr>\n",
       "  <th>condition_Poor</th>      <td>   -0.2410</td> <td>    0.038</td> <td>   -6.322</td> <td> 0.000</td> <td>   -0.316</td> <td>   -0.166</td>\n",
       "</tr>\n",
       "<tr>\n",
       "  <th>condition_Very_Good</th> <td>    0.0956</td> <td>    0.006</td> <td>   16.551</td> <td> 0.000</td> <td>    0.084</td> <td>    0.107</td>\n",
       "</tr>\n",
       "<tr>\n",
       "  <th>zipcode_98002</th>       <td>   -0.0133</td> <td>    0.018</td> <td>   -0.738</td> <td> 0.460</td> <td>   -0.049</td> <td>    0.022</td>\n",
       "</tr>\n",
       "<tr>\n",
       "  <th>zipcode_98003</th>       <td>    0.0095</td> <td>    0.016</td> <td>    0.586</td> <td> 0.558</td> <td>   -0.022</td> <td>    0.041</td>\n",
       "</tr>\n",
       "<tr>\n",
       "  <th>zipcode_98004</th>       <td>    1.1015</td> <td>    0.017</td> <td>   63.570</td> <td> 0.000</td> <td>    1.068</td> <td>    1.135</td>\n",
       "</tr>\n",
       "<tr>\n",
       "  <th>zipcode_98005</th>       <td>    0.7275</td> <td>    0.019</td> <td>   37.538</td> <td> 0.000</td> <td>    0.690</td> <td>    0.765</td>\n",
       "</tr>\n",
       "<tr>\n",
       "  <th>zipcode_98006</th>       <td>    0.6661</td> <td>    0.014</td> <td>   45.972</td> <td> 0.000</td> <td>    0.638</td> <td>    0.695</td>\n",
       "</tr>\n",
       "<tr>\n",
       "  <th>zipcode_98007</th>       <td>    0.6310</td> <td>    0.020</td> <td>   31.050</td> <td> 0.000</td> <td>    0.591</td> <td>    0.671</td>\n",
       "</tr>\n",
       "<tr>\n",
       "  <th>zipcode_98008</th>       <td>    0.6630</td> <td>    0.016</td> <td>   40.429</td> <td> 0.000</td> <td>    0.631</td> <td>    0.695</td>\n",
       "</tr>\n",
       "<tr>\n",
       "  <th>zipcode_98010</th>       <td>    0.2309</td> <td>    0.023</td> <td>    9.988</td> <td> 0.000</td> <td>    0.186</td> <td>    0.276</td>\n",
       "</tr>\n",
       "<tr>\n",
       "  <th>zipcode_98011</th>       <td>    0.4760</td> <td>    0.018</td> <td>   26.257</td> <td> 0.000</td> <td>    0.440</td> <td>    0.512</td>\n",
       "</tr>\n",
       "<tr>\n",
       "  <th>zipcode_98014</th>       <td>    0.2756</td> <td>    0.021</td> <td>   12.839</td> <td> 0.000</td> <td>    0.234</td> <td>    0.318</td>\n",
       "</tr>\n",
       "<tr>\n",
       "  <th>zipcode_98019</th>       <td>    0.3324</td> <td>    0.018</td> <td>   18.154</td> <td> 0.000</td> <td>    0.297</td> <td>    0.368</td>\n",
       "</tr>\n",
       "<tr>\n",
       "  <th>zipcode_98022</th>       <td>    0.0506</td> <td>    0.017</td> <td>    2.940</td> <td> 0.003</td> <td>    0.017</td> <td>    0.084</td>\n",
       "</tr>\n",
       "<tr>\n",
       "  <th>zipcode_98023</th>       <td>   -0.0264</td> <td>    0.014</td> <td>   -1.870</td> <td> 0.062</td> <td>   -0.054</td> <td>    0.001</td>\n",
       "</tr>\n",
       "<tr>\n",
       "  <th>zipcode_98024</th>       <td>    0.3779</td> <td>    0.026</td> <td>   14.678</td> <td> 0.000</td> <td>    0.327</td> <td>    0.428</td>\n",
       "</tr>\n",
       "<tr>\n",
       "  <th>zipcode_98027</th>       <td>    0.5200</td> <td>    0.015</td> <td>   35.151</td> <td> 0.000</td> <td>    0.491</td> <td>    0.549</td>\n",
       "</tr>\n",
       "<tr>\n",
       "  <th>zipcode_98028</th>       <td>    0.4368</td> <td>    0.016</td> <td>   26.975</td> <td> 0.000</td> <td>    0.405</td> <td>    0.469</td>\n",
       "</tr>\n",
       "<tr>\n",
       "  <th>zipcode_98029</th>       <td>    0.6027</td> <td>    0.016</td> <td>   38.056</td> <td> 0.000</td> <td>    0.572</td> <td>    0.634</td>\n",
       "</tr>\n",
       "<tr>\n",
       "  <th>zipcode_98030</th>       <td>    0.0579</td> <td>    0.017</td> <td>    3.480</td> <td> 0.001</td> <td>    0.025</td> <td>    0.091</td>\n",
       "</tr>\n",
       "<tr>\n",
       "  <th>zipcode_98031</th>       <td>    0.0661</td> <td>    0.016</td> <td>    4.044</td> <td> 0.000</td> <td>    0.034</td> <td>    0.098</td>\n",
       "</tr>\n",
       "<tr>\n",
       "  <th>zipcode_98032</th>       <td>   -0.0425</td> <td>    0.021</td> <td>   -2.009</td> <td> 0.045</td> <td>   -0.084</td> <td>   -0.001</td>\n",
       "</tr>\n",
       "<tr>\n",
       "  <th>zipcode_98033</th>       <td>    0.7935</td> <td>    0.015</td> <td>   53.756</td> <td> 0.000</td> <td>    0.765</td> <td>    0.822</td>\n",
       "</tr>\n",
       "<tr>\n",
       "  <th>zipcode_98034</th>       <td>    0.5328</td> <td>    0.014</td> <td>   38.312</td> <td> 0.000</td> <td>    0.506</td> <td>    0.560</td>\n",
       "</tr>\n",
       "<tr>\n",
       "  <th>zipcode_98038</th>       <td>    0.1928</td> <td>    0.014</td> <td>   14.124</td> <td> 0.000</td> <td>    0.166</td> <td>    0.220</td>\n",
       "</tr>\n",
       "<tr>\n",
       "  <th>zipcode_98039</th>       <td>    1.2881</td> <td>    0.049</td> <td>   26.155</td> <td> 0.000</td> <td>    1.192</td> <td>    1.385</td>\n",
       "</tr>\n",
       "<tr>\n",
       "  <th>zipcode_98040</th>       <td>    0.9059</td> <td>    0.017</td> <td>   52.490</td> <td> 0.000</td> <td>    0.872</td> <td>    0.940</td>\n",
       "</tr>\n",
       "<tr>\n",
       "  <th>zipcode_98042</th>       <td>    0.0676</td> <td>    0.014</td> <td>    4.888</td> <td> 0.000</td> <td>    0.040</td> <td>    0.095</td>\n",
       "</tr>\n",
       "<tr>\n",
       "  <th>zipcode_98045</th>       <td>    0.2969</td> <td>    0.018</td> <td>   16.950</td> <td> 0.000</td> <td>    0.263</td> <td>    0.331</td>\n",
       "</tr>\n",
       "<tr>\n",
       "  <th>zipcode_98052</th>       <td>    0.6484</td> <td>    0.014</td> <td>   47.071</td> <td> 0.000</td> <td>    0.621</td> <td>    0.675</td>\n",
       "</tr>\n",
       "<tr>\n",
       "  <th>zipcode_98053</th>       <td>    0.6337</td> <td>    0.015</td> <td>   42.483</td> <td> 0.000</td> <td>    0.604</td> <td>    0.663</td>\n",
       "</tr>\n",
       "<tr>\n",
       "  <th>zipcode_98055</th>       <td>    0.1555</td> <td>    0.016</td> <td>    9.438</td> <td> 0.000</td> <td>    0.123</td> <td>    0.188</td>\n",
       "</tr>\n",
       "<tr>\n",
       "  <th>zipcode_98056</th>       <td>    0.3493</td> <td>    0.015</td> <td>   23.603</td> <td> 0.000</td> <td>    0.320</td> <td>    0.378</td>\n",
       "</tr>\n",
       "<tr>\n",
       "  <th>zipcode_98058</th>       <td>    0.1591</td> <td>    0.014</td> <td>   11.072</td> <td> 0.000</td> <td>    0.131</td> <td>    0.187</td>\n",
       "</tr>\n",
       "<tr>\n",
       "  <th>zipcode_98059</th>       <td>    0.3802</td> <td>    0.014</td> <td>   26.576</td> <td> 0.000</td> <td>    0.352</td> <td>    0.408</td>\n",
       "</tr>\n",
       "<tr>\n",
       "  <th>zipcode_98065</th>       <td>    0.5144</td> <td>    0.016</td> <td>   32.390</td> <td> 0.000</td> <td>    0.483</td> <td>    0.546</td>\n",
       "</tr>\n",
       "<tr>\n",
       "  <th>zipcode_98070</th>       <td>    0.2796</td> <td>    0.022</td> <td>   12.539</td> <td> 0.000</td> <td>    0.236</td> <td>    0.323</td>\n",
       "</tr>\n",
       "<tr>\n",
       "  <th>zipcode_98072</th>       <td>    0.4713</td> <td>    0.016</td> <td>   28.692</td> <td> 0.000</td> <td>    0.439</td> <td>    0.503</td>\n",
       "</tr>\n",
       "<tr>\n",
       "  <th>zipcode_98074</th>       <td>    0.5647</td> <td>    0.015</td> <td>   38.533</td> <td> 0.000</td> <td>    0.536</td> <td>    0.593</td>\n",
       "</tr>\n",
       "<tr>\n",
       "  <th>zipcode_98075</th>       <td>    0.6084</td> <td>    0.015</td> <td>   39.424</td> <td> 0.000</td> <td>    0.578</td> <td>    0.639</td>\n",
       "</tr>\n",
       "<tr>\n",
       "  <th>zipcode_98077</th>       <td>    0.4118</td> <td>    0.018</td> <td>   22.453</td> <td> 0.000</td> <td>    0.376</td> <td>    0.448</td>\n",
       "</tr>\n",
       "<tr>\n",
       "  <th>zipcode_98092</th>       <td>    0.0267</td> <td>    0.015</td> <td>    1.746</td> <td> 0.081</td> <td>   -0.003</td> <td>    0.057</td>\n",
       "</tr>\n",
       "<tr>\n",
       "  <th>zipcode_98102</th>       <td>    0.9309</td> <td>    0.024</td> <td>   39.082</td> <td> 0.000</td> <td>    0.884</td> <td>    0.978</td>\n",
       "</tr>\n",
       "<tr>\n",
       "  <th>zipcode_98103</th>       <td>    0.8050</td> <td>    0.014</td> <td>   56.375</td> <td> 0.000</td> <td>    0.777</td> <td>    0.833</td>\n",
       "</tr>\n",
       "<tr>\n",
       "  <th>zipcode_98105</th>       <td>    0.9348</td> <td>    0.018</td> <td>   51.469</td> <td> 0.000</td> <td>    0.899</td> <td>    0.970</td>\n",
       "</tr>\n",
       "<tr>\n",
       "  <th>zipcode_98106</th>       <td>    0.3194</td> <td>    0.016</td> <td>   20.424</td> <td> 0.000</td> <td>    0.289</td> <td>    0.350</td>\n",
       "</tr>\n",
       "<tr>\n",
       "  <th>zipcode_98107</th>       <td>    0.8120</td> <td>    0.017</td> <td>   47.662</td> <td> 0.000</td> <td>    0.779</td> <td>    0.845</td>\n",
       "</tr>\n",
       "<tr>\n",
       "  <th>zipcode_98108</th>       <td>    0.3622</td> <td>    0.019</td> <td>   19.476</td> <td> 0.000</td> <td>    0.326</td> <td>    0.399</td>\n",
       "</tr>\n",
       "<tr>\n",
       "  <th>zipcode_98109</th>       <td>    0.9910</td> <td>    0.023</td> <td>   42.416</td> <td> 0.000</td> <td>    0.945</td> <td>    1.037</td>\n",
       "</tr>\n",
       "<tr>\n",
       "  <th>zipcode_98112</th>       <td>    1.0108</td> <td>    0.018</td> <td>   56.233</td> <td> 0.000</td> <td>    0.976</td> <td>    1.046</td>\n",
       "</tr>\n",
       "<tr>\n",
       "  <th>zipcode_98115</th>       <td>    0.8255</td> <td>    0.014</td> <td>   58.580</td> <td> 0.000</td> <td>    0.798</td> <td>    0.853</td>\n",
       "</tr>\n",
       "<tr>\n",
       "  <th>zipcode_98116</th>       <td>    0.7854</td> <td>    0.016</td> <td>   49.177</td> <td> 0.000</td> <td>    0.754</td> <td>    0.817</td>\n",
       "</tr>\n",
       "<tr>\n",
       "  <th>zipcode_98117</th>       <td>    0.8090</td> <td>    0.014</td> <td>   56.625</td> <td> 0.000</td> <td>    0.781</td> <td>    0.837</td>\n",
       "</tr>\n",
       "<tr>\n",
       "  <th>zipcode_98118</th>       <td>    0.4810</td> <td>    0.014</td> <td>   33.480</td> <td> 0.000</td> <td>    0.453</td> <td>    0.509</td>\n",
       "</tr>\n",
       "<tr>\n",
       "  <th>zipcode_98119</th>       <td>    0.9714</td> <td>    0.019</td> <td>   49.927</td> <td> 0.000</td> <td>    0.933</td> <td>    1.010</td>\n",
       "</tr>\n",
       "<tr>\n",
       "  <th>zipcode_98122</th>       <td>    0.7817</td> <td>    0.017</td> <td>   46.264</td> <td> 0.000</td> <td>    0.749</td> <td>    0.815</td>\n",
       "</tr>\n",
       "<tr>\n",
       "  <th>zipcode_98125</th>       <td>    0.5626</td> <td>    0.015</td> <td>   37.797</td> <td> 0.000</td> <td>    0.533</td> <td>    0.592</td>\n",
       "</tr>\n",
       "<tr>\n",
       "  <th>zipcode_98126</th>       <td>    0.5558</td> <td>    0.016</td> <td>   35.738</td> <td> 0.000</td> <td>    0.525</td> <td>    0.586</td>\n",
       "</tr>\n",
       "<tr>\n",
       "  <th>zipcode_98133</th>       <td>    0.4422</td> <td>    0.014</td> <td>   31.019</td> <td> 0.000</td> <td>    0.414</td> <td>    0.470</td>\n",
       "</tr>\n",
       "<tr>\n",
       "  <th>zipcode_98136</th>       <td>    0.7034</td> <td>    0.017</td> <td>   41.697</td> <td> 0.000</td> <td>    0.670</td> <td>    0.736</td>\n",
       "</tr>\n",
       "<tr>\n",
       "  <th>zipcode_98144</th>       <td>    0.6938</td> <td>    0.016</td> <td>   43.319</td> <td> 0.000</td> <td>    0.662</td> <td>    0.725</td>\n",
       "</tr>\n",
       "<tr>\n",
       "  <th>zipcode_98146</th>       <td>    0.2933</td> <td>    0.016</td> <td>   18.089</td> <td> 0.000</td> <td>    0.261</td> <td>    0.325</td>\n",
       "</tr>\n",
       "<tr>\n",
       "  <th>zipcode_98148</th>       <td>    0.1428</td> <td>    0.029</td> <td>    4.906</td> <td> 0.000</td> <td>    0.086</td> <td>    0.200</td>\n",
       "</tr>\n",
       "<tr>\n",
       "  <th>zipcode_98155</th>       <td>    0.4095</td> <td>    0.015</td> <td>   28.178</td> <td> 0.000</td> <td>    0.381</td> <td>    0.438</td>\n",
       "</tr>\n",
       "<tr>\n",
       "  <th>zipcode_98166</th>       <td>    0.3366</td> <td>    0.017</td> <td>   19.976</td> <td> 0.000</td> <td>    0.304</td> <td>    0.370</td>\n",
       "</tr>\n",
       "<tr>\n",
       "  <th>zipcode_98168</th>       <td>    0.0627</td> <td>    0.017</td> <td>    3.793</td> <td> 0.000</td> <td>    0.030</td> <td>    0.095</td>\n",
       "</tr>\n",
       "<tr>\n",
       "  <th>zipcode_98177</th>       <td>    0.6365</td> <td>    0.017</td> <td>   37.455</td> <td> 0.000</td> <td>    0.603</td> <td>    0.670</td>\n",
       "</tr>\n",
       "<tr>\n",
       "  <th>zipcode_98178</th>       <td>    0.1744</td> <td>    0.017</td> <td>   10.445</td> <td> 0.000</td> <td>    0.142</td> <td>    0.207</td>\n",
       "</tr>\n",
       "<tr>\n",
       "  <th>zipcode_98188</th>       <td>    0.0833</td> <td>    0.021</td> <td>    4.055</td> <td> 0.000</td> <td>    0.043</td> <td>    0.123</td>\n",
       "</tr>\n",
       "<tr>\n",
       "  <th>zipcode_98198</th>       <td>    0.0907</td> <td>    0.016</td> <td>    5.572</td> <td> 0.000</td> <td>    0.059</td> <td>    0.123</td>\n",
       "</tr>\n",
       "<tr>\n",
       "  <th>zipcode_98199</th>       <td>    0.8813</td> <td>    0.016</td> <td>   54.101</td> <td> 0.000</td> <td>    0.849</td> <td>    0.913</td>\n",
       "</tr>\n",
       "<tr>\n",
       "  <th>age</th>                 <td>    0.0012</td> <td> 8.39e-05</td> <td>   14.832</td> <td> 0.000</td> <td>    0.001</td> <td>    0.001</td>\n",
       "</tr>\n",
       "</table>\n",
       "<table class=\"simpletable\">\n",
       "<tr>\n",
       "  <th>Omnibus:</th>       <td>1066.623</td> <th>  Durbin-Watson:     </th> <td>   1.990</td>\n",
       "</tr>\n",
       "<tr>\n",
       "  <th>Prob(Omnibus):</th>  <td> 0.000</td>  <th>  Jarque-Bera (JB):  </th> <td>3643.613</td>\n",
       "</tr>\n",
       "<tr>\n",
       "  <th>Skew:</th>           <td>-0.151</td>  <th>  Prob(JB):          </th> <td>    0.00</td>\n",
       "</tr>\n",
       "<tr>\n",
       "  <th>Kurtosis:</th>       <td> 5.009</td>  <th>  Cond. No.          </th> <td>3.50e+03</td>\n",
       "</tr>\n",
       "</table><br/><br/>Notes:<br/>[1] Standard Errors assume that the covariance matrix of the errors is correctly specified.<br/>[2] The condition number is large, 3.5e+03. This might indicate that there are<br/>strong multicollinearity or other numerical problems."
      ],
      "text/plain": [
       "<class 'statsmodels.iolib.summary.Summary'>\n",
       "\"\"\"\n",
       "                            OLS Regression Results                            \n",
       "==============================================================================\n",
       "Dep. Variable:                  price   R-squared:                       0.824\n",
       "Model:                            OLS   Adj. R-squared:                  0.823\n",
       "Method:                 Least Squares   F-statistic:                     1218.\n",
       "Date:                Tue, 01 Mar 2022   Prob (F-statistic):               0.00\n",
       "Time:                        08:52:03   Log-Likelihood:                 3695.4\n",
       "No. Observations:               21179   AIC:                            -7227.\n",
       "Df Residuals:                   21097   BIC:                            -6574.\n",
       "Df Model:                          81                                         \n",
       "Covariance Type:            nonrobust                                         \n",
       "=======================================================================================\n",
       "                          coef    std err          t      P>|t|      [0.025      0.975]\n",
       "---------------------------------------------------------------------------------------\n",
       "Intercept               9.7910      0.024    410.183      0.000       9.744       9.838\n",
       "sqft_lot_log            0.1025      0.002     45.392      0.000       0.098       0.107\n",
       "bedrooms                0.0350      0.002     18.923      0.000       0.031       0.039\n",
       "bathrooms               0.1248      0.003     40.941      0.000       0.119       0.131\n",
       "floors                  0.0296      0.004      8.109      0.000       0.022       0.037\n",
       "grade                   0.1762      0.002     90.965      0.000       0.172       0.180\n",
       "renovated               0.0515      0.008      6.159      0.000       0.035       0.068\n",
       "waterfront_YES          0.6128      0.024     25.971      0.000       0.567       0.659\n",
       "condition_Fair         -0.1606      0.016    -10.059      0.000      -0.192      -0.129\n",
       "condition_Good          0.0370      0.004     10.185      0.000       0.030       0.044\n",
       "condition_Poor         -0.2410      0.038     -6.322      0.000      -0.316      -0.166\n",
       "condition_Very_Good     0.0956      0.006     16.551      0.000       0.084       0.107\n",
       "zipcode_98002          -0.0133      0.018     -0.738      0.460      -0.049       0.022\n",
       "zipcode_98003           0.0095      0.016      0.586      0.558      -0.022       0.041\n",
       "zipcode_98004           1.1015      0.017     63.570      0.000       1.068       1.135\n",
       "zipcode_98005           0.7275      0.019     37.538      0.000       0.690       0.765\n",
       "zipcode_98006           0.6661      0.014     45.972      0.000       0.638       0.695\n",
       "zipcode_98007           0.6310      0.020     31.050      0.000       0.591       0.671\n",
       "zipcode_98008           0.6630      0.016     40.429      0.000       0.631       0.695\n",
       "zipcode_98010           0.2309      0.023      9.988      0.000       0.186       0.276\n",
       "zipcode_98011           0.4760      0.018     26.257      0.000       0.440       0.512\n",
       "zipcode_98014           0.2756      0.021     12.839      0.000       0.234       0.318\n",
       "zipcode_98019           0.3324      0.018     18.154      0.000       0.297       0.368\n",
       "zipcode_98022           0.0506      0.017      2.940      0.003       0.017       0.084\n",
       "zipcode_98023          -0.0264      0.014     -1.870      0.062      -0.054       0.001\n",
       "zipcode_98024           0.3779      0.026     14.678      0.000       0.327       0.428\n",
       "zipcode_98027           0.5200      0.015     35.151      0.000       0.491       0.549\n",
       "zipcode_98028           0.4368      0.016     26.975      0.000       0.405       0.469\n",
       "zipcode_98029           0.6027      0.016     38.056      0.000       0.572       0.634\n",
       "zipcode_98030           0.0579      0.017      3.480      0.001       0.025       0.091\n",
       "zipcode_98031           0.0661      0.016      4.044      0.000       0.034       0.098\n",
       "zipcode_98032          -0.0425      0.021     -2.009      0.045      -0.084      -0.001\n",
       "zipcode_98033           0.7935      0.015     53.756      0.000       0.765       0.822\n",
       "zipcode_98034           0.5328      0.014     38.312      0.000       0.506       0.560\n",
       "zipcode_98038           0.1928      0.014     14.124      0.000       0.166       0.220\n",
       "zipcode_98039           1.2881      0.049     26.155      0.000       1.192       1.385\n",
       "zipcode_98040           0.9059      0.017     52.490      0.000       0.872       0.940\n",
       "zipcode_98042           0.0676      0.014      4.888      0.000       0.040       0.095\n",
       "zipcode_98045           0.2969      0.018     16.950      0.000       0.263       0.331\n",
       "zipcode_98052           0.6484      0.014     47.071      0.000       0.621       0.675\n",
       "zipcode_98053           0.6337      0.015     42.483      0.000       0.604       0.663\n",
       "zipcode_98055           0.1555      0.016      9.438      0.000       0.123       0.188\n",
       "zipcode_98056           0.3493      0.015     23.603      0.000       0.320       0.378\n",
       "zipcode_98058           0.1591      0.014     11.072      0.000       0.131       0.187\n",
       "zipcode_98059           0.3802      0.014     26.576      0.000       0.352       0.408\n",
       "zipcode_98065           0.5144      0.016     32.390      0.000       0.483       0.546\n",
       "zipcode_98070           0.2796      0.022     12.539      0.000       0.236       0.323\n",
       "zipcode_98072           0.4713      0.016     28.692      0.000       0.439       0.503\n",
       "zipcode_98074           0.5647      0.015     38.533      0.000       0.536       0.593\n",
       "zipcode_98075           0.6084      0.015     39.424      0.000       0.578       0.639\n",
       "zipcode_98077           0.4118      0.018     22.453      0.000       0.376       0.448\n",
       "zipcode_98092           0.0267      0.015      1.746      0.081      -0.003       0.057\n",
       "zipcode_98102           0.9309      0.024     39.082      0.000       0.884       0.978\n",
       "zipcode_98103           0.8050      0.014     56.375      0.000       0.777       0.833\n",
       "zipcode_98105           0.9348      0.018     51.469      0.000       0.899       0.970\n",
       "zipcode_98106           0.3194      0.016     20.424      0.000       0.289       0.350\n",
       "zipcode_98107           0.8120      0.017     47.662      0.000       0.779       0.845\n",
       "zipcode_98108           0.3622      0.019     19.476      0.000       0.326       0.399\n",
       "zipcode_98109           0.9910      0.023     42.416      0.000       0.945       1.037\n",
       "zipcode_98112           1.0108      0.018     56.233      0.000       0.976       1.046\n",
       "zipcode_98115           0.8255      0.014     58.580      0.000       0.798       0.853\n",
       "zipcode_98116           0.7854      0.016     49.177      0.000       0.754       0.817\n",
       "zipcode_98117           0.8090      0.014     56.625      0.000       0.781       0.837\n",
       "zipcode_98118           0.4810      0.014     33.480      0.000       0.453       0.509\n",
       "zipcode_98119           0.9714      0.019     49.927      0.000       0.933       1.010\n",
       "zipcode_98122           0.7817      0.017     46.264      0.000       0.749       0.815\n",
       "zipcode_98125           0.5626      0.015     37.797      0.000       0.533       0.592\n",
       "zipcode_98126           0.5558      0.016     35.738      0.000       0.525       0.586\n",
       "zipcode_98133           0.4422      0.014     31.019      0.000       0.414       0.470\n",
       "zipcode_98136           0.7034      0.017     41.697      0.000       0.670       0.736\n",
       "zipcode_98144           0.6938      0.016     43.319      0.000       0.662       0.725\n",
       "zipcode_98146           0.2933      0.016     18.089      0.000       0.261       0.325\n",
       "zipcode_98148           0.1428      0.029      4.906      0.000       0.086       0.200\n",
       "zipcode_98155           0.4095      0.015     28.178      0.000       0.381       0.438\n",
       "zipcode_98166           0.3366      0.017     19.976      0.000       0.304       0.370\n",
       "zipcode_98168           0.0627      0.017      3.793      0.000       0.030       0.095\n",
       "zipcode_98177           0.6365      0.017     37.455      0.000       0.603       0.670\n",
       "zipcode_98178           0.1744      0.017     10.445      0.000       0.142       0.207\n",
       "zipcode_98188           0.0833      0.021      4.055      0.000       0.043       0.123\n",
       "zipcode_98198           0.0907      0.016      5.572      0.000       0.059       0.123\n",
       "zipcode_98199           0.8813      0.016     54.101      0.000       0.849       0.913\n",
       "age                     0.0012   8.39e-05     14.832      0.000       0.001       0.001\n",
       "==============================================================================\n",
       "Omnibus:                     1066.623   Durbin-Watson:                   1.990\n",
       "Prob(Omnibus):                  0.000   Jarque-Bera (JB):             3643.613\n",
       "Skew:                          -0.151   Prob(JB):                         0.00\n",
       "Kurtosis:                       5.009   Cond. No.                     3.50e+03\n",
       "==============================================================================\n",
       "\n",
       "Notes:\n",
       "[1] Standard Errors assume that the covariance matrix of the errors is correctly specified.\n",
       "[2] The condition number is large, 3.5e+03. This might indicate that there are\n",
       "strong multicollinearity or other numerical problems.\n",
       "\"\"\""
      ]
     },
     "execution_count": 232,
     "metadata": {},
     "output_type": "execute_result"
    }
   ],
   "source": [
    "model_3.summary()"
   ]
  },
  {
   "cell_type": "markdown",
   "metadata": {},
   "source": [
    "For this model, we have slightly improved our R-squared value from .820 to .824.  We do have 4 zipcode variables with p-values higher than .05: 98002, 98003, 98023, and 98092.  We will remove them from our final model."
   ]
  },
  {
   "cell_type": "markdown",
   "metadata": {},
   "source": [
    "## Final Model"
   ]
  },
  {
   "cell_type": "code",
   "execution_count": 215,
   "metadata": {
    "ExecuteTime": {
     "end_time": "2022-03-01T16:50:19.433273Z",
     "start_time": "2022-03-01T16:50:19.430024Z"
    }
   },
   "outputs": [],
   "source": [
    "# Removing high p-value variables\n",
    "df_final = df_transformed.drop(['zipcode_98002', 'zipcode_98003', \n",
    "                                'zipcode_98023', 'zipcode_98092'], axis=1)"
   ]
  },
  {
   "cell_type": "code",
   "execution_count": 216,
   "metadata": {
    "ExecuteTime": {
     "end_time": "2022-03-01T16:50:19.758506Z",
     "start_time": "2022-03-01T16:50:19.434327Z"
    }
   },
   "outputs": [],
   "source": [
    "# Create final model\n",
    "final_model = model(df_final)"
   ]
  },
  {
   "cell_type": "code",
   "execution_count": 217,
   "metadata": {
    "ExecuteTime": {
     "end_time": "2022-03-01T16:50:19.795547Z",
     "start_time": "2022-03-01T16:50:19.759488Z"
    }
   },
   "outputs": [
    {
     "data": {
      "text/html": [
       "<table class=\"simpletable\">\n",
       "<caption>OLS Regression Results</caption>\n",
       "<tr>\n",
       "  <th>Dep. Variable:</th>          <td>price</td>      <th>  R-squared:         </th> <td>   0.824</td>\n",
       "</tr>\n",
       "<tr>\n",
       "  <th>Model:</th>                   <td>OLS</td>       <th>  Adj. R-squared:    </th> <td>   0.823</td>\n",
       "</tr>\n",
       "<tr>\n",
       "  <th>Method:</th>             <td>Least Squares</td>  <th>  F-statistic:       </th> <td>   1280.</td>\n",
       "</tr>\n",
       "<tr>\n",
       "  <th>Date:</th>             <td>Tue, 01 Mar 2022</td> <th>  Prob (F-statistic):</th>  <td>  0.00</td> \n",
       "</tr>\n",
       "<tr>\n",
       "  <th>Time:</th>                 <td>08:50:19</td>     <th>  Log-Likelihood:    </th> <td>  3687.6</td>\n",
       "</tr>\n",
       "<tr>\n",
       "  <th>No. Observations:</th>      <td> 21179</td>      <th>  AIC:               </th> <td>  -7219.</td>\n",
       "</tr>\n",
       "<tr>\n",
       "  <th>Df Residuals:</th>          <td> 21101</td>      <th>  BIC:               </th> <td>  -6598.</td>\n",
       "</tr>\n",
       "<tr>\n",
       "  <th>Df Model:</th>              <td>    77</td>      <th>                     </th>     <td> </td>   \n",
       "</tr>\n",
       "<tr>\n",
       "  <th>Covariance Type:</th>      <td>nonrobust</td>    <th>                     </th>     <td> </td>   \n",
       "</tr>\n",
       "</table>\n",
       "<table class=\"simpletable\">\n",
       "<tr>\n",
       "           <td></td>              <th>coef</th>     <th>std err</th>      <th>t</th>      <th>P>|t|</th>  <th>[0.025</th>    <th>0.975]</th>  \n",
       "</tr>\n",
       "<tr>\n",
       "  <th>Intercept</th>           <td>    9.7830</td> <td>    0.022</td> <td>  450.079</td> <td> 0.000</td> <td>    9.740</td> <td>    9.826</td>\n",
       "</tr>\n",
       "<tr>\n",
       "  <th>sqft_lot_log</th>        <td>    0.1032</td> <td>    0.002</td> <td>   45.911</td> <td> 0.000</td> <td>    0.099</td> <td>    0.108</td>\n",
       "</tr>\n",
       "<tr>\n",
       "  <th>bedrooms</th>            <td>    0.0350</td> <td>    0.002</td> <td>   18.888</td> <td> 0.000</td> <td>    0.031</td> <td>    0.039</td>\n",
       "</tr>\n",
       "<tr>\n",
       "  <th>bathrooms</th>           <td>    0.1246</td> <td>    0.003</td> <td>   40.893</td> <td> 0.000</td> <td>    0.119</td> <td>    0.131</td>\n",
       "</tr>\n",
       "<tr>\n",
       "  <th>floors</th>              <td>    0.0302</td> <td>    0.004</td> <td>    8.289</td> <td> 0.000</td> <td>    0.023</td> <td>    0.037</td>\n",
       "</tr>\n",
       "<tr>\n",
       "  <th>grade</th>               <td>    0.1761</td> <td>    0.002</td> <td>   91.177</td> <td> 0.000</td> <td>    0.172</td> <td>    0.180</td>\n",
       "</tr>\n",
       "<tr>\n",
       "  <th>renovated</th>           <td>    0.0516</td> <td>    0.008</td> <td>    6.179</td> <td> 0.000</td> <td>    0.035</td> <td>    0.068</td>\n",
       "</tr>\n",
       "<tr>\n",
       "  <th>waterfront_YES</th>      <td>    0.6117</td> <td>    0.024</td> <td>   25.918</td> <td> 0.000</td> <td>    0.565</td> <td>    0.658</td>\n",
       "</tr>\n",
       "<tr>\n",
       "  <th>condition_Fair</th>      <td>   -0.1612</td> <td>    0.016</td> <td>  -10.094</td> <td> 0.000</td> <td>   -0.192</td> <td>   -0.130</td>\n",
       "</tr>\n",
       "<tr>\n",
       "  <th>condition_Good</th>      <td>    0.0368</td> <td>    0.004</td> <td>   10.127</td> <td> 0.000</td> <td>    0.030</td> <td>    0.044</td>\n",
       "</tr>\n",
       "<tr>\n",
       "  <th>condition_Poor</th>      <td>   -0.2419</td> <td>    0.038</td> <td>   -6.345</td> <td> 0.000</td> <td>   -0.317</td> <td>   -0.167</td>\n",
       "</tr>\n",
       "<tr>\n",
       "  <th>condition_Very_Good</th> <td>    0.0957</td> <td>    0.006</td> <td>   16.581</td> <td> 0.000</td> <td>    0.084</td> <td>    0.107</td>\n",
       "</tr>\n",
       "<tr>\n",
       "  <th>zipcode_98004</th>       <td>    1.1039</td> <td>    0.014</td> <td>   76.505</td> <td> 0.000</td> <td>    1.076</td> <td>    1.132</td>\n",
       "</tr>\n",
       "<tr>\n",
       "  <th>zipcode_98005</th>       <td>    0.7298</td> <td>    0.017</td> <td>   43.343</td> <td> 0.000</td> <td>    0.697</td> <td>    0.763</td>\n",
       "</tr>\n",
       "<tr>\n",
       "  <th>zipcode_98006</th>       <td>    0.6684</td> <td>    0.011</td> <td>   61.630</td> <td> 0.000</td> <td>    0.647</td> <td>    0.690</td>\n",
       "</tr>\n",
       "<tr>\n",
       "  <th>zipcode_98007</th>       <td>    0.6334</td> <td>    0.018</td> <td>   35.346</td> <td> 0.000</td> <td>    0.598</td> <td>    0.669</td>\n",
       "</tr>\n",
       "<tr>\n",
       "  <th>zipcode_98008</th>       <td>    0.6656</td> <td>    0.013</td> <td>   50.012</td> <td> 0.000</td> <td>    0.640</td> <td>    0.692</td>\n",
       "</tr>\n",
       "<tr>\n",
       "  <th>zipcode_98010</th>       <td>    0.2324</td> <td>    0.021</td> <td>   11.008</td> <td> 0.000</td> <td>    0.191</td> <td>    0.274</td>\n",
       "</tr>\n",
       "<tr>\n",
       "  <th>zipcode_98011</th>       <td>    0.4782</td> <td>    0.015</td> <td>   30.995</td> <td> 0.000</td> <td>    0.448</td> <td>    0.508</td>\n",
       "</tr>\n",
       "<tr>\n",
       "  <th>zipcode_98014</th>       <td>    0.2769</td> <td>    0.019</td> <td>   14.339</td> <td> 0.000</td> <td>    0.239</td> <td>    0.315</td>\n",
       "</tr>\n",
       "<tr>\n",
       "  <th>zipcode_98019</th>       <td>    0.3340</td> <td>    0.016</td> <td>   21.280</td> <td> 0.000</td> <td>    0.303</td> <td>    0.365</td>\n",
       "</tr>\n",
       "<tr>\n",
       "  <th>zipcode_98022</th>       <td>    0.0524</td> <td>    0.014</td> <td>    3.642</td> <td> 0.000</td> <td>    0.024</td> <td>    0.081</td>\n",
       "</tr>\n",
       "<tr>\n",
       "  <th>zipcode_98024</th>       <td>    0.3792</td> <td>    0.024</td> <td>   15.820</td> <td> 0.000</td> <td>    0.332</td> <td>    0.426</td>\n",
       "</tr>\n",
       "<tr>\n",
       "  <th>zipcode_98027</th>       <td>    0.5220</td> <td>    0.011</td> <td>   46.120</td> <td> 0.000</td> <td>    0.500</td> <td>    0.544</td>\n",
       "</tr>\n",
       "<tr>\n",
       "  <th>zipcode_98028</th>       <td>    0.4391</td> <td>    0.013</td> <td>   33.519</td> <td> 0.000</td> <td>    0.413</td> <td>    0.465</td>\n",
       "</tr>\n",
       "<tr>\n",
       "  <th>zipcode_98029</th>       <td>    0.6049</td> <td>    0.013</td> <td>   47.902</td> <td> 0.000</td> <td>    0.580</td> <td>    0.630</td>\n",
       "</tr>\n",
       "<tr>\n",
       "  <th>zipcode_98030</th>       <td>    0.0601</td> <td>    0.014</td> <td>    4.400</td> <td> 0.000</td> <td>    0.033</td> <td>    0.087</td>\n",
       "</tr>\n",
       "<tr>\n",
       "  <th>zipcode_98031</th>       <td>    0.0684</td> <td>    0.013</td> <td>    5.143</td> <td> 0.000</td> <td>    0.042</td> <td>    0.094</td>\n",
       "</tr>\n",
       "<tr>\n",
       "  <th>zipcode_98032</th>       <td>   -0.0400</td> <td>    0.019</td> <td>   -2.117</td> <td> 0.034</td> <td>   -0.077</td> <td>   -0.003</td>\n",
       "</tr>\n",
       "<tr>\n",
       "  <th>zipcode_98033</th>       <td>    0.7959</td> <td>    0.011</td> <td>   70.768</td> <td> 0.000</td> <td>    0.774</td> <td>    0.818</td>\n",
       "</tr>\n",
       "<tr>\n",
       "  <th>zipcode_98034</th>       <td>    0.5352</td> <td>    0.010</td> <td>   52.874</td> <td> 0.000</td> <td>    0.515</td> <td>    0.555</td>\n",
       "</tr>\n",
       "<tr>\n",
       "  <th>zipcode_98038</th>       <td>    0.1947</td> <td>    0.010</td> <td>   19.803</td> <td> 0.000</td> <td>    0.175</td> <td>    0.214</td>\n",
       "</tr>\n",
       "<tr>\n",
       "  <th>zipcode_98039</th>       <td>    1.2906</td> <td>    0.048</td> <td>   26.709</td> <td> 0.000</td> <td>    1.196</td> <td>    1.385</td>\n",
       "</tr>\n",
       "<tr>\n",
       "  <th>zipcode_98040</th>       <td>    0.9083</td> <td>    0.014</td> <td>   63.412</td> <td> 0.000</td> <td>    0.880</td> <td>    0.936</td>\n",
       "</tr>\n",
       "<tr>\n",
       "  <th>zipcode_98042</th>       <td>    0.0696</td> <td>    0.010</td> <td>    6.930</td> <td> 0.000</td> <td>    0.050</td> <td>    0.089</td>\n",
       "</tr>\n",
       "<tr>\n",
       "  <th>zipcode_98045</th>       <td>    0.2985</td> <td>    0.015</td> <td>   20.229</td> <td> 0.000</td> <td>    0.270</td> <td>    0.327</td>\n",
       "</tr>\n",
       "<tr>\n",
       "  <th>zipcode_98052</th>       <td>    0.6506</td> <td>    0.010</td> <td>   65.589</td> <td> 0.000</td> <td>    0.631</td> <td>    0.670</td>\n",
       "</tr>\n",
       "<tr>\n",
       "  <th>zipcode_98053</th>       <td>    0.6354</td> <td>    0.012</td> <td>   55.194</td> <td> 0.000</td> <td>    0.613</td> <td>    0.658</td>\n",
       "</tr>\n",
       "<tr>\n",
       "  <th>zipcode_98055</th>       <td>    0.1580</td> <td>    0.013</td> <td>   11.750</td> <td> 0.000</td> <td>    0.132</td> <td>    0.184</td>\n",
       "</tr>\n",
       "<tr>\n",
       "  <th>zipcode_98056</th>       <td>    0.3516</td> <td>    0.011</td> <td>   31.048</td> <td> 0.000</td> <td>    0.329</td> <td>    0.374</td>\n",
       "</tr>\n",
       "<tr>\n",
       "  <th>zipcode_98058</th>       <td>    0.1613</td> <td>    0.011</td> <td>   14.986</td> <td> 0.000</td> <td>    0.140</td> <td>    0.182</td>\n",
       "</tr>\n",
       "<tr>\n",
       "  <th>zipcode_98059</th>       <td>    0.3822</td> <td>    0.011</td> <td>   35.779</td> <td> 0.000</td> <td>    0.361</td> <td>    0.403</td>\n",
       "</tr>\n",
       "<tr>\n",
       "  <th>zipcode_98065</th>       <td>    0.5164</td> <td>    0.013</td> <td>   40.551</td> <td> 0.000</td> <td>    0.491</td> <td>    0.541</td>\n",
       "</tr>\n",
       "<tr>\n",
       "  <th>zipcode_98070</th>       <td>    0.2811</td> <td>    0.020</td> <td>   13.904</td> <td> 0.000</td> <td>    0.241</td> <td>    0.321</td>\n",
       "</tr>\n",
       "<tr>\n",
       "  <th>zipcode_98072</th>       <td>    0.4731</td> <td>    0.013</td> <td>   35.308</td> <td> 0.000</td> <td>    0.447</td> <td>    0.499</td>\n",
       "</tr>\n",
       "<tr>\n",
       "  <th>zipcode_98074</th>       <td>    0.5666</td> <td>    0.011</td> <td>   50.983</td> <td> 0.000</td> <td>    0.545</td> <td>    0.588</td>\n",
       "</tr>\n",
       "<tr>\n",
       "  <th>zipcode_98075</th>       <td>    0.6102</td> <td>    0.012</td> <td>   50.369</td> <td> 0.000</td> <td>    0.586</td> <td>    0.634</td>\n",
       "</tr>\n",
       "<tr>\n",
       "  <th>zipcode_98077</th>       <td>    0.4130</td> <td>    0.016</td> <td>   26.324</td> <td> 0.000</td> <td>    0.382</td> <td>    0.444</td>\n",
       "</tr>\n",
       "<tr>\n",
       "  <th>zipcode_98102</th>       <td>    0.9340</td> <td>    0.022</td> <td>   42.889</td> <td> 0.000</td> <td>    0.891</td> <td>    0.977</td>\n",
       "</tr>\n",
       "<tr>\n",
       "  <th>zipcode_98103</th>       <td>    0.8081</td> <td>    0.011</td> <td>   76.469</td> <td> 0.000</td> <td>    0.787</td> <td>    0.829</td>\n",
       "</tr>\n",
       "<tr>\n",
       "  <th>zipcode_98105</th>       <td>    0.9379</td> <td>    0.015</td> <td>   60.940</td> <td> 0.000</td> <td>    0.908</td> <td>    0.968</td>\n",
       "</tr>\n",
       "<tr>\n",
       "  <th>zipcode_98106</th>       <td>    0.3222</td> <td>    0.012</td> <td>   25.996</td> <td> 0.000</td> <td>    0.298</td> <td>    0.346</td>\n",
       "</tr>\n",
       "<tr>\n",
       "  <th>zipcode_98107</th>       <td>    0.8150</td> <td>    0.014</td> <td>   57.918</td> <td> 0.000</td> <td>    0.787</td> <td>    0.843</td>\n",
       "</tr>\n",
       "<tr>\n",
       "  <th>zipcode_98108</th>       <td>    0.3651</td> <td>    0.016</td> <td>   22.887</td> <td> 0.000</td> <td>    0.334</td> <td>    0.396</td>\n",
       "</tr>\n",
       "<tr>\n",
       "  <th>zipcode_98109</th>       <td>    0.9942</td> <td>    0.021</td> <td>   46.729</td> <td> 0.000</td> <td>    0.953</td> <td>    1.036</td>\n",
       "</tr>\n",
       "<tr>\n",
       "  <th>zipcode_98112</th>       <td>    1.0139</td> <td>    0.015</td> <td>   66.882</td> <td> 0.000</td> <td>    0.984</td> <td>    1.044</td>\n",
       "</tr>\n",
       "<tr>\n",
       "  <th>zipcode_98115</th>       <td>    0.8285</td> <td>    0.010</td> <td>   80.283</td> <td> 0.000</td> <td>    0.808</td> <td>    0.849</td>\n",
       "</tr>\n",
       "<tr>\n",
       "  <th>zipcode_98116</th>       <td>    0.7884</td> <td>    0.013</td> <td>   61.813</td> <td> 0.000</td> <td>    0.763</td> <td>    0.813</td>\n",
       "</tr>\n",
       "<tr>\n",
       "  <th>zipcode_98117</th>       <td>    0.8121</td> <td>    0.011</td> <td>   76.808</td> <td> 0.000</td> <td>    0.791</td> <td>    0.833</td>\n",
       "</tr>\n",
       "<tr>\n",
       "  <th>zipcode_98118</th>       <td>    0.4840</td> <td>    0.011</td> <td>   45.137</td> <td> 0.000</td> <td>    0.463</td> <td>    0.505</td>\n",
       "</tr>\n",
       "<tr>\n",
       "  <th>zipcode_98119</th>       <td>    0.9745</td> <td>    0.017</td> <td>   57.683</td> <td> 0.000</td> <td>    0.941</td> <td>    1.008</td>\n",
       "</tr>\n",
       "<tr>\n",
       "  <th>zipcode_98122</th>       <td>    0.7848</td> <td>    0.014</td> <td>   56.535</td> <td> 0.000</td> <td>    0.758</td> <td>    0.812</td>\n",
       "</tr>\n",
       "<tr>\n",
       "  <th>zipcode_98125</th>       <td>    0.5652</td> <td>    0.011</td> <td>   49.462</td> <td> 0.000</td> <td>    0.543</td> <td>    0.588</td>\n",
       "</tr>\n",
       "<tr>\n",
       "  <th>zipcode_98126</th>       <td>    0.5588</td> <td>    0.012</td> <td>   45.587</td> <td> 0.000</td> <td>    0.535</td> <td>    0.583</td>\n",
       "</tr>\n",
       "<tr>\n",
       "  <th>zipcode_98133</th>       <td>    0.4449</td> <td>    0.011</td> <td>   42.020</td> <td> 0.000</td> <td>    0.424</td> <td>    0.466</td>\n",
       "</tr>\n",
       "<tr>\n",
       "  <th>zipcode_98136</th>       <td>    0.7063</td> <td>    0.014</td> <td>   50.888</td> <td> 0.000</td> <td>    0.679</td> <td>    0.733</td>\n",
       "</tr>\n",
       "<tr>\n",
       "  <th>zipcode_98144</th>       <td>    0.6969</td> <td>    0.013</td> <td>   54.371</td> <td> 0.000</td> <td>    0.672</td> <td>    0.722</td>\n",
       "</tr>\n",
       "<tr>\n",
       "  <th>zipcode_98146</th>       <td>    0.2959</td> <td>    0.013</td> <td>   22.539</td> <td> 0.000</td> <td>    0.270</td> <td>    0.322</td>\n",
       "</tr>\n",
       "<tr>\n",
       "  <th>zipcode_98148</th>       <td>    0.1453</td> <td>    0.028</td> <td>    5.282</td> <td> 0.000</td> <td>    0.091</td> <td>    0.199</td>\n",
       "</tr>\n",
       "<tr>\n",
       "  <th>zipcode_98155</th>       <td>    0.4120</td> <td>    0.011</td> <td>   37.540</td> <td> 0.000</td> <td>    0.390</td> <td>    0.434</td>\n",
       "</tr>\n",
       "<tr>\n",
       "  <th>zipcode_98166</th>       <td>    0.3391</td> <td>    0.014</td> <td>   24.423</td> <td> 0.000</td> <td>    0.312</td> <td>    0.366</td>\n",
       "</tr>\n",
       "<tr>\n",
       "  <th>zipcode_98168</th>       <td>    0.0652</td> <td>    0.014</td> <td>    4.814</td> <td> 0.000</td> <td>    0.039</td> <td>    0.092</td>\n",
       "</tr>\n",
       "<tr>\n",
       "  <th>zipcode_98177</th>       <td>    0.6391</td> <td>    0.014</td> <td>   45.539</td> <td> 0.000</td> <td>    0.612</td> <td>    0.667</td>\n",
       "</tr>\n",
       "<tr>\n",
       "  <th>zipcode_98178</th>       <td>    0.1771</td> <td>    0.014</td> <td>   12.908</td> <td> 0.000</td> <td>    0.150</td> <td>    0.204</td>\n",
       "</tr>\n",
       "<tr>\n",
       "  <th>zipcode_98188</th>       <td>    0.0857</td> <td>    0.018</td> <td>    4.707</td> <td> 0.000</td> <td>    0.050</td> <td>    0.121</td>\n",
       "</tr>\n",
       "<tr>\n",
       "  <th>zipcode_98198</th>       <td>    0.0932</td> <td>    0.013</td> <td>    7.065</td> <td> 0.000</td> <td>    0.067</td> <td>    0.119</td>\n",
       "</tr>\n",
       "<tr>\n",
       "  <th>zipcode_98199</th>       <td>    0.8842</td> <td>    0.013</td> <td>   67.308</td> <td> 0.000</td> <td>    0.858</td> <td>    0.910</td>\n",
       "</tr>\n",
       "<tr>\n",
       "  <th>age</th>                 <td>    0.0012</td> <td> 8.38e-05</td> <td>   14.715</td> <td> 0.000</td> <td>    0.001</td> <td>    0.001</td>\n",
       "</tr>\n",
       "</table>\n",
       "<table class=\"simpletable\">\n",
       "<tr>\n",
       "  <th>Omnibus:</th>       <td>1064.434</td> <th>  Durbin-Watson:     </th> <td>   1.990</td>\n",
       "</tr>\n",
       "<tr>\n",
       "  <th>Prob(Omnibus):</th>  <td> 0.000</td>  <th>  Jarque-Bera (JB):  </th> <td>3629.041</td>\n",
       "</tr>\n",
       "<tr>\n",
       "  <th>Skew:</th>           <td>-0.151</td>  <th>  Prob(JB):          </th> <td>    0.00</td>\n",
       "</tr>\n",
       "<tr>\n",
       "  <th>Kurtosis:</th>       <td> 5.005</td>  <th>  Cond. No.          </th> <td>1.88e+03</td>\n",
       "</tr>\n",
       "</table><br/><br/>Notes:<br/>[1] Standard Errors assume that the covariance matrix of the errors is correctly specified.<br/>[2] The condition number is large, 1.88e+03. This might indicate that there are<br/>strong multicollinearity or other numerical problems."
      ],
      "text/plain": [
       "<class 'statsmodels.iolib.summary.Summary'>\n",
       "\"\"\"\n",
       "                            OLS Regression Results                            \n",
       "==============================================================================\n",
       "Dep. Variable:                  price   R-squared:                       0.824\n",
       "Model:                            OLS   Adj. R-squared:                  0.823\n",
       "Method:                 Least Squares   F-statistic:                     1280.\n",
       "Date:                Tue, 01 Mar 2022   Prob (F-statistic):               0.00\n",
       "Time:                        08:50:19   Log-Likelihood:                 3687.6\n",
       "No. Observations:               21179   AIC:                            -7219.\n",
       "Df Residuals:                   21101   BIC:                            -6598.\n",
       "Df Model:                          77                                         \n",
       "Covariance Type:            nonrobust                                         \n",
       "=======================================================================================\n",
       "                          coef    std err          t      P>|t|      [0.025      0.975]\n",
       "---------------------------------------------------------------------------------------\n",
       "Intercept               9.7830      0.022    450.079      0.000       9.740       9.826\n",
       "sqft_lot_log            0.1032      0.002     45.911      0.000       0.099       0.108\n",
       "bedrooms                0.0350      0.002     18.888      0.000       0.031       0.039\n",
       "bathrooms               0.1246      0.003     40.893      0.000       0.119       0.131\n",
       "floors                  0.0302      0.004      8.289      0.000       0.023       0.037\n",
       "grade                   0.1761      0.002     91.177      0.000       0.172       0.180\n",
       "renovated               0.0516      0.008      6.179      0.000       0.035       0.068\n",
       "waterfront_YES          0.6117      0.024     25.918      0.000       0.565       0.658\n",
       "condition_Fair         -0.1612      0.016    -10.094      0.000      -0.192      -0.130\n",
       "condition_Good          0.0368      0.004     10.127      0.000       0.030       0.044\n",
       "condition_Poor         -0.2419      0.038     -6.345      0.000      -0.317      -0.167\n",
       "condition_Very_Good     0.0957      0.006     16.581      0.000       0.084       0.107\n",
       "zipcode_98004           1.1039      0.014     76.505      0.000       1.076       1.132\n",
       "zipcode_98005           0.7298      0.017     43.343      0.000       0.697       0.763\n",
       "zipcode_98006           0.6684      0.011     61.630      0.000       0.647       0.690\n",
       "zipcode_98007           0.6334      0.018     35.346      0.000       0.598       0.669\n",
       "zipcode_98008           0.6656      0.013     50.012      0.000       0.640       0.692\n",
       "zipcode_98010           0.2324      0.021     11.008      0.000       0.191       0.274\n",
       "zipcode_98011           0.4782      0.015     30.995      0.000       0.448       0.508\n",
       "zipcode_98014           0.2769      0.019     14.339      0.000       0.239       0.315\n",
       "zipcode_98019           0.3340      0.016     21.280      0.000       0.303       0.365\n",
       "zipcode_98022           0.0524      0.014      3.642      0.000       0.024       0.081\n",
       "zipcode_98024           0.3792      0.024     15.820      0.000       0.332       0.426\n",
       "zipcode_98027           0.5220      0.011     46.120      0.000       0.500       0.544\n",
       "zipcode_98028           0.4391      0.013     33.519      0.000       0.413       0.465\n",
       "zipcode_98029           0.6049      0.013     47.902      0.000       0.580       0.630\n",
       "zipcode_98030           0.0601      0.014      4.400      0.000       0.033       0.087\n",
       "zipcode_98031           0.0684      0.013      5.143      0.000       0.042       0.094\n",
       "zipcode_98032          -0.0400      0.019     -2.117      0.034      -0.077      -0.003\n",
       "zipcode_98033           0.7959      0.011     70.768      0.000       0.774       0.818\n",
       "zipcode_98034           0.5352      0.010     52.874      0.000       0.515       0.555\n",
       "zipcode_98038           0.1947      0.010     19.803      0.000       0.175       0.214\n",
       "zipcode_98039           1.2906      0.048     26.709      0.000       1.196       1.385\n",
       "zipcode_98040           0.9083      0.014     63.412      0.000       0.880       0.936\n",
       "zipcode_98042           0.0696      0.010      6.930      0.000       0.050       0.089\n",
       "zipcode_98045           0.2985      0.015     20.229      0.000       0.270       0.327\n",
       "zipcode_98052           0.6506      0.010     65.589      0.000       0.631       0.670\n",
       "zipcode_98053           0.6354      0.012     55.194      0.000       0.613       0.658\n",
       "zipcode_98055           0.1580      0.013     11.750      0.000       0.132       0.184\n",
       "zipcode_98056           0.3516      0.011     31.048      0.000       0.329       0.374\n",
       "zipcode_98058           0.1613      0.011     14.986      0.000       0.140       0.182\n",
       "zipcode_98059           0.3822      0.011     35.779      0.000       0.361       0.403\n",
       "zipcode_98065           0.5164      0.013     40.551      0.000       0.491       0.541\n",
       "zipcode_98070           0.2811      0.020     13.904      0.000       0.241       0.321\n",
       "zipcode_98072           0.4731      0.013     35.308      0.000       0.447       0.499\n",
       "zipcode_98074           0.5666      0.011     50.983      0.000       0.545       0.588\n",
       "zipcode_98075           0.6102      0.012     50.369      0.000       0.586       0.634\n",
       "zipcode_98077           0.4130      0.016     26.324      0.000       0.382       0.444\n",
       "zipcode_98102           0.9340      0.022     42.889      0.000       0.891       0.977\n",
       "zipcode_98103           0.8081      0.011     76.469      0.000       0.787       0.829\n",
       "zipcode_98105           0.9379      0.015     60.940      0.000       0.908       0.968\n",
       "zipcode_98106           0.3222      0.012     25.996      0.000       0.298       0.346\n",
       "zipcode_98107           0.8150      0.014     57.918      0.000       0.787       0.843\n",
       "zipcode_98108           0.3651      0.016     22.887      0.000       0.334       0.396\n",
       "zipcode_98109           0.9942      0.021     46.729      0.000       0.953       1.036\n",
       "zipcode_98112           1.0139      0.015     66.882      0.000       0.984       1.044\n",
       "zipcode_98115           0.8285      0.010     80.283      0.000       0.808       0.849\n",
       "zipcode_98116           0.7884      0.013     61.813      0.000       0.763       0.813\n",
       "zipcode_98117           0.8121      0.011     76.808      0.000       0.791       0.833\n",
       "zipcode_98118           0.4840      0.011     45.137      0.000       0.463       0.505\n",
       "zipcode_98119           0.9745      0.017     57.683      0.000       0.941       1.008\n",
       "zipcode_98122           0.7848      0.014     56.535      0.000       0.758       0.812\n",
       "zipcode_98125           0.5652      0.011     49.462      0.000       0.543       0.588\n",
       "zipcode_98126           0.5588      0.012     45.587      0.000       0.535       0.583\n",
       "zipcode_98133           0.4449      0.011     42.020      0.000       0.424       0.466\n",
       "zipcode_98136           0.7063      0.014     50.888      0.000       0.679       0.733\n",
       "zipcode_98144           0.6969      0.013     54.371      0.000       0.672       0.722\n",
       "zipcode_98146           0.2959      0.013     22.539      0.000       0.270       0.322\n",
       "zipcode_98148           0.1453      0.028      5.282      0.000       0.091       0.199\n",
       "zipcode_98155           0.4120      0.011     37.540      0.000       0.390       0.434\n",
       "zipcode_98166           0.3391      0.014     24.423      0.000       0.312       0.366\n",
       "zipcode_98168           0.0652      0.014      4.814      0.000       0.039       0.092\n",
       "zipcode_98177           0.6391      0.014     45.539      0.000       0.612       0.667\n",
       "zipcode_98178           0.1771      0.014     12.908      0.000       0.150       0.204\n",
       "zipcode_98188           0.0857      0.018      4.707      0.000       0.050       0.121\n",
       "zipcode_98198           0.0932      0.013      7.065      0.000       0.067       0.119\n",
       "zipcode_98199           0.8842      0.013     67.308      0.000       0.858       0.910\n",
       "age                     0.0012   8.38e-05     14.715      0.000       0.001       0.001\n",
       "==============================================================================\n",
       "Omnibus:                     1064.434   Durbin-Watson:                   1.990\n",
       "Prob(Omnibus):                  0.000   Jarque-Bera (JB):             3629.041\n",
       "Skew:                          -0.151   Prob(JB):                         0.00\n",
       "Kurtosis:                       5.005   Cond. No.                     1.88e+03\n",
       "==============================================================================\n",
       "\n",
       "Notes:\n",
       "[1] Standard Errors assume that the covariance matrix of the errors is correctly specified.\n",
       "[2] The condition number is large, 1.88e+03. This might indicate that there are\n",
       "strong multicollinearity or other numerical problems.\n",
       "\"\"\""
      ]
     },
     "execution_count": 217,
     "metadata": {},
     "output_type": "execute_result"
    }
   ],
   "source": [
    "final_model.summary()"
   ]
  },
  {
   "cell_type": "markdown",
   "metadata": {},
   "source": [
    "Our final model has an R-squared value of .824."
   ]
  },
  {
   "cell_type": "markdown",
   "metadata": {},
   "source": [
    "# Create Functions for and Check Assumptions"
   ]
  },
  {
   "cell_type": "markdown",
   "metadata": {},
   "source": [
    "## Linearity"
   ]
  },
  {
   "cell_type": "code",
   "execution_count": 239,
   "metadata": {
    "ExecuteTime": {
     "end_time": "2022-03-01T17:01:35.002448Z",
     "start_time": "2022-03-01T17:01:34.991949Z"
    }
   },
   "outputs": [],
   "source": [
    "# Create a function for checking linearity\n",
    "def linearity(data, model):\n",
    "    X = data.drop('price', axis=1)\n",
    "    y = data['price']\n",
    "    X_train, X_test, y_train, y_test = train_test_split(X, y, test_size=.25,\n",
    "                                                       random_state = 42)\n",
    "    preds = model.predict(X_test)\n",
    "    fig, ax = plt.subplots()\n",
    "    fit_line = np.arange(y_test.min(), 15)\n",
    "    ax.plot(fit_line, fit_line, label='Perfect Fit', color = 'red')\n",
    "    ax.scatter(y_test, preds, alpha = .5)\n",
    "    ax.set_xlabel('Actual Price')\n",
    "    ax.set_ylabel('Predicted Price')\n",
    "    ax.legend"
   ]
  },
  {
   "cell_type": "code",
   "execution_count": 240,
   "metadata": {
    "ExecuteTime": {
     "end_time": "2022-03-01T17:01:35.623980Z",
     "start_time": "2022-03-01T17:01:35.463342Z"
    }
   },
   "outputs": [
    {
     "data": {
      "image/png": "[encoded data removed]",
      "text/plain": [
       "<Figure size 432x288 with 1 Axes>"
      ]
     },
     "metadata": {
      "needs_background": "light"
     },
     "output_type": "display_data"
    }
   ],
   "source": [
    "# Check linearity of our final dataset\n",
    "linearity(df_final, final_model)"
   ]
  },
  {
   "cell_type": "markdown",
   "metadata": {},
   "source": [
    "This model follows the linear assumption."
   ]
  },
  {
   "cell_type": "markdown",
   "metadata": {},
   "source": [
    "## Multicolinearity"
   ]
  },
  {
   "cell_type": "code",
   "execution_count": 220,
   "metadata": {
    "ExecuteTime": {
     "end_time": "2022-03-01T16:50:20.063515Z",
     "start_time": "2022-03-01T16:50:19.927311Z"
    },
    "scrolled": true
   },
   "outputs": [
    {
     "data": {
      "text/html": [
       "<div>\n",
       "<style scoped>\n",
       "    .dataframe tbody tr th:only-of-type {\n",
       "        vertical-align: middle;\n",
       "    }\n",
       "\n",
       "    .dataframe tbody tr th {\n",
       "        vertical-align: top;\n",
       "    }\n",
       "\n",
       "    .dataframe thead th {\n",
       "        text-align: right;\n",
       "    }\n",
       "</style>\n",
       "<table border=\"1\" class=\"dataframe\">\n",
       "  <thead>\n",
       "    <tr style=\"text-align: right;\">\n",
       "      <th></th>\n",
       "      <th>cc</th>\n",
       "    </tr>\n",
       "    <tr>\n",
       "      <th>pairs</th>\n",
       "      <th></th>\n",
       "    </tr>\n",
       "  </thead>\n",
       "  <tbody>\n",
       "  </tbody>\n",
       "</table>\n",
       "</div>"
      ],
      "text/plain": [
       "Empty DataFrame\n",
       "Columns: [cc]\n",
       "Index: []"
      ]
     },
     "execution_count": 220,
     "metadata": {},
     "output_type": "execute_result"
    }
   ],
   "source": [
    "# Check the dataset for highly correlated variables\n",
    "multicolinearity(df_final)"
   ]
  },
  {
   "cell_type": "markdown",
   "metadata": {},
   "source": [
    "There are no values higher than .7"
   ]
  },
  {
   "cell_type": "markdown",
   "metadata": {},
   "source": [
    "## Normality"
   ]
  },
  {
   "cell_type": "code",
   "execution_count": 221,
   "metadata": {
    "ExecuteTime": {
     "end_time": "2022-03-01T16:50:20.066889Z",
     "start_time": "2022-03-01T16:50:20.064576Z"
    }
   },
   "outputs": [],
   "source": [
    "# Create a function to check the normality of the model\n",
    "def normality(model):\n",
    "    fig = sm.graphics.qqplot(model.resid, \n",
    "                             dist=stats.norm, \n",
    "                             line='45', \n",
    "                             fit=True)"
   ]
  },
  {
   "cell_type": "code",
   "execution_count": 222,
   "metadata": {
    "ExecuteTime": {
     "end_time": "2022-03-01T16:50:20.156464Z",
     "start_time": "2022-03-01T16:50:20.068324Z"
    },
    "scrolled": false
   },
   "outputs": [
    {
     "data": {
      "image/png": "[encoded data removed]",
      "text/plain": [
       "<Figure size 432x288 with 1 Axes>"
      ]
     },
     "metadata": {
      "needs_background": "light"
     },
     "output_type": "display_data"
    }
   ],
   "source": [
    "# Check the normality of our final model\n",
    "normality(final_model)"
   ]
  },
  {
   "cell_type": "markdown",
   "metadata": {},
   "source": [
    "We do have some outliers, but we can assume normality with this model."
   ]
  },
  {
   "cell_type": "markdown",
   "metadata": {},
   "source": [
    "## Homoscedasticity"
   ]
  },
  {
   "cell_type": "code",
   "execution_count": 241,
   "metadata": {
    "ExecuteTime": {
     "end_time": "2022-03-01T17:02:11.486554Z",
     "start_time": "2022-03-01T17:02:11.478378Z"
    }
   },
   "outputs": [],
   "source": [
    "# Create a function for checking homoscedasticity\n",
    "def homoscedasticity(data, model):\n",
    "    X = data.drop('price', axis=1)\n",
    "    y = data['price']\n",
    "    X_train, X_test, y_train, y_test = train_test_split(X, y, test_size=.25,\n",
    "                                                       random_state = 42)\n",
    "    preds = model.predict(X_test)\n",
    "    residuals = (y_test - preds)\n",
    "    fig, ax = plt.subplots()\n",
    "    ax.scatter(preds, residuals, alpha=.5)\n",
    "    ax.plot(preds, [0 for i in range(len(X_test))], color='red')\n",
    "    ax.set_xlabel('Predicted Value')\n",
    "    ax.set_ylabel('Actual Predicted Value')"
   ]
  },
  {
   "cell_type": "code",
   "execution_count": 242,
   "metadata": {
    "ExecuteTime": {
     "end_time": "2022-03-01T17:02:12.113065Z",
     "start_time": "2022-03-01T17:02:11.918063Z"
    }
   },
   "outputs": [
    {
     "data": {
      "image/png": "[encoded data removed]",
      "text/plain": [
       "<Figure size 432x288 with 1 Axes>"
      ]
     },
     "metadata": {
      "needs_background": "light"
     },
     "output_type": "display_data"
    }
   ],
   "source": [
    "# Check for homoscedasticity\n",
    "homoscedasticity(df_final, final_model)"
   ]
  },
  {
   "cell_type": "markdown",
   "metadata": {},
   "source": [
    "This model does not violate the homoscedasticity assumption."
   ]
  },
  {
   "cell_type": "markdown",
   "metadata": {},
   "source": [
    "# Interpreting the Coefficients"
   ]
  },
  {
   "cell_type": "code",
   "execution_count": 243,
   "metadata": {
    "ExecuteTime": {
     "end_time": "2022-03-01T17:02:50.675578Z",
     "start_time": "2022-03-01T17:02:50.605611Z"
    }
   },
   "outputs": [
    {
     "data": {
      "text/html": [
       "<table class=\"simpletable\">\n",
       "<caption>OLS Regression Results</caption>\n",
       "<tr>\n",
       "  <th>Dep. Variable:</th>          <td>price</td>      <th>  R-squared:         </th> <td>   0.824</td>\n",
       "</tr>\n",
       "<tr>\n",
       "  <th>Model:</th>                   <td>OLS</td>       <th>  Adj. R-squared:    </th> <td>   0.823</td>\n",
       "</tr>\n",
       "<tr>\n",
       "  <th>Method:</th>             <td>Least Squares</td>  <th>  F-statistic:       </th> <td>   1280.</td>\n",
       "</tr>\n",
       "<tr>\n",
       "  <th>Date:</th>             <td>Tue, 01 Mar 2022</td> <th>  Prob (F-statistic):</th>  <td>  0.00</td> \n",
       "</tr>\n",
       "<tr>\n",
       "  <th>Time:</th>                 <td>09:02:50</td>     <th>  Log-Likelihood:    </th> <td>  3687.6</td>\n",
       "</tr>\n",
       "<tr>\n",
       "  <th>No. Observations:</th>      <td> 21179</td>      <th>  AIC:               </th> <td>  -7219.</td>\n",
       "</tr>\n",
       "<tr>\n",
       "  <th>Df Residuals:</th>          <td> 21101</td>      <th>  BIC:               </th> <td>  -6598.</td>\n",
       "</tr>\n",
       "<tr>\n",
       "  <th>Df Model:</th>              <td>    77</td>      <th>                     </th>     <td> </td>   \n",
       "</tr>\n",
       "<tr>\n",
       "  <th>Covariance Type:</th>      <td>nonrobust</td>    <th>                     </th>     <td> </td>   \n",
       "</tr>\n",
       "</table>\n",
       "<table class=\"simpletable\">\n",
       "<tr>\n",
       "           <td></td>              <th>coef</th>     <th>std err</th>      <th>t</th>      <th>P>|t|</th>  <th>[0.025</th>    <th>0.975]</th>  \n",
       "</tr>\n",
       "<tr>\n",
       "  <th>Intercept</th>           <td>    9.7830</td> <td>    0.022</td> <td>  450.079</td> <td> 0.000</td> <td>    9.740</td> <td>    9.826</td>\n",
       "</tr>\n",
       "<tr>\n",
       "  <th>sqft_lot_log</th>        <td>    0.1032</td> <td>    0.002</td> <td>   45.911</td> <td> 0.000</td> <td>    0.099</td> <td>    0.108</td>\n",
       "</tr>\n",
       "<tr>\n",
       "  <th>bedrooms</th>            <td>    0.0350</td> <td>    0.002</td> <td>   18.888</td> <td> 0.000</td> <td>    0.031</td> <td>    0.039</td>\n",
       "</tr>\n",
       "<tr>\n",
       "  <th>bathrooms</th>           <td>    0.1246</td> <td>    0.003</td> <td>   40.893</td> <td> 0.000</td> <td>    0.119</td> <td>    0.131</td>\n",
       "</tr>\n",
       "<tr>\n",
       "  <th>floors</th>              <td>    0.0302</td> <td>    0.004</td> <td>    8.289</td> <td> 0.000</td> <td>    0.023</td> <td>    0.037</td>\n",
       "</tr>\n",
       "<tr>\n",
       "  <th>grade</th>               <td>    0.1761</td> <td>    0.002</td> <td>   91.177</td> <td> 0.000</td> <td>    0.172</td> <td>    0.180</td>\n",
       "</tr>\n",
       "<tr>\n",
       "  <th>renovated</th>           <td>    0.0516</td> <td>    0.008</td> <td>    6.179</td> <td> 0.000</td> <td>    0.035</td> <td>    0.068</td>\n",
       "</tr>\n",
       "<tr>\n",
       "  <th>waterfront_YES</th>      <td>    0.6117</td> <td>    0.024</td> <td>   25.918</td> <td> 0.000</td> <td>    0.565</td> <td>    0.658</td>\n",
       "</tr>\n",
       "<tr>\n",
       "  <th>condition_Fair</th>      <td>   -0.1612</td> <td>    0.016</td> <td>  -10.094</td> <td> 0.000</td> <td>   -0.192</td> <td>   -0.130</td>\n",
       "</tr>\n",
       "<tr>\n",
       "  <th>condition_Good</th>      <td>    0.0368</td> <td>    0.004</td> <td>   10.127</td> <td> 0.000</td> <td>    0.030</td> <td>    0.044</td>\n",
       "</tr>\n",
       "<tr>\n",
       "  <th>condition_Poor</th>      <td>   -0.2419</td> <td>    0.038</td> <td>   -6.345</td> <td> 0.000</td> <td>   -0.317</td> <td>   -0.167</td>\n",
       "</tr>\n",
       "<tr>\n",
       "  <th>condition_Very_Good</th> <td>    0.0957</td> <td>    0.006</td> <td>   16.581</td> <td> 0.000</td> <td>    0.084</td> <td>    0.107</td>\n",
       "</tr>\n",
       "<tr>\n",
       "  <th>zipcode_98004</th>       <td>    1.1039</td> <td>    0.014</td> <td>   76.505</td> <td> 0.000</td> <td>    1.076</td> <td>    1.132</td>\n",
       "</tr>\n",
       "<tr>\n",
       "  <th>zipcode_98005</th>       <td>    0.7298</td> <td>    0.017</td> <td>   43.343</td> <td> 0.000</td> <td>    0.697</td> <td>    0.763</td>\n",
       "</tr>\n",
       "<tr>\n",
       "  <th>zipcode_98006</th>       <td>    0.6684</td> <td>    0.011</td> <td>   61.630</td> <td> 0.000</td> <td>    0.647</td> <td>    0.690</td>\n",
       "</tr>\n",
       "<tr>\n",
       "  <th>zipcode_98007</th>       <td>    0.6334</td> <td>    0.018</td> <td>   35.346</td> <td> 0.000</td> <td>    0.598</td> <td>    0.669</td>\n",
       "</tr>\n",
       "<tr>\n",
       "  <th>zipcode_98008</th>       <td>    0.6656</td> <td>    0.013</td> <td>   50.012</td> <td> 0.000</td> <td>    0.640</td> <td>    0.692</td>\n",
       "</tr>\n",
       "<tr>\n",
       "  <th>zipcode_98010</th>       <td>    0.2324</td> <td>    0.021</td> <td>   11.008</td> <td> 0.000</td> <td>    0.191</td> <td>    0.274</td>\n",
       "</tr>\n",
       "<tr>\n",
       "  <th>zipcode_98011</th>       <td>    0.4782</td> <td>    0.015</td> <td>   30.995</td> <td> 0.000</td> <td>    0.448</td> <td>    0.508</td>\n",
       "</tr>\n",
       "<tr>\n",
       "  <th>zipcode_98014</th>       <td>    0.2769</td> <td>    0.019</td> <td>   14.339</td> <td> 0.000</td> <td>    0.239</td> <td>    0.315</td>\n",
       "</tr>\n",
       "<tr>\n",
       "  <th>zipcode_98019</th>       <td>    0.3340</td> <td>    0.016</td> <td>   21.280</td> <td> 0.000</td> <td>    0.303</td> <td>    0.365</td>\n",
       "</tr>\n",
       "<tr>\n",
       "  <th>zipcode_98022</th>       <td>    0.0524</td> <td>    0.014</td> <td>    3.642</td> <td> 0.000</td> <td>    0.024</td> <td>    0.081</td>\n",
       "</tr>\n",
       "<tr>\n",
       "  <th>zipcode_98024</th>       <td>    0.3792</td> <td>    0.024</td> <td>   15.820</td> <td> 0.000</td> <td>    0.332</td> <td>    0.426</td>\n",
       "</tr>\n",
       "<tr>\n",
       "  <th>zipcode_98027</th>       <td>    0.5220</td> <td>    0.011</td> <td>   46.120</td> <td> 0.000</td> <td>    0.500</td> <td>    0.544</td>\n",
       "</tr>\n",
       "<tr>\n",
       "  <th>zipcode_98028</th>       <td>    0.4391</td> <td>    0.013</td> <td>   33.519</td> <td> 0.000</td> <td>    0.413</td> <td>    0.465</td>\n",
       "</tr>\n",
       "<tr>\n",
       "  <th>zipcode_98029</th>       <td>    0.6049</td> <td>    0.013</td> <td>   47.902</td> <td> 0.000</td> <td>    0.580</td> <td>    0.630</td>\n",
       "</tr>\n",
       "<tr>\n",
       "  <th>zipcode_98030</th>       <td>    0.0601</td> <td>    0.014</td> <td>    4.400</td> <td> 0.000</td> <td>    0.033</td> <td>    0.087</td>\n",
       "</tr>\n",
       "<tr>\n",
       "  <th>zipcode_98031</th>       <td>    0.0684</td> <td>    0.013</td> <td>    5.143</td> <td> 0.000</td> <td>    0.042</td> <td>    0.094</td>\n",
       "</tr>\n",
       "<tr>\n",
       "  <th>zipcode_98032</th>       <td>   -0.0400</td> <td>    0.019</td> <td>   -2.117</td> <td> 0.034</td> <td>   -0.077</td> <td>   -0.003</td>\n",
       "</tr>\n",
       "<tr>\n",
       "  <th>zipcode_98033</th>       <td>    0.7959</td> <td>    0.011</td> <td>   70.768</td> <td> 0.000</td> <td>    0.774</td> <td>    0.818</td>\n",
       "</tr>\n",
       "<tr>\n",
       "  <th>zipcode_98034</th>       <td>    0.5352</td> <td>    0.010</td> <td>   52.874</td> <td> 0.000</td> <td>    0.515</td> <td>    0.555</td>\n",
       "</tr>\n",
       "<tr>\n",
       "  <th>zipcode_98038</th>       <td>    0.1947</td> <td>    0.010</td> <td>   19.803</td> <td> 0.000</td> <td>    0.175</td> <td>    0.214</td>\n",
       "</tr>\n",
       "<tr>\n",
       "  <th>zipcode_98039</th>       <td>    1.2906</td> <td>    0.048</td> <td>   26.709</td> <td> 0.000</td> <td>    1.196</td> <td>    1.385</td>\n",
       "</tr>\n",
       "<tr>\n",
       "  <th>zipcode_98040</th>       <td>    0.9083</td> <td>    0.014</td> <td>   63.412</td> <td> 0.000</td> <td>    0.880</td> <td>    0.936</td>\n",
       "</tr>\n",
       "<tr>\n",
       "  <th>zipcode_98042</th>       <td>    0.0696</td> <td>    0.010</td> <td>    6.930</td> <td> 0.000</td> <td>    0.050</td> <td>    0.089</td>\n",
       "</tr>\n",
       "<tr>\n",
       "  <th>zipcode_98045</th>       <td>    0.2985</td> <td>    0.015</td> <td>   20.229</td> <td> 0.000</td> <td>    0.270</td> <td>    0.327</td>\n",
       "</tr>\n",
       "<tr>\n",
       "  <th>zipcode_98052</th>       <td>    0.6506</td> <td>    0.010</td> <td>   65.589</td> <td> 0.000</td> <td>    0.631</td> <td>    0.670</td>\n",
       "</tr>\n",
       "<tr>\n",
       "  <th>zipcode_98053</th>       <td>    0.6354</td> <td>    0.012</td> <td>   55.194</td> <td> 0.000</td> <td>    0.613</td> <td>    0.658</td>\n",
       "</tr>\n",
       "<tr>\n",
       "  <th>zipcode_98055</th>       <td>    0.1580</td> <td>    0.013</td> <td>   11.750</td> <td> 0.000</td> <td>    0.132</td> <td>    0.184</td>\n",
       "</tr>\n",
       "<tr>\n",
       "  <th>zipcode_98056</th>       <td>    0.3516</td> <td>    0.011</td> <td>   31.048</td> <td> 0.000</td> <td>    0.329</td> <td>    0.374</td>\n",
       "</tr>\n",
       "<tr>\n",
       "  <th>zipcode_98058</th>       <td>    0.1613</td> <td>    0.011</td> <td>   14.986</td> <td> 0.000</td> <td>    0.140</td> <td>    0.182</td>\n",
       "</tr>\n",
       "<tr>\n",
       "  <th>zipcode_98059</th>       <td>    0.3822</td> <td>    0.011</td> <td>   35.779</td> <td> 0.000</td> <td>    0.361</td> <td>    0.403</td>\n",
       "</tr>\n",
       "<tr>\n",
       "  <th>zipcode_98065</th>       <td>    0.5164</td> <td>    0.013</td> <td>   40.551</td> <td> 0.000</td> <td>    0.491</td> <td>    0.541</td>\n",
       "</tr>\n",
       "<tr>\n",
       "  <th>zipcode_98070</th>       <td>    0.2811</td> <td>    0.020</td> <td>   13.904</td> <td> 0.000</td> <td>    0.241</td> <td>    0.321</td>\n",
       "</tr>\n",
       "<tr>\n",
       "  <th>zipcode_98072</th>       <td>    0.4731</td> <td>    0.013</td> <td>   35.308</td> <td> 0.000</td> <td>    0.447</td> <td>    0.499</td>\n",
       "</tr>\n",
       "<tr>\n",
       "  <th>zipcode_98074</th>       <td>    0.5666</td> <td>    0.011</td> <td>   50.983</td> <td> 0.000</td> <td>    0.545</td> <td>    0.588</td>\n",
       "</tr>\n",
       "<tr>\n",
       "  <th>zipcode_98075</th>       <td>    0.6102</td> <td>    0.012</td> <td>   50.369</td> <td> 0.000</td> <td>    0.586</td> <td>    0.634</td>\n",
       "</tr>\n",
       "<tr>\n",
       "  <th>zipcode_98077</th>       <td>    0.4130</td> <td>    0.016</td> <td>   26.324</td> <td> 0.000</td> <td>    0.382</td> <td>    0.444</td>\n",
       "</tr>\n",
       "<tr>\n",
       "  <th>zipcode_98102</th>       <td>    0.9340</td> <td>    0.022</td> <td>   42.889</td> <td> 0.000</td> <td>    0.891</td> <td>    0.977</td>\n",
       "</tr>\n",
       "<tr>\n",
       "  <th>zipcode_98103</th>       <td>    0.8081</td> <td>    0.011</td> <td>   76.469</td> <td> 0.000</td> <td>    0.787</td> <td>    0.829</td>\n",
       "</tr>\n",
       "<tr>\n",
       "  <th>zipcode_98105</th>       <td>    0.9379</td> <td>    0.015</td> <td>   60.940</td> <td> 0.000</td> <td>    0.908</td> <td>    0.968</td>\n",
       "</tr>\n",
       "<tr>\n",
       "  <th>zipcode_98106</th>       <td>    0.3222</td> <td>    0.012</td> <td>   25.996</td> <td> 0.000</td> <td>    0.298</td> <td>    0.346</td>\n",
       "</tr>\n",
       "<tr>\n",
       "  <th>zipcode_98107</th>       <td>    0.8150</td> <td>    0.014</td> <td>   57.918</td> <td> 0.000</td> <td>    0.787</td> <td>    0.843</td>\n",
       "</tr>\n",
       "<tr>\n",
       "  <th>zipcode_98108</th>       <td>    0.3651</td> <td>    0.016</td> <td>   22.887</td> <td> 0.000</td> <td>    0.334</td> <td>    0.396</td>\n",
       "</tr>\n",
       "<tr>\n",
       "  <th>zipcode_98109</th>       <td>    0.9942</td> <td>    0.021</td> <td>   46.729</td> <td> 0.000</td> <td>    0.953</td> <td>    1.036</td>\n",
       "</tr>\n",
       "<tr>\n",
       "  <th>zipcode_98112</th>       <td>    1.0139</td> <td>    0.015</td> <td>   66.882</td> <td> 0.000</td> <td>    0.984</td> <td>    1.044</td>\n",
       "</tr>\n",
       "<tr>\n",
       "  <th>zipcode_98115</th>       <td>    0.8285</td> <td>    0.010</td> <td>   80.283</td> <td> 0.000</td> <td>    0.808</td> <td>    0.849</td>\n",
       "</tr>\n",
       "<tr>\n",
       "  <th>zipcode_98116</th>       <td>    0.7884</td> <td>    0.013</td> <td>   61.813</td> <td> 0.000</td> <td>    0.763</td> <td>    0.813</td>\n",
       "</tr>\n",
       "<tr>\n",
       "  <th>zipcode_98117</th>       <td>    0.8121</td> <td>    0.011</td> <td>   76.808</td> <td> 0.000</td> <td>    0.791</td> <td>    0.833</td>\n",
       "</tr>\n",
       "<tr>\n",
       "  <th>zipcode_98118</th>       <td>    0.4840</td> <td>    0.011</td> <td>   45.137</td> <td> 0.000</td> <td>    0.463</td> <td>    0.505</td>\n",
       "</tr>\n",
       "<tr>\n",
       "  <th>zipcode_98119</th>       <td>    0.9745</td> <td>    0.017</td> <td>   57.683</td> <td> 0.000</td> <td>    0.941</td> <td>    1.008</td>\n",
       "</tr>\n",
       "<tr>\n",
       "  <th>zipcode_98122</th>       <td>    0.7848</td> <td>    0.014</td> <td>   56.535</td> <td> 0.000</td> <td>    0.758</td> <td>    0.812</td>\n",
       "</tr>\n",
       "<tr>\n",
       "  <th>zipcode_98125</th>       <td>    0.5652</td> <td>    0.011</td> <td>   49.462</td> <td> 0.000</td> <td>    0.543</td> <td>    0.588</td>\n",
       "</tr>\n",
       "<tr>\n",
       "  <th>zipcode_98126</th>       <td>    0.5588</td> <td>    0.012</td> <td>   45.587</td> <td> 0.000</td> <td>    0.535</td> <td>    0.583</td>\n",
       "</tr>\n",
       "<tr>\n",
       "  <th>zipcode_98133</th>       <td>    0.4449</td> <td>    0.011</td> <td>   42.020</td> <td> 0.000</td> <td>    0.424</td> <td>    0.466</td>\n",
       "</tr>\n",
       "<tr>\n",
       "  <th>zipcode_98136</th>       <td>    0.7063</td> <td>    0.014</td> <td>   50.888</td> <td> 0.000</td> <td>    0.679</td> <td>    0.733</td>\n",
       "</tr>\n",
       "<tr>\n",
       "  <th>zipcode_98144</th>       <td>    0.6969</td> <td>    0.013</td> <td>   54.371</td> <td> 0.000</td> <td>    0.672</td> <td>    0.722</td>\n",
       "</tr>\n",
       "<tr>\n",
       "  <th>zipcode_98146</th>       <td>    0.2959</td> <td>    0.013</td> <td>   22.539</td> <td> 0.000</td> <td>    0.270</td> <td>    0.322</td>\n",
       "</tr>\n",
       "<tr>\n",
       "  <th>zipcode_98148</th>       <td>    0.1453</td> <td>    0.028</td> <td>    5.282</td> <td> 0.000</td> <td>    0.091</td> <td>    0.199</td>\n",
       "</tr>\n",
       "<tr>\n",
       "  <th>zipcode_98155</th>       <td>    0.4120</td> <td>    0.011</td> <td>   37.540</td> <td> 0.000</td> <td>    0.390</td> <td>    0.434</td>\n",
       "</tr>\n",
       "<tr>\n",
       "  <th>zipcode_98166</th>       <td>    0.3391</td> <td>    0.014</td> <td>   24.423</td> <td> 0.000</td> <td>    0.312</td> <td>    0.366</td>\n",
       "</tr>\n",
       "<tr>\n",
       "  <th>zipcode_98168</th>       <td>    0.0652</td> <td>    0.014</td> <td>    4.814</td> <td> 0.000</td> <td>    0.039</td> <td>    0.092</td>\n",
       "</tr>\n",
       "<tr>\n",
       "  <th>zipcode_98177</th>       <td>    0.6391</td> <td>    0.014</td> <td>   45.539</td> <td> 0.000</td> <td>    0.612</td> <td>    0.667</td>\n",
       "</tr>\n",
       "<tr>\n",
       "  <th>zipcode_98178</th>       <td>    0.1771</td> <td>    0.014</td> <td>   12.908</td> <td> 0.000</td> <td>    0.150</td> <td>    0.204</td>\n",
       "</tr>\n",
       "<tr>\n",
       "  <th>zipcode_98188</th>       <td>    0.0857</td> <td>    0.018</td> <td>    4.707</td> <td> 0.000</td> <td>    0.050</td> <td>    0.121</td>\n",
       "</tr>\n",
       "<tr>\n",
       "  <th>zipcode_98198</th>       <td>    0.0932</td> <td>    0.013</td> <td>    7.065</td> <td> 0.000</td> <td>    0.067</td> <td>    0.119</td>\n",
       "</tr>\n",
       "<tr>\n",
       "  <th>zipcode_98199</th>       <td>    0.8842</td> <td>    0.013</td> <td>   67.308</td> <td> 0.000</td> <td>    0.858</td> <td>    0.910</td>\n",
       "</tr>\n",
       "<tr>\n",
       "  <th>age</th>                 <td>    0.0012</td> <td> 8.38e-05</td> <td>   14.715</td> <td> 0.000</td> <td>    0.001</td> <td>    0.001</td>\n",
       "</tr>\n",
       "</table>\n",
       "<table class=\"simpletable\">\n",
       "<tr>\n",
       "  <th>Omnibus:</th>       <td>1064.434</td> <th>  Durbin-Watson:     </th> <td>   1.990</td>\n",
       "</tr>\n",
       "<tr>\n",
       "  <th>Prob(Omnibus):</th>  <td> 0.000</td>  <th>  Jarque-Bera (JB):  </th> <td>3629.041</td>\n",
       "</tr>\n",
       "<tr>\n",
       "  <th>Skew:</th>           <td>-0.151</td>  <th>  Prob(JB):          </th> <td>    0.00</td>\n",
       "</tr>\n",
       "<tr>\n",
       "  <th>Kurtosis:</th>       <td> 5.005</td>  <th>  Cond. No.          </th> <td>1.88e+03</td>\n",
       "</tr>\n",
       "</table><br/><br/>Notes:<br/>[1] Standard Errors assume that the covariance matrix of the errors is correctly specified.<br/>[2] The condition number is large, 1.88e+03. This might indicate that there are<br/>strong multicollinearity or other numerical problems."
      ],
      "text/plain": [
       "<class 'statsmodels.iolib.summary.Summary'>\n",
       "\"\"\"\n",
       "                            OLS Regression Results                            \n",
       "==============================================================================\n",
       "Dep. Variable:                  price   R-squared:                       0.824\n",
       "Model:                            OLS   Adj. R-squared:                  0.823\n",
       "Method:                 Least Squares   F-statistic:                     1280.\n",
       "Date:                Tue, 01 Mar 2022   Prob (F-statistic):               0.00\n",
       "Time:                        09:02:50   Log-Likelihood:                 3687.6\n",
       "No. Observations:               21179   AIC:                            -7219.\n",
       "Df Residuals:                   21101   BIC:                            -6598.\n",
       "Df Model:                          77                                         \n",
       "Covariance Type:            nonrobust                                         \n",
       "=======================================================================================\n",
       "                          coef    std err          t      P>|t|      [0.025      0.975]\n",
       "---------------------------------------------------------------------------------------\n",
       "Intercept               9.7830      0.022    450.079      0.000       9.740       9.826\n",
       "sqft_lot_log            0.1032      0.002     45.911      0.000       0.099       0.108\n",
       "bedrooms                0.0350      0.002     18.888      0.000       0.031       0.039\n",
       "bathrooms               0.1246      0.003     40.893      0.000       0.119       0.131\n",
       "floors                  0.0302      0.004      8.289      0.000       0.023       0.037\n",
       "grade                   0.1761      0.002     91.177      0.000       0.172       0.180\n",
       "renovated               0.0516      0.008      6.179      0.000       0.035       0.068\n",
       "waterfront_YES          0.6117      0.024     25.918      0.000       0.565       0.658\n",
       "condition_Fair         -0.1612      0.016    -10.094      0.000      -0.192      -0.130\n",
       "condition_Good          0.0368      0.004     10.127      0.000       0.030       0.044\n",
       "condition_Poor         -0.2419      0.038     -6.345      0.000      -0.317      -0.167\n",
       "condition_Very_Good     0.0957      0.006     16.581      0.000       0.084       0.107\n",
       "zipcode_98004           1.1039      0.014     76.505      0.000       1.076       1.132\n",
       "zipcode_98005           0.7298      0.017     43.343      0.000       0.697       0.763\n",
       "zipcode_98006           0.6684      0.011     61.630      0.000       0.647       0.690\n",
       "zipcode_98007           0.6334      0.018     35.346      0.000       0.598       0.669\n",
       "zipcode_98008           0.6656      0.013     50.012      0.000       0.640       0.692\n",
       "zipcode_98010           0.2324      0.021     11.008      0.000       0.191       0.274\n",
       "zipcode_98011           0.4782      0.015     30.995      0.000       0.448       0.508\n",
       "zipcode_98014           0.2769      0.019     14.339      0.000       0.239       0.315\n",
       "zipcode_98019           0.3340      0.016     21.280      0.000       0.303       0.365\n",
       "zipcode_98022           0.0524      0.014      3.642      0.000       0.024       0.081\n",
       "zipcode_98024           0.3792      0.024     15.820      0.000       0.332       0.426\n",
       "zipcode_98027           0.5220      0.011     46.120      0.000       0.500       0.544\n",
       "zipcode_98028           0.4391      0.013     33.519      0.000       0.413       0.465\n",
       "zipcode_98029           0.6049      0.013     47.902      0.000       0.580       0.630\n",
       "zipcode_98030           0.0601      0.014      4.400      0.000       0.033       0.087\n",
       "zipcode_98031           0.0684      0.013      5.143      0.000       0.042       0.094\n",
       "zipcode_98032          -0.0400      0.019     -2.117      0.034      -0.077      -0.003\n",
       "zipcode_98033           0.7959      0.011     70.768      0.000       0.774       0.818\n",
       "zipcode_98034           0.5352      0.010     52.874      0.000       0.515       0.555\n",
       "zipcode_98038           0.1947      0.010     19.803      0.000       0.175       0.214\n",
       "zipcode_98039           1.2906      0.048     26.709      0.000       1.196       1.385\n",
       "zipcode_98040           0.9083      0.014     63.412      0.000       0.880       0.936\n",
       "zipcode_98042           0.0696      0.010      6.930      0.000       0.050       0.089\n",
       "zipcode_98045           0.2985      0.015     20.229      0.000       0.270       0.327\n",
       "zipcode_98052           0.6506      0.010     65.589      0.000       0.631       0.670\n",
       "zipcode_98053           0.6354      0.012     55.194      0.000       0.613       0.658\n",
       "zipcode_98055           0.1580      0.013     11.750      0.000       0.132       0.184\n",
       "zipcode_98056           0.3516      0.011     31.048      0.000       0.329       0.374\n",
       "zipcode_98058           0.1613      0.011     14.986      0.000       0.140       0.182\n",
       "zipcode_98059           0.3822      0.011     35.779      0.000       0.361       0.403\n",
       "zipcode_98065           0.5164      0.013     40.551      0.000       0.491       0.541\n",
       "zipcode_98070           0.2811      0.020     13.904      0.000       0.241       0.321\n",
       "zipcode_98072           0.4731      0.013     35.308      0.000       0.447       0.499\n",
       "zipcode_98074           0.5666      0.011     50.983      0.000       0.545       0.588\n",
       "zipcode_98075           0.6102      0.012     50.369      0.000       0.586       0.634\n",
       "zipcode_98077           0.4130      0.016     26.324      0.000       0.382       0.444\n",
       "zipcode_98102           0.9340      0.022     42.889      0.000       0.891       0.977\n",
       "zipcode_98103           0.8081      0.011     76.469      0.000       0.787       0.829\n",
       "zipcode_98105           0.9379      0.015     60.940      0.000       0.908       0.968\n",
       "zipcode_98106           0.3222      0.012     25.996      0.000       0.298       0.346\n",
       "zipcode_98107           0.8150      0.014     57.918      0.000       0.787       0.843\n",
       "zipcode_98108           0.3651      0.016     22.887      0.000       0.334       0.396\n",
       "zipcode_98109           0.9942      0.021     46.729      0.000       0.953       1.036\n",
       "zipcode_98112           1.0139      0.015     66.882      0.000       0.984       1.044\n",
       "zipcode_98115           0.8285      0.010     80.283      0.000       0.808       0.849\n",
       "zipcode_98116           0.7884      0.013     61.813      0.000       0.763       0.813\n",
       "zipcode_98117           0.8121      0.011     76.808      0.000       0.791       0.833\n",
       "zipcode_98118           0.4840      0.011     45.137      0.000       0.463       0.505\n",
       "zipcode_98119           0.9745      0.017     57.683      0.000       0.941       1.008\n",
       "zipcode_98122           0.7848      0.014     56.535      0.000       0.758       0.812\n",
       "zipcode_98125           0.5652      0.011     49.462      0.000       0.543       0.588\n",
       "zipcode_98126           0.5588      0.012     45.587      0.000       0.535       0.583\n",
       "zipcode_98133           0.4449      0.011     42.020      0.000       0.424       0.466\n",
       "zipcode_98136           0.7063      0.014     50.888      0.000       0.679       0.733\n",
       "zipcode_98144           0.6969      0.013     54.371      0.000       0.672       0.722\n",
       "zipcode_98146           0.2959      0.013     22.539      0.000       0.270       0.322\n",
       "zipcode_98148           0.1453      0.028      5.282      0.000       0.091       0.199\n",
       "zipcode_98155           0.4120      0.011     37.540      0.000       0.390       0.434\n",
       "zipcode_98166           0.3391      0.014     24.423      0.000       0.312       0.366\n",
       "zipcode_98168           0.0652      0.014      4.814      0.000       0.039       0.092\n",
       "zipcode_98177           0.6391      0.014     45.539      0.000       0.612       0.667\n",
       "zipcode_98178           0.1771      0.014     12.908      0.000       0.150       0.204\n",
       "zipcode_98188           0.0857      0.018      4.707      0.000       0.050       0.121\n",
       "zipcode_98198           0.0932      0.013      7.065      0.000       0.067       0.119\n",
       "zipcode_98199           0.8842      0.013     67.308      0.000       0.858       0.910\n",
       "age                     0.0012   8.38e-05     14.715      0.000       0.001       0.001\n",
       "==============================================================================\n",
       "Omnibus:                     1064.434   Durbin-Watson:                   1.990\n",
       "Prob(Omnibus):                  0.000   Jarque-Bera (JB):             3629.041\n",
       "Skew:                          -0.151   Prob(JB):                         0.00\n",
       "Kurtosis:                       5.005   Cond. No.                     1.88e+03\n",
       "==============================================================================\n",
       "\n",
       "Notes:\n",
       "[1] Standard Errors assume that the covariance matrix of the errors is correctly specified.\n",
       "[2] The condition number is large, 1.88e+03. This might indicate that there are\n",
       "strong multicollinearity or other numerical problems.\n",
       "\"\"\""
      ]
     },
     "execution_count": 243,
     "metadata": {},
     "output_type": "execute_result"
    }
   ],
   "source": [
    "final_model.summary()"
   ]
  },
  {
   "cell_type": "markdown",
   "metadata": {},
   "source": [
    "## Log Transformation Effects on Coefficients"
   ]
  },
  {
   "cell_type": "markdown",
   "metadata": {},
   "source": [
    "We used a log transformation on our dependent variable (price), meaning our coefficients will be in terms of percentages rather than units.  For example, our variable \"bedrooms\" has a coefficient of 0.0350, meaning that one unit increase in bedrooms results in a 3.5% increase in price.  Sqft_lot was also log transformed, so this coefficient tells us that a 1% increase in square feet results in a 10.32% increase in price."
   ]
  },
  {
   "cell_type": "markdown",
   "metadata": {},
   "source": [
    "##  Zipcodes"
   ]
  },
  {
   "cell_type": "markdown",
   "metadata": {},
   "source": [
    "The three zipcodes that have the highest positive impact on price are 98112, 98004 and 98039 with respective coefficients of 101.39%, 110.39%, and 129.06%"
   ]
  },
  {
   "cell_type": "markdown",
   "metadata": {},
   "source": [
    "The three zipcodes with the lowest impact on price are 98168, 98030, and 98022 with respective coefficients of 6.52%, 6.01%, and 5.24%."
   ]
  },
  {
   "cell_type": "markdown",
   "metadata": {},
   "source": [
    "There is one zipcode with a negative coefficient (-4%), 98032."
   ]
  },
  {
   "cell_type": "markdown",
   "metadata": {},
   "source": [
    "# Conclusion"
   ]
  },
  {
   "cell_type": "markdown",
   "metadata": {},
   "source": [
    "According to our model, zipcodes can have a huge impact on prices, increasing them by over a hundred percent, or a relatively small impact, under 10 percent. Our Real Estate Group can use these zipcode coefficients to help potential buyers look for homes in neighborhoods that will stay within their price range."
   ]
  },
  {
   "cell_type": "markdown",
   "metadata": {},
   "source": [
    "## Next Steps"
   ]
  },
  {
   "cell_type": "markdown",
   "metadata": {},
   "source": [
    "One next step could be looking into the relationship between the condition of houses, age of houses, and zipcode.  We could look for the neighborhoods that have positive conditions and newer homes without having a large zipcode coefficient."
   ]
  },
  {
   "cell_type": "markdown",
   "metadata": {},
   "source": [
    "We could also look into the latitude and longitude data in order to dive a little deeper into how location affects home prices in King County."
   ]
  },
  {
   "cell_type": "code",
   "execution_count": null,
   "metadata": {},
   "outputs": [],
   "source": []
  }
 ],
 "metadata": {
  "kernelspec": {
   "display_name": "Python 3",
   "language": "python",
   "name": "python3"
  },
  "language_info": {
   "codemirror_mode": {
    "name": "ipython",
    "version": 3
   },
   "file_extension": ".py",
   "mimetype": "text/x-python",
   "name": "python",
   "nbconvert_exporter": "python",
   "pygments_lexer": "ipython3",
   "version": "3.8.5"
  },
  "toc": {
   "base_numbering": 1,
   "nav_menu": {},
   "number_sections": false,
   "sideBar": true,
   "skip_h1_title": false,
   "title_cell": "Table of Contents",
   "title_sidebar": "Contents",
   "toc_cell": true,
   "toc_position": {},
   "toc_section_display": true,
   "toc_window_display": false
  }
 },
 "nbformat": 4,
 "nbformat_minor": 2
}
